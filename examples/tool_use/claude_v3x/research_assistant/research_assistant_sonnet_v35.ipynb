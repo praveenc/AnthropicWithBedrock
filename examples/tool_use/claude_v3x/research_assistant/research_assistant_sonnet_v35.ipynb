{
 "cells": [
  {
   "cell_type": "markdown",
   "id": "540e4b53-29ca-44f8-af7d-0a91370424a2",
   "metadata": {},
   "source": [
    "# Research Assistant Agent w/ Claude Sonnet 3.5\n",
    "\n",
    "In this notebook, we demonstrate how to build tools that make calls to external apis to get information.\n",
    "\n",
    "Ref: <https://github.com/anthropics/courses/blob/master/ToolUse/02_your_first_simple_tool.ipynb>\n",
    "\n",
    "Install packages using uv, an extremely fast python package installer\\\n",
    "Read more about uv here https://astral.sh/blog/uv"
   ]
  },
  {
   "cell_type": "code",
   "execution_count": 1,
   "id": "ca23edee-0c18-44ee-8d02-69327cb6be0e",
   "metadata": {},
   "outputs": [],
   "source": [
    "%%bash\n",
    "pip install uv && uv pip install -U boto3 rich wikipedia"
   ]
  },
  {
   "cell_type": "code",
   "execution_count": 2,
   "id": "dfe437da-4aca-490c-b4be-1a0978c7fc2a",
   "metadata": {},
   "outputs": [],
   "source": [
    "!python --version\n",
    "%load_ext rich"
   ]
  },
  {
   "cell_type": "code",
   "execution_count": 3,
   "id": "357a7346-ce5b-403a-b46c-a473c0d5c6ec",
   "metadata": {},
   "outputs": [],
   "source": [
    "import json\n",
    "import types\n",
    "from pathlib import Path\n",
    "\n",
    "import boto3\n",
    "import wikipedia\n",
    "from rich import print"
   ]
  },
  {
   "cell_type": "markdown",
   "id": "7a9322b5-2371-48ae-911c-42eefa2c7f2c",
   "metadata": {},
   "source": [
    "## List Anthropic Model IDs in Bedrock"
   ]
  },
  {
   "cell_type": "code",
   "execution_count": 4,
   "id": "57449a56-4395-43ce-a81b-fb4e125aa6fe",
   "metadata": {},
   "outputs": [
    {
     "data": {
      "text/html": [
       "<pre style=\"white-space:pre;overflow-x:auto;line-height:normal;font-family:Menlo,'DejaVu Sans Mono',consolas,'Courier New',monospace\"><span style=\"color: #000080; text-decoration-color: #000080; font-weight: bold\">Claude </span><span style=\"color: #000080; text-decoration-color: #000080; font-weight: bold\">3</span><span style=\"color: #000080; text-decoration-color: #000080; font-weight: bold\"> ModelIDs</span>\n",
       "</pre>\n"
      ],
      "text/plain": [
       "\u001b[1;34mClaude \u001b[0m\u001b[1;34m3\u001b[0m\u001b[1;34m ModelIDs\u001b[0m\n"
      ]
     },
     "metadata": {},
     "output_type": "display_data"
    },
    {
     "data": {
      "text/html": [
       "<pre style=\"white-space:pre;overflow-x:auto;line-height:normal;font-family:Menlo,'DejaVu Sans Mono',consolas,'Courier New',monospace\"><span style=\"font-weight: bold\">[</span>\n",
       "    <span style=\"color: #008000; text-decoration-color: #008000\">'anthropic.claude-3-sonnet-20240229-v1:0'</span>,\n",
       "    <span style=\"color: #008000; text-decoration-color: #008000\">'anthropic.claude-3-haiku-20240307-v1:0'</span>,\n",
       "    <span style=\"color: #008000; text-decoration-color: #008000\">'anthropic.claude-3-opus-20240229-v1:0'</span>,\n",
       "    <span style=\"color: #008000; text-decoration-color: #008000\">'anthropic.claude-3-5-sonnet-20240620-v1:0'</span>\n",
       "<span style=\"font-weight: bold\">]</span>\n",
       "</pre>\n"
      ],
      "text/plain": [
       "\u001b[1m[\u001b[0m\n",
       "    \u001b[32m'anthropic.claude-3-sonnet-20240229-v1:0'\u001b[0m,\n",
       "    \u001b[32m'anthropic.claude-3-haiku-20240307-v1:0'\u001b[0m,\n",
       "    \u001b[32m'anthropic.claude-3-opus-20240229-v1:0'\u001b[0m,\n",
       "    \u001b[32m'anthropic.claude-3-5-sonnet-20240620-v1:0'\u001b[0m\n",
       "\u001b[1m]\u001b[0m\n"
      ]
     },
     "metadata": {},
     "output_type": "display_data"
    },
    {
     "data": {
      "text/html": [
       "<pre style=\"white-space:pre;overflow-x:auto;line-height:normal;font-family:Menlo,'DejaVu Sans Mono',consolas,'Courier New',monospace\">==============================\n",
       "</pre>\n"
      ],
      "text/plain": [
       "==============================\n"
      ]
     },
     "metadata": {},
     "output_type": "display_data"
    },
    {
     "data": {
      "text/html": [
       "<pre style=\"white-space:pre;overflow-x:auto;line-height:normal;font-family:Menlo,'DejaVu Sans Mono',consolas,'Courier New',monospace\">Model ID: <span style=\"color: #800000; text-decoration-color: #800000; font-weight: bold\">anthropic.claude-</span><span style=\"color: #800000; text-decoration-color: #800000; font-weight: bold\">3</span><span style=\"color: #800000; text-decoration-color: #800000; font-weight: bold\">-</span><span style=\"color: #800000; text-decoration-color: #800000; font-weight: bold\">5</span><span style=\"color: #800000; text-decoration-color: #800000; font-weight: bold\">-sonnet-</span><span style=\"color: #800000; text-decoration-color: #800000; font-weight: bold\">20240620</span><span style=\"color: #800000; text-decoration-color: #800000; font-weight: bold\">-v1:0</span>\n",
       "</pre>\n"
      ],
      "text/plain": [
       "Model ID: \u001b[1;31manthropic.claude-\u001b[0m\u001b[1;31m3\u001b[0m\u001b[1;31m-\u001b[0m\u001b[1;31m5\u001b[0m\u001b[1;31m-sonnet-\u001b[0m\u001b[1;31m20240620\u001b[0m\u001b[1;31m-v\u001b[0m\u001b[1;31m1:0\u001b[0m\n"
      ]
     },
     "metadata": {},
     "output_type": "display_data"
    },
    {
     "data": {
      "text/html": [
       "<pre style=\"white-space:pre;overflow-x:auto;line-height:normal;font-family:Menlo,'DejaVu Sans Mono',consolas,'Courier New',monospace\">==============================\n",
       "</pre>\n"
      ],
      "text/plain": [
       "==============================\n"
      ]
     },
     "metadata": {},
     "output_type": "display_data"
    }
   ],
   "source": [
    "session = boto3.Session()\n",
    "region = session.region_name\n",
    "bedrock = session.client(service_name=\"bedrock\", region_name=region)\n",
    "bedrock_runtime = session.client(service_name=\"bedrock-runtime\", region_name=region)\n",
    "\n",
    "# List Anthropic models in Bedrock\n",
    "models = bedrock.list_foundation_models(\n",
    "    byProvider=\"Anthropic\", byOutputModality=\"TEXT\"\n",
    ")[\"modelSummaries\"]\n",
    "\n",
    "# Print only Claude 3 models\n",
    "model_ids = [\n",
    "    model[\"modelId\"]\n",
    "    for model in models\n",
    "    if \"claude-3\" in model[\"modelId\"] and \"v1:0:\" not in model[\"modelId\"]\n",
    "]\n",
    "\n",
    "print(\"[b blue]Claude 3 ModelIDs\")\n",
    "print(model_ids)\n",
    "\n",
    "print(\"===\" * 10)\n",
    "# change string in if loop for haiku, sonnet or opus\n",
    "models = [m for m in model_ids if \"sonnet\" in m]\n",
    "model_id = [m for m in models if \"3-5-sonnet\" in m][0]\n",
    "print(f\"Model ID: [b red]{model_id}\")\n",
    "print(\"===\" * 10)"
   ]
  },
  {
   "cell_type": "markdown",
   "id": "41b44e44-e87e-4a9b-89f8-894729d7cdb4",
   "metadata": {},
   "source": [
    "## Define tools\n",
    "\n",
    "Your task is to help build out a research assistant using Claude. A user can enter a topic that they want to research and get a list of Wikipedia article links saved to a markdown file for later reading. We could try asking Claude directly to generate a list of article URLs, but Claude is unreliable with URLs and may hallucinate article URLs. Also, legitimate articles might have moved to a new URL after Claude's training cutoff date. Instead, we're going to use a tool that connects to the real Wikipedia API to make this work!\n",
    "\n",
    "We'll provide Claude with access to a tool that accepts a list of possible Wikipedia article titles that Claude has generated but could have hallucinated. We can use this tool to search Wikipedia to find the actual Wikipedia article titles and URLs to ensure that the final list consists of articles that all actually exist. We’ll then save these article URLs to a markdown file for later reading.\n",
    "\n",
    "### Helper functions\n",
    "\n",
    "The first function, `generate_wikipedia_reading_list` expects to be passed a research topic like \"The history of Hawaii\" or \"Pirates across the world\" and a list of potential Wikipedia article names that we will have Claude generate. The function uses the wikipedia package to search for corresponding REAL wikipedia pages and builds a list of dictionaries that contain an article's title and URL.\n",
    "\n",
    "Then it calls `add_to_research_reading_file`, passing in the list of Wikipedia article data and the overall research topic. This function simply adds markdown links to each of the Wikipedia articles to a file called `output/research_reading.md`.\n",
    "\n",
    "The filename is hardcoded for now, and the function assumes it exists. It exists in this repo, but you'll need to create it yourself if working somewhere else.\n",
    "\n",
    "### Goal\n",
    "\n",
    "Our task is to implement a function called `get_research_help` that accepts a research topic and a desired number of articles. This function should use Claude to actually generate the list of possible Wikipedia articles and call the `generate_wikipedia_reading_list` function from above. Here are a few example function calls:"
   ]
  },
  {
   "cell_type": "code",
   "execution_count": 5,
   "id": "5ce55597-db5f-457c-ad32-275fd324f9a9",
   "metadata": {},
   "outputs": [],
   "source": [
    "def generate_wikipedia_reading_list(research_topic, article_titles):\n",
    "    wikipedia_articles = []\n",
    "    for t in article_titles:\n",
    "        results = wikipedia.search(t)\n",
    "        try:\n",
    "            page = wikipedia.page(results[0])\n",
    "            title = page.title\n",
    "            url = page.url\n",
    "            wikipedia_articles.append({\"title\": title, \"url\": url})\n",
    "        except:\n",
    "            continue\n",
    "    fpath = add_to_research_reading_file(wikipedia_articles, research_topic)\n",
    "    return fpath\n",
    "\n",
    "\n",
    "def add_to_research_reading_file(articles, topic):\n",
    "    output_dir = Path(\"./output\")\n",
    "    research_filepath = output_dir.joinpath(\"research_reading.md\")\n",
    "    if not output_dir.exists():\n",
    "        output_dir.mkdir()\n",
    "    with open(research_filepath, \"a\", encoding=\"utf-8\") as file:\n",
    "        file.write(f\"## {topic} \\n\")\n",
    "        for article in articles:\n",
    "            title = article[\"title\"]\n",
    "            url = article[\"url\"]\n",
    "            file.write(f\"* [{title}]({url}) \\n\")\n",
    "        file.write(\"\\n\\n\")\n",
    "    return str(research_filepath)"
   ]
  },
  {
   "cell_type": "code",
   "execution_count": 6,
   "id": "c33d97eb-dfc2-4c8b-8b0f-37c22bca7869",
   "metadata": {},
   "outputs": [],
   "source": [
    "def get_research_help(\n",
    "    research_topic, num_of_articles, bedrock_runtime, model_id=model_id\n",
    "):\n",
    "    \"\"\"\n",
    "    Function to generate research titles for a given research topic.\n",
    "    \"\"\"\n",
    "    system_prompt = \"\"\"Act as an expert research assistant.\n",
    "        Your task is to help me gather research titles on a specific topic.\n",
    "        The titles should be diverse yet simple and must relate to the topic.\n",
    "        The titles should be not contain more than 4-5 words.\n",
    "        titles should be generated in json format as a list.\n",
    "        Just output the research titles and nothing else.\n",
    "    \"\"\".strip()\n",
    "\n",
    "    user_prompt = (\n",
    "        f\"Please generate {num_of_articles} titles for the topic '{research_topic}'.\"\n",
    "    )\n",
    "    print(user_prompt)\n",
    "    payload = {\n",
    "        \"max_tokens\": 4096,\n",
    "        \"anthropic_version\": \"bedrock-2023-05-31\",\n",
    "        \"system\": system_prompt,\n",
    "        \"messages\": [{\"role\": \"user\", \"content\": user_prompt}],\n",
    "    }\n",
    "    response = bedrock_runtime.invoke_model(body=json.dumps(payload), modelId=model_id)\n",
    "    response_body = json.loads(response.get(\"body\").read())\n",
    "    response_body = response_body[\"content\"][0]\n",
    "    return response_body[\"text\"]"
   ]
  },
  {
   "cell_type": "markdown",
   "id": "e7b459d0-5b58-4765-87cf-e47a68064f38",
   "metadata": {},
   "source": [
    "### Create tool definition for claude"
   ]
  },
  {
   "cell_type": "code",
   "execution_count": 7,
   "id": "6b0fadc6-16c0-44f1-96ed-63ae5746f21b",
   "metadata": {},
   "outputs": [],
   "source": [
    "tools = [\n",
    "    {\n",
    "        \"name\": \"get_research_help\",\n",
    "        \"description\": \"Generates research titles for a given research topic.\",\n",
    "        \"input_schema\": {\n",
    "            \"type\": \"object\",\n",
    "            \"properties\": {\n",
    "                \"research_topic\": {\n",
    "                    \"type\": \"string\",\n",
    "                    \"description\": \"The topic for which research titles are to be generated\",\n",
    "                },\n",
    "                \"num_of_articles\": {\n",
    "                    \"type\": \"integer\",\n",
    "                    \"description\": \"The number of research titles to generate\",\n",
    "                },\n",
    "                \"bedrock_runtime\": {\n",
    "                    \"type\": \"object\",\n",
    "                    \"description\": \"The Bedrock runtime object for executing the model\",\n",
    "                },\n",
    "                \"model_id\": {\n",
    "                    \"type\": \"string\",\n",
    "                    \"description\": \"The ID of the model to be used (optional, default value is provided in the function)\",\n",
    "                },\n",
    "            },\n",
    "            \"required\": [\"research_topic\", \"num_of_articles\", \"bedrock_runtime\"],\n",
    "        },\n",
    "    }\n",
    "]\n",
    "\n",
    "\n",
    "def process_tool_call(tool_name, tool_input, bedrock_runtime):\n",
    "    if tool_name == \"get_research_help\":\n",
    "        return get_research_help(\n",
    "            tool_input[\"research_topic\"], tool_input[\"num_of_articles\"], bedrock_runtime\n",
    "        )"
   ]
  },
  {
   "cell_type": "code",
   "execution_count": 8,
   "id": "5e41be29-c561-4a9e-bea8-ddd549e030c9",
   "metadata": {},
   "outputs": [],
   "source": [
    "def chat_with_claude(\n",
    "    prompt, MODEL_NAME=model_id, tools=tools, bedrock_runtime=bedrock_runtime\n",
    "):\n",
    "    print(f\"\\n{'='*50}\\nUser Message: {prompt}\\n{'='*50}\")\n",
    "\n",
    "    system_prompt = \"\"\"Answer as many questions as you can using your existing knowledge.\n",
    "    For generating research titles, always use the get_research_help tool.\"\"\"\n",
    "\n",
    "    payload = {\n",
    "        \"max_tokens\": 4096,\n",
    "        \"anthropic_version\": \"bedrock-2023-05-31\",\n",
    "        \"system\": system_prompt,\n",
    "        \"messages\": [{\"role\": \"user\", \"content\": f\"{prompt}\"}],\n",
    "        \"tools\": tools,\n",
    "    }\n",
    "\n",
    "    # print(payload)\n",
    "\n",
    "    response = bedrock_runtime.invoke_model(\n",
    "        body=json.dumps(payload), modelId=MODEL_NAME\n",
    "    )\n",
    "    # read byte stream and load the response object (dict)\n",
    "    response_body = json.loads(response.get(\"body\").read())\n",
    "    # SimpleNamespace to make dict dot accessible\n",
    "    message = types.SimpleNamespace(**response_body)\n",
    "\n",
    "    # print(\"\\nInitial Response:\")\n",
    "    print(f\"Stop Reason: {message.stop_reason}\")\n",
    "    # print(f\"Content:\\n{json.dumps(message.content, indent=2)}\")\n",
    "\n",
    "    while True:\n",
    "        if message.stop_reason == \"tool_use\":\n",
    "            tool_use = next(\n",
    "                (obj for obj in message.content if obj[\"type\"] == \"tool_use\"), None\n",
    "            )\n",
    "            tool_name = tool_use[\"name\"]\n",
    "            tool_input = tool_use[\"input\"]\n",
    "            # tool_use_id = tool_use[\"id\"]\n",
    "\n",
    "            print(f\"\\nTool Used: {tool_name}\")\n",
    "            print(f\"Tool Input: {tool_input}\")\n",
    "            # First get research titles\n",
    "            tool_result = process_tool_call(tool_name, tool_input, bedrock_runtime)\n",
    "            article_list = json.loads(tool_result)\n",
    "            # print(type(article_list))\n",
    "            print(f\"Tool Result:\\n{tool_result}\")\n",
    "            # Next, call generate_wikipedia_reading_list\n",
    "            output_filepath = generate_wikipedia_reading_list(\n",
    "                tool_input[\"research_topic\"], article_list\n",
    "            )\n",
    "\n",
    "            # # append the tool_result as a user response\n",
    "            # messages = [\n",
    "            #     {\"role\": \"user\", \"content\": prompt},\n",
    "            #     {\"role\": \"assistant\", \"content\": message.content},\n",
    "            #     {\n",
    "            #         \"role\": \"user\",\n",
    "            #         \"content\": [\n",
    "            #             {\n",
    "            #                 \"type\": \"tool_result\",\n",
    "            #                 \"tool_use_id\": tool_use_id,\n",
    "            #                 \"content\": json.dumps(tool_result),\n",
    "            #             }\n",
    "            #         ],\n",
    "            #     },\n",
    "            # ]\n",
    "            # # update messages in payload with new messages object\n",
    "            # payload_ns = types.SimpleNamespace(**payload)\n",
    "            # payload_ns.messages = messages\n",
    "            # # convert SimpleNamespace object back to dict\n",
    "            # payload = vars(payload_ns)\n",
    "            # response = bedrock_runtime.invoke_model(\n",
    "            #     body=json.dumps(payload), modelId=MODEL_NAME\n",
    "            # )\n",
    "            # response = json.loads(response.get(\"body\").read())\n",
    "            # message = types.SimpleNamespace(**response)\n",
    "            response = output_filepath\n",
    "            break\n",
    "        # else:\n",
    "        #     response = message\n",
    "        #     break\n",
    "\n",
    "    # final_response = next(\n",
    "    #     (obj[\"text\"] for obj in response.content if obj[\"type\"] == \"text\"),\n",
    "    #     response,\n",
    "    # )\n",
    "    return response"
   ]
  },
  {
   "cell_type": "code",
   "execution_count": 9,
   "id": "c0280027-e51a-4b68-ad76-976271339be4",
   "metadata": {},
   "outputs": [
    {
     "data": {
      "text/html": [
       "<pre style=\"white-space:pre;overflow-x:auto;line-height:normal;font-family:Menlo,'DejaVu Sans Mono',consolas,'Courier New',monospace\">\n",
       "==================================================\n",
       "User Message: Generate <span style=\"color: #008080; text-decoration-color: #008080; font-weight: bold\">3</span> research titles for topic Animal conciousness.\n",
       "==================================================\n",
       "</pre>\n"
      ],
      "text/plain": [
       "\n",
       "==================================================\n",
       "User Message: Generate \u001b[1;36m3\u001b[0m research titles for topic Animal conciousness.\n",
       "==================================================\n"
      ]
     },
     "metadata": {},
     "output_type": "display_data"
    },
    {
     "data": {
      "text/html": [
       "<pre style=\"white-space:pre;overflow-x:auto;line-height:normal;font-family:Menlo,'DejaVu Sans Mono',consolas,'Courier New',monospace\">Stop Reason: tool_use\n",
       "</pre>\n"
      ],
      "text/plain": [
       "Stop Reason: tool_use\n"
      ]
     },
     "metadata": {},
     "output_type": "display_data"
    },
    {
     "data": {
      "text/html": [
       "<pre style=\"white-space:pre;overflow-x:auto;line-height:normal;font-family:Menlo,'DejaVu Sans Mono',consolas,'Courier New',monospace\">\n",
       "Tool Used: get_research_help\n",
       "</pre>\n"
      ],
      "text/plain": [
       "\n",
       "Tool Used: get_research_help\n"
      ]
     },
     "metadata": {},
     "output_type": "display_data"
    },
    {
     "data": {
      "text/html": [
       "<pre style=\"white-space:pre;overflow-x:auto;line-height:normal;font-family:Menlo,'DejaVu Sans Mono',consolas,'Courier New',monospace\">Tool Input: <span style=\"font-weight: bold\">{</span><span style=\"color: #008000; text-decoration-color: #008000\">'research_topic'</span>: <span style=\"color: #008000; text-decoration-color: #008000\">'Animal consciousness'</span>, <span style=\"color: #008000; text-decoration-color: #008000\">'num_of_articles'</span>: <span style=\"color: #008080; text-decoration-color: #008080; font-weight: bold\">3</span><span style=\"font-weight: bold\">}</span>\n",
       "</pre>\n"
      ],
      "text/plain": [
       "Tool Input: \u001b[1m{\u001b[0m\u001b[32m'research_topic'\u001b[0m: \u001b[32m'Animal consciousness'\u001b[0m, \u001b[32m'num_of_articles'\u001b[0m: \u001b[1;36m3\u001b[0m\u001b[1m}\u001b[0m\n"
      ]
     },
     "metadata": {},
     "output_type": "display_data"
    },
    {
     "data": {
      "text/html": [
       "<pre style=\"white-space:pre;overflow-x:auto;line-height:normal;font-family:Menlo,'DejaVu Sans Mono',consolas,'Courier New',monospace\">Please generate <span style=\"color: #008080; text-decoration-color: #008080; font-weight: bold\">3</span> titles for the topic <span style=\"color: #008000; text-decoration-color: #008000\">'Animal consciousness'</span>.\n",
       "</pre>\n"
      ],
      "text/plain": [
       "Please generate \u001b[1;36m3\u001b[0m titles for the topic \u001b[32m'Animal consciousness'\u001b[0m.\n"
      ]
     },
     "metadata": {},
     "output_type": "display_data"
    },
    {
     "data": {
      "text/html": [
       "<pre style=\"white-space:pre;overflow-x:auto;line-height:normal;font-family:Menlo,'DejaVu Sans Mono',consolas,'Courier New',monospace\">Tool Result:\n",
       "<span style=\"font-weight: bold\">[</span>\n",
       "  <span style=\"color: #008000; text-decoration-color: #008000\">\"Animal Self-Awareness in Nature\"</span>,\n",
       "  <span style=\"color: #008000; text-decoration-color: #008000\">\"Cognition in Non-Human Species\"</span>,\n",
       "  <span style=\"color: #008000; text-decoration-color: #008000\">\"Measuring Animal Emotional States\"</span>\n",
       "<span style=\"font-weight: bold\">]</span>\n",
       "</pre>\n"
      ],
      "text/plain": [
       "Tool Result:\n",
       "\u001b[1m[\u001b[0m\n",
       "  \u001b[32m\"Animal Self-Awareness in Nature\"\u001b[0m,\n",
       "  \u001b[32m\"Cognition in Non-Human Species\"\u001b[0m,\n",
       "  \u001b[32m\"Measuring Animal Emotional States\"\u001b[0m\n",
       "\u001b[1m]\u001b[0m\n"
      ]
     },
     "metadata": {},
     "output_type": "display_data"
    },
    {
     "data": {
      "text/html": [
       "<pre style=\"white-space:pre;overflow-x:auto;line-height:normal;font-family:Menlo,'DejaVu Sans Mono',consolas,'Courier New',monospace\">\n",
       "==================================================\n",
       "Final Response:\n",
       "\n",
       "## Animal consciousness \n",
       "* <span style=\"font-weight: bold\">[</span>Self-awareness<span style=\"font-weight: bold\">](</span><span style=\"color: #0000ff; text-decoration-color: #0000ff; text-decoration: underline\">https://en.wikipedia.org/wiki/Self-awareness)</span> \n",
       "* <span style=\"font-weight: bold\">[</span>Animal cognition<span style=\"font-weight: bold\">](</span><span style=\"color: #0000ff; text-decoration-color: #0000ff; text-decoration: underline\">https://en.wikipedia.org/wiki/Animal_cognition)</span> \n",
       "* <span style=\"font-weight: bold\">[</span>Emotional intelligence<span style=\"font-weight: bold\">](</span><span style=\"color: #0000ff; text-decoration-color: #0000ff; text-decoration: underline\">https://en.wikipedia.org/wiki/Emotional_intelligence)</span> \n",
       "\n",
       "\n",
       "\n",
       "==================================================\n",
       "</pre>\n"
      ],
      "text/plain": [
       "\n",
       "==================================================\n",
       "Final Response:\n",
       "\n",
       "## Animal consciousness \n",
       "* \u001b[1m[\u001b[0mSelf-awareness\u001b[1m]\u001b[0m\u001b[1m(\u001b[0m\u001b[4;94mhttps://en.wikipedia.org/wiki/Self-awareness\u001b[0m\u001b[4;94m)\u001b[0m \n",
       "* \u001b[1m[\u001b[0mAnimal cognition\u001b[1m]\u001b[0m\u001b[1m(\u001b[0m\u001b[4;94mhttps://en.wikipedia.org/wiki/Animal_cognition\u001b[0m\u001b[4;94m)\u001b[0m \n",
       "* \u001b[1m[\u001b[0mEmotional intelligence\u001b[1m]\u001b[0m\u001b[1m(\u001b[0m\u001b[4;94mhttps://en.wikipedia.org/wiki/Emotional_intelligence\u001b[0m\u001b[4;94m)\u001b[0m \n",
       "\n",
       "\n",
       "\n",
       "==================================================\n"
      ]
     },
     "metadata": {},
     "output_type": "display_data"
    }
   ],
   "source": [
    "result_filepath = chat_with_claude(\n",
    "    \"Generate 3 research titles for topic Animal conciousness.\"\n",
    ")\n",
    "file_content = Path(result_filepath).read_text(encoding=\"utf-8\")\n",
    "print(f\"\\n{'='*50}\\nFinal Response:\\n\\n{file_content}\\n{'='*50}\")"
   ]
  },
  {
   "cell_type": "code",
   "execution_count": 10,
   "id": "ad86d903-82d6-4727-9c3b-d1fab47fec4e",
   "metadata": {},
   "outputs": [
    {
     "data": {
      "text/html": [
       "<pre style=\"white-space:pre;overflow-x:auto;line-height:normal;font-family:Menlo,'DejaVu Sans Mono',consolas,'Courier New',monospace\">\n",
       "==================================================\n",
       "User Message: Generate <span style=\"color: #008080; text-decoration-color: #008080; font-weight: bold\">5</span> research titles for topic Liquid Neural Networks.\n",
       "==================================================\n",
       "</pre>\n"
      ],
      "text/plain": [
       "\n",
       "==================================================\n",
       "User Message: Generate \u001b[1;36m5\u001b[0m research titles for topic Liquid Neural Networks.\n",
       "==================================================\n"
      ]
     },
     "metadata": {},
     "output_type": "display_data"
    },
    {
     "data": {
      "text/html": [
       "<pre style=\"white-space:pre;overflow-x:auto;line-height:normal;font-family:Menlo,'DejaVu Sans Mono',consolas,'Courier New',monospace\">Stop Reason: tool_use\n",
       "</pre>\n"
      ],
      "text/plain": [
       "Stop Reason: tool_use\n"
      ]
     },
     "metadata": {},
     "output_type": "display_data"
    },
    {
     "data": {
      "text/html": [
       "<pre style=\"white-space:pre;overflow-x:auto;line-height:normal;font-family:Menlo,'DejaVu Sans Mono',consolas,'Courier New',monospace\">\n",
       "Tool Used: get_research_help\n",
       "</pre>\n"
      ],
      "text/plain": [
       "\n",
       "Tool Used: get_research_help\n"
      ]
     },
     "metadata": {},
     "output_type": "display_data"
    },
    {
     "data": {
      "text/html": [
       "<pre style=\"white-space:pre;overflow-x:auto;line-height:normal;font-family:Menlo,'DejaVu Sans Mono',consolas,'Courier New',monospace\">Tool Input: <span style=\"font-weight: bold\">{</span><span style=\"color: #008000; text-decoration-color: #008000\">'research_topic'</span>: <span style=\"color: #008000; text-decoration-color: #008000\">'Liquid Neural Networks'</span>, <span style=\"color: #008000; text-decoration-color: #008000\">'num_of_articles'</span>: <span style=\"color: #008080; text-decoration-color: #008080; font-weight: bold\">5</span><span style=\"font-weight: bold\">}</span>\n",
       "</pre>\n"
      ],
      "text/plain": [
       "Tool Input: \u001b[1m{\u001b[0m\u001b[32m'research_topic'\u001b[0m: \u001b[32m'Liquid Neural Networks'\u001b[0m, \u001b[32m'num_of_articles'\u001b[0m: \u001b[1;36m5\u001b[0m\u001b[1m}\u001b[0m\n"
      ]
     },
     "metadata": {},
     "output_type": "display_data"
    },
    {
     "data": {
      "text/html": [
       "<pre style=\"white-space:pre;overflow-x:auto;line-height:normal;font-family:Menlo,'DejaVu Sans Mono',consolas,'Courier New',monospace\">Please generate <span style=\"color: #008080; text-decoration-color: #008080; font-weight: bold\">5</span> titles for the topic <span style=\"color: #008000; text-decoration-color: #008000\">'Liquid Neural Networks'</span>.\n",
       "</pre>\n"
      ],
      "text/plain": [
       "Please generate \u001b[1;36m5\u001b[0m titles for the topic \u001b[32m'Liquid Neural Networks'\u001b[0m.\n"
      ]
     },
     "metadata": {},
     "output_type": "display_data"
    },
    {
     "data": {
      "text/html": [
       "<pre style=\"white-space:pre;overflow-x:auto;line-height:normal;font-family:Menlo,'DejaVu Sans Mono',consolas,'Courier New',monospace\">Tool Result:\n",
       "<span style=\"font-weight: bold\">[</span>\n",
       "  <span style=\"color: #008000; text-decoration-color: #008000\">\"Liquid Neural Networks for Robotics\"</span>,\n",
       "  <span style=\"color: #008000; text-decoration-color: #008000\">\"Temporal Processing in LNNs\"</span>,\n",
       "  <span style=\"color: #008000; text-decoration-color: #008000\">\"LNN Hardware Implementations\"</span>,\n",
       "  <span style=\"color: #008000; text-decoration-color: #008000\">\"LNNs in Speech Recognition\"</span>,\n",
       "  <span style=\"color: #008000; text-decoration-color: #008000\">\"Continuous-Time LNN Applications\"</span>\n",
       "<span style=\"font-weight: bold\">]</span>\n",
       "</pre>\n"
      ],
      "text/plain": [
       "Tool Result:\n",
       "\u001b[1m[\u001b[0m\n",
       "  \u001b[32m\"Liquid Neural Networks for Robotics\"\u001b[0m,\n",
       "  \u001b[32m\"Temporal Processing in LNNs\"\u001b[0m,\n",
       "  \u001b[32m\"LNN Hardware Implementations\"\u001b[0m,\n",
       "  \u001b[32m\"LNNs in Speech Recognition\"\u001b[0m,\n",
       "  \u001b[32m\"Continuous-Time LNN Applications\"\u001b[0m\n",
       "\u001b[1m]\u001b[0m\n"
      ]
     },
     "metadata": {},
     "output_type": "display_data"
    },
    {
     "data": {
      "text/html": [
       "<pre style=\"white-space:pre;overflow-x:auto;line-height:normal;font-family:Menlo,'DejaVu Sans Mono',consolas,'Courier New',monospace\">\n",
       "==================================================\n",
       "Final Response:\n",
       "## Animal consciousness \n",
       "* <span style=\"font-weight: bold\">[</span>Self-awareness<span style=\"font-weight: bold\">](</span><span style=\"color: #0000ff; text-decoration-color: #0000ff; text-decoration: underline\">https://en.wikipedia.org/wiki/Self-awareness)</span> \n",
       "* <span style=\"font-weight: bold\">[</span>Animal cognition<span style=\"font-weight: bold\">](</span><span style=\"color: #0000ff; text-decoration-color: #0000ff; text-decoration: underline\">https://en.wikipedia.org/wiki/Animal_cognition)</span> \n",
       "* <span style=\"font-weight: bold\">[</span>Emotional intelligence<span style=\"font-weight: bold\">](</span><span style=\"color: #0000ff; text-decoration-color: #0000ff; text-decoration: underline\">https://en.wikipedia.org/wiki/Emotional_intelligence)</span> \n",
       "\n",
       "\n",
       "## Liquid Neural Networks \n",
       "* <span style=\"font-weight: bold\">[</span>Recurrent neural network<span style=\"font-weight: bold\">](</span><span style=\"color: #0000ff; text-decoration-color: #0000ff; text-decoration: underline\">https://en.wikipedia.org/wiki/Recurrent_neural_network)</span> \n",
       "* <span style=\"font-weight: bold\">[</span>Shared intentionality<span style=\"font-weight: bold\">](</span><span style=\"color: #0000ff; text-decoration-color: #0000ff; text-decoration: underline\">https://en.wikipedia.org/wiki/Shared_intentionality)</span> \n",
       "* <span style=\"font-weight: bold\">[</span>Child development<span style=\"font-weight: bold\">](</span><span style=\"color: #0000ff; text-decoration-color: #0000ff; text-decoration: underline\">https://en.wikipedia.org/wiki/Child_development)</span> \n",
       "* <span style=\"font-weight: bold\">[</span>BKL singularity<span style=\"font-weight: bold\">](</span><span style=\"color: #0000ff; text-decoration-color: #0000ff; text-decoration: underline\">https://en.wikipedia.org/wiki/BKL_singularity)</span> \n",
       "\n",
       "\n",
       "\n",
       "==================================================\n",
       "</pre>\n"
      ],
      "text/plain": [
       "\n",
       "==================================================\n",
       "Final Response:\n",
       "## Animal consciousness \n",
       "* \u001b[1m[\u001b[0mSelf-awareness\u001b[1m]\u001b[0m\u001b[1m(\u001b[0m\u001b[4;94mhttps://en.wikipedia.org/wiki/Self-awareness\u001b[0m\u001b[4;94m)\u001b[0m \n",
       "* \u001b[1m[\u001b[0mAnimal cognition\u001b[1m]\u001b[0m\u001b[1m(\u001b[0m\u001b[4;94mhttps://en.wikipedia.org/wiki/Animal_cognition\u001b[0m\u001b[4;94m)\u001b[0m \n",
       "* \u001b[1m[\u001b[0mEmotional intelligence\u001b[1m]\u001b[0m\u001b[1m(\u001b[0m\u001b[4;94mhttps://en.wikipedia.org/wiki/Emotional_intelligence\u001b[0m\u001b[4;94m)\u001b[0m \n",
       "\n",
       "\n",
       "## Liquid Neural Networks \n",
       "* \u001b[1m[\u001b[0mRecurrent neural network\u001b[1m]\u001b[0m\u001b[1m(\u001b[0m\u001b[4;94mhttps://en.wikipedia.org/wiki/Recurrent_neural_network\u001b[0m\u001b[4;94m)\u001b[0m \n",
       "* \u001b[1m[\u001b[0mShared intentionality\u001b[1m]\u001b[0m\u001b[1m(\u001b[0m\u001b[4;94mhttps://en.wikipedia.org/wiki/Shared_intentionality\u001b[0m\u001b[4;94m)\u001b[0m \n",
       "* \u001b[1m[\u001b[0mChild development\u001b[1m]\u001b[0m\u001b[1m(\u001b[0m\u001b[4;94mhttps://en.wikipedia.org/wiki/Child_development\u001b[0m\u001b[4;94m)\u001b[0m \n",
       "* \u001b[1m[\u001b[0mBKL singularity\u001b[1m]\u001b[0m\u001b[1m(\u001b[0m\u001b[4;94mhttps://en.wikipedia.org/wiki/BKL_singularity\u001b[0m\u001b[4;94m)\u001b[0m \n",
       "\n",
       "\n",
       "\n",
       "==================================================\n"
      ]
     },
     "metadata": {},
     "output_type": "display_data"
    }
   ],
   "source": [
    "result_filepath = chat_with_claude(\n",
    "    \"Generate 5 research titles for topic Liquid Neural Networks.\"\n",
    ")\n",
    "file_content = Path(result_filepath).read_text(encoding=\"utf-8\")\n",
    "print(f\"\\n{'='*50}\\nFinal Response:\\n{file_content}\\n{'='*50}\")"
   ]
  },
  {
   "cell_type": "code",
   "execution_count": null,
   "id": "770ef661-ad12-4abd-843a-bd5df0ae666b",
   "metadata": {},
   "outputs": [],
   "source": []
  },
  {
   "cell_type": "code",
   "execution_count": null,
   "id": "651b5aab-ca56-4246-8989-e0ebdb6d03ec",
   "metadata": {},
   "outputs": [],
   "source": []
  }
 ],
 "metadata": {
  "kernelspec": {
   "display_name": "Python 3 (ipykernel)",
   "language": "python",
   "name": "python3"
  },
  "language_info": {
   "codemirror_mode": {
    "name": "ipython",
    "version": 3
   },
   "file_extension": ".py",
   "mimetype": "text/x-python",
   "name": "python",
   "nbconvert_exporter": "python",
   "pygments_lexer": "ipython3",
   "version": "3.10.14"
  }
 },
 "nbformat": 4,
 "nbformat_minor": 5
}
