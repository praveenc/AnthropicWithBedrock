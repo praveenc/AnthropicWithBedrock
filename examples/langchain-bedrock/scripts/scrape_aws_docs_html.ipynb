{
 "cells": [
  {
   "cell_type": "markdown",
   "id": "6635fd54-9758-458d-ad8d-dfc03b50b04e",
   "metadata": {},
   "source": [
    "# Download AWS documentation for QnA with LLMs\n",
    "\n",
    "- Download HTML pages\n",
    "- Convert HTML pages to text and then to LangChain docs\n",
    "- Split docs into chunks using TextSplitter\n",
    "- Encode and Ingest chunks with `Cohere-v3` embedding model into a new collection `aws_docs_coherev3` in Qdrant vectordb\n",
    "- Test retrieval quality"
   ]
  },
  {
   "cell_type": "code",
   "execution_count": 17,
   "id": "9052957e-d255-4169-b22a-a34a01e35ac3",
   "metadata": {},
   "outputs": [],
   "source": [
    "import os\n",
    "import sys\n",
    "\n",
    "sys.path.append(os.path.abspath(os.path.join(os.getcwd(), os.pardir)) + \"/utils\")"
   ]
  },
  {
   "cell_type": "code",
   "execution_count": 18,
   "id": "b48fcb2b-23b5-41f2-9588-00d58d82baf8",
   "metadata": {},
   "outputs": [
    {
     "name": "stdout",
     "output_type": "stream",
     "text": [
      "The rich extension is already loaded. To reload it, use:\n",
      "  %reload_ext rich\n"
     ]
    }
   ],
   "source": [
    "import argparse\n",
    "import time\n",
    "from pathlib import Path\n",
    "from urllib.parse import urljoin, urlparse\n",
    "\n",
    "import boto3\n",
    "import requests\n",
    "from bs4 import BeautifulSoup\n",
    "from rich import print\n",
    "# from rich.console import Console\n",
    "# from rich.status import Status\n",
    "from utils import get_inference_parameters\n",
    "\n",
    "%load_ext rich"
   ]
  },
  {
   "cell_type": "markdown",
   "id": "0d3d8640-a8c3-405e-a6c1-5d772624c5fd",
   "metadata": {},
   "source": [
    "### Create directory for downloading html files"
   ]
  },
  {
   "cell_type": "code",
   "execution_count": 3,
   "id": "b996deca-5c1d-4646-bbdb-d2517f8df453",
   "metadata": {},
   "outputs": [],
   "source": [
    "DATA_DIR = Path(f\"../data/aws\")\n",
    "start_url = \"https://docs.aws.amazon.com/bedrock/latest/userguide/what-is-bedrock.html\"\n",
    "\n",
    "# console = Console()\n",
    "current_url = start_url\n",
    "failed_downloads = []\n",
    "scraped_urls = []\n",
    "\n",
    "root_url = urlparse(start_url)\n",
    "\n",
    "# Extract topic name from url - https://docs.aws.amazon.com/bedrock/\n",
    "folder_name = root_url.path.lstrip(\"/\").split(\"/\")[0]  # bedrock\n",
    "\n",
    "# Root directory for storing downloaded html files\n",
    "DATA_DIR = DATA_DIR.joinpath(f\"{folder_name}/html\")\n",
    "DATA_DIR.mkdir(exist_ok=True, parents=True)\n",
    "print(f\"HTML files will be downloaded to {str(DATA_DIR)}\")"
   ]
  },
  {
   "cell_type": "markdown",
   "id": "d20221c1-6a9a-429b-b229-7ac0ef0d6e02",
   "metadata": {},
   "source": [
    "### Download linked html docs to directory"
   ]
  },
  {
   "cell_type": "code",
   "execution_count": 5,
   "id": "20bc7568-4476-4372-a41a-4e7c086f56cb",
   "metadata": {},
   "outputs": [],
   "source": [
    "# Function to download HTML content from a given URL\n",
    "def download_page(url):\n",
    "    response = requests.get(url)\n",
    "    if response.status_code == 200:\n",
    "        return response.text\n",
    "    else:\n",
    "        return None\n",
    "\n",
    "\n",
    "# Function to find the URL of the next topic in the HTML content\n",
    "def find_next_url(soup, base_url):\n",
    "    next_topic = soup.find(\"div\", {\"class\": \"next-link\"})\n",
    "    if next_topic:\n",
    "        relative_url = next_topic.get(\"href\")\n",
    "        next_url = urljoin(base_url, relative_url)\n",
    "        return next_url\n",
    "    return None\n",
    "\n",
    "\n",
    "# Function to write error messages to a file\n",
    "def write_error_to_file(error_message, target_dir):\n",
    "    error_path = target_dir.joinpath(\"errors.txt\")\n",
    "    _ = error_path.write_text(error_message, encoding=\"utf-8\")"
   ]
  },
  {
   "cell_type": "code",
   "execution_count": null,
   "id": "6b524234-d2e4-4afc-8881-67a5a5274065",
   "metadata": {},
   "outputs": [],
   "source": [
    "# status = Status(console=console, status=f\"Downloading {start_url}\", spinner=\"earth\")\n",
    "# status.start()\n",
    "\n",
    "# Extract the base URL for constructing full URLs\n",
    "base_url = \"/\".join(start_url.split(\"/\")[:-1]) + \"/\"\n",
    "\n",
    "while current_url:\n",
    "    parsed_url = urlparse(current_url)\n",
    "    file_name = parsed_url.path.split(\"/\")[-1] or \"index\"\n",
    "    # file_name = f\"{file_name}.html\"\n",
    "    html_file_path = DATA_DIR.joinpath(file_name)\n",
    "\n",
    "    # status.update(status=f\"Downloading: {base_url}{file_name}\")\n",
    "    html_content = download_page(current_url)\n",
    "    if html_content:\n",
    "        html_file_path = DATA_DIR.joinpath(file_name)\n",
    "        _ = html_file_path.write_text(html_content, encoding=\"utf-8\")\n",
    "\n",
    "        # add url to scraped urls\n",
    "        scraped_urls.append(current_url)\n",
    "\n",
    "        # find link to the next url\n",
    "        soup = BeautifulSoup(html_content, \"html.parser\")\n",
    "        next_url = find_next_url(soup, base_url)\n",
    "\n",
    "        if next_url:\n",
    "            current_url = next_url\n",
    "        else:\n",
    "            print(\"No more 'Next Topic' found. Exiting.\")\n",
    "            status.stop()\n",
    "            break\n",
    "    else:\n",
    "        failed_downloads.append(current_url)\n",
    "        write_error_to_file(f\"Failed to download {current_url}\")\n",
    "\n",
    "    time.sleep(1)\n",
    "\n",
    "if failed_downloads:\n",
    "    print(f\"Failed to download the following URLs: {failed_downloads}\")"
   ]
  },
  {
   "cell_type": "markdown",
   "id": "334a8833-35d7-4870-a63c-faa631a8c6d9",
   "metadata": {},
   "source": [
    "### Convert HTML2Text using Unstructured"
   ]
  },
  {
   "cell_type": "code",
   "execution_count": 9,
   "id": "7daaa199-df7d-4570-9394-18579b97a6e1",
   "metadata": {},
   "outputs": [
    {
     "data": {
      "text/html": [
       "<pre style=\"white-space:pre;overflow-x:auto;line-height:normal;font-family:Menlo,'DejaVu Sans Mono',consolas,'Courier New',monospace\">Found <span style=\"color: #008080; text-decoration-color: #008080; font-weight: bold\">172</span> HTML files\n",
       "</pre>\n"
      ],
      "text/plain": [
       "Found \u001b[1;36m172\u001b[0m HTML files\n"
      ]
     },
     "metadata": {},
     "output_type": "display_data"
    }
   ],
   "source": [
    "file_urls = list(DATA_DIR.glob(\"*.html\"))\n",
    "print(f\"Found {len(file_urls)} HTML files\")"
   ]
  },
  {
   "cell_type": "code",
   "execution_count": 10,
   "id": "2ba1608e-86af-4c98-bbe5-56cb9e665cc0",
   "metadata": {},
   "outputs": [],
   "source": [
    "from typing import List\n",
    "\n",
    "from langchain.docstore.document import Document\n",
    "from unstructured.cleaners.core import clean_non_ascii_chars\n",
    "from unstructured.partition.html import partition_html\n",
    "\n",
    "def extract_text_from_html(file_paths: List[Path], base_url: str) -> List[Document]:\n",
    "    \"\"\"\n",
    "    Function to reformat html_docs from html to plain text\n",
    "    Input: file_paths List[Path]\n",
    "    Output: List[Document]\n",
    "    \"\"\"\n",
    "    extracted_docs = []\n",
    "    print(f\"Converting {len(file_paths)} files to text docs ...\")\n",
    "    for _path in file_paths:\n",
    "        html_content = _path.read_text(encoding=\"utf-8\")\n",
    "        elements = partition_html(\n",
    "            text=html_content,\n",
    "            html_assemble_articles=True,\n",
    "            skip_headers_and_footers=True,\n",
    "            chunking_strategy=\"by_title\",\n",
    "        )\n",
    "        extracted_text = \"\".join([e.text for e in elements])\n",
    "        extracted_text = clean_non_ascii_chars(extracted_text)\n",
    "        # Create metadata for document\n",
    "        metadata = dict()\n",
    "        metadata[\"language\"] = \"en\"\n",
    "        # extract title from html\n",
    "        soup = BeautifulSoup(html_content, \"html.parser\")\n",
    "        metadata[\"title\"] = soup.find(\"title\").text\n",
    "        # set source to page url\n",
    "        file_name = str(_path).split(\"/\")[-1]\n",
    "        metadata[\"source\"] = f\"{base_url}{file_name}\"\n",
    "        # extract links if available and append to metadata\n",
    "        extracted_links = []\n",
    "        for element in elements:\n",
    "            if element.metadata.links is not None:\n",
    "                print(element.metadata.links)\n",
    "                link = element.metadata.links[0][\"url\"][1:]\n",
    "                extracted_links.append(link)\n",
    "        # Add extracted links to metadata as references\n",
    "        if len(extracted_links) > 0:\n",
    "            metadata[\"references\"] = extracted_links\n",
    "        doc = Document(page_content=extracted_text, metadata=metadata)\n",
    "        extracted_docs.append(doc)\n",
    "    return extracted_docs"
   ]
  },
  {
   "cell_type": "code",
   "execution_count": 12,
   "id": "091c5632-0db0-4380-9561-229300210a03",
   "metadata": {},
   "outputs": [
    {
     "data": {
      "text/html": [
       "<pre style=\"white-space:pre;overflow-x:auto;line-height:normal;font-family:Menlo,'DejaVu Sans Mono',consolas,'Courier New',monospace\">Converting <span style=\"color: #008080; text-decoration-color: #008080; font-weight: bold\">172</span> files to text docs <span style=\"color: #808000; text-decoration-color: #808000\">...</span>\n",
       "</pre>\n"
      ],
      "text/plain": [
       "Converting \u001b[1;36m172\u001b[0m files to text docs \u001b[33m...\u001b[0m\n"
      ]
     },
     "metadata": {},
     "output_type": "display_data"
    }
   ],
   "source": [
    "base_url = \"/\".join(start_url.split(\"/\")[:-1]) + \"/\"\n",
    "html_docs = extract_text_from_html(file_paths=file_urls, base_url=base_url)"
   ]
  },
  {
   "cell_type": "markdown",
   "id": "bdc47af3-17fc-42b4-91c1-14a9ddc7410b",
   "metadata": {},
   "source": [
    "### Chunk docs and ingest to VectorStore (Qdrant)"
   ]
  },
  {
   "cell_type": "code",
   "execution_count": 13,
   "id": "cbccc07f-8b3f-4d2c-ad28-4f2e81eeb4a0",
   "metadata": {},
   "outputs": [
    {
     "data": {
      "text/html": [
       "<pre style=\"white-space:pre;overflow-x:auto;line-height:normal;font-family:Menlo,'DejaVu Sans Mono',consolas,'Courier New',monospace\"><span style=\"color: #008080; text-decoration-color: #008080; font-weight: bold\">582</span>\n",
       "</pre>\n"
      ],
      "text/plain": [
       "\u001b[1;36m582\u001b[0m\n"
      ]
     },
     "metadata": {},
     "output_type": "display_data"
    }
   ],
   "source": [
    "from langchain.text_splitter import RecursiveCharacterTextSplitter\n",
    "\n",
    "# Remember TextSplitter chunk_size is != model max length\n",
    "splitter = RecursiveCharacterTextSplitter(chunk_size=2048, chunk_overlap=0)\n",
    "doc_chunks = splitter.split_documents(documents=html_docs)\n",
    "print(len(doc_chunks))"
   ]
  },
  {
   "cell_type": "markdown",
   "id": "fd8b02c3-d1e6-4dd8-9e9a-4991a9d11850",
   "metadata": {},
   "source": [
    "### Instantiate BedrockEmbedding with `Cohere.embed-v3` model"
   ]
  },
  {
   "cell_type": "code",
   "execution_count": 19,
   "id": "a5882eb7-917a-4d02-bd51-0cb5ae83558f",
   "metadata": {},
   "outputs": [],
   "source": [
    "from langchain.embeddings.bedrock import BedrockEmbeddings\n",
    "from langchain.llms.bedrock import Bedrock\n",
    "\n",
    "region = \"us-west-2\"\n",
    "b_client = boto3.client(\"bedrock-runtime\", region_name=region)\n",
    "model_kwargs = get_inference_parameters(\n",
    "    \"anthropic\"\n",
    ")  # We need pass in model_kwargs for a model\n",
    "# llm_model_id = \"anthropic.claude-v2\"\n",
    "llm_model_id = \"anthropic.claude-instant-v1\"\n",
    "embed_model_id = \"cohere.embed-english-v3\"\n",
    "\n",
    "llm = Bedrock(\n",
    "    client=b_client,\n",
    "    model_kwargs=model_kwargs,\n",
    "    model_id=llm_model_id,\n",
    "    region_name=region,\n",
    ")\n",
    "embeddings = BedrockEmbeddings(\n",
    "    client=b_client, model_id=embed_model_id, region_name=region\n",
    ")"
   ]
  },
  {
   "cell_type": "markdown",
   "id": "6c93b90e-383d-4432-9325-f8ab2978b8d1",
   "metadata": {},
   "source": [
    "### Add docs to vectorstore (Qdrant)\n",
    "\n",
    "**NOTE:** Install and run `qdrant` vector store locally using docker. \n",
    "\n",
    "Refer here for Installation: <https://qdrant.tech/documentation/quick-start/>\n",
    "\n",
    "\n",
    "_NOTE:_ Ensure Qdrant is running at port `6333` on localhost. \n",
    "\n",
    "You should be able to access dashboard <http://localhost:6333/dashboard>"
   ]
  },
  {
   "cell_type": "code",
   "execution_count": 25,
   "id": "8d7e820d-3ff3-4df8-a589-0719869afe1d",
   "metadata": {},
   "outputs": [
    {
     "data": {
      "text/html": [
       "<pre style=\"white-space:pre;overflow-x:auto;line-height:normal;font-family:Menlo,'DejaVu Sans Mono',consolas,'Courier New',monospace\">Creating collection: aws_docs_coherev3 with <span style=\"color: #008080; text-decoration-color: #008080; font-weight: bold\">582</span> <span style=\"color: #808000; text-decoration-color: #808000\">...</span>\n",
       "</pre>\n"
      ],
      "text/plain": [
       "Creating collection: aws_docs_coherev3 with \u001b[1;36m582\u001b[0m \u001b[33m...\u001b[0m\n"
      ]
     },
     "metadata": {},
     "output_type": "display_data"
    },
    {
     "data": {
      "text/html": [
       "<pre style=\"white-space:pre;overflow-x:auto;line-height:normal;font-family:Menlo,'DejaVu Sans Mono',consolas,'Courier New',monospace\">Added <span style=\"color: #008080; text-decoration-color: #008080; font-weight: bold\">582</span> to collection: <span style=\"color: #008000; text-decoration-color: #008000; font-weight: bold\">aws_docs_coherev3</span> ✅\n",
       "</pre>\n"
      ],
      "text/plain": [
       "Added \u001b[1;36m582\u001b[0m to collection: \u001b[1;32maws_docs_coherev3\u001b[0m ✅\n"
      ]
     },
     "metadata": {},
     "output_type": "display_data"
    }
   ],
   "source": [
    "from langchain.vectorstores.qdrant import Qdrant\n",
    "from qdrant_client import QdrantClient\n",
    "\n",
    "collection_name = \"aws_docs_coherev3\"  # define collection name\n",
    "qclient = QdrantClient(location=\"localhost\", port=6333)\n",
    "\n",
    "# Instantiating LangChain Qdrant db object\n",
    "db = Qdrant(\n",
    "    client=qclient,\n",
    "    collection_name=collection_name,\n",
    "    distance_strategy=\"cosine\",\n",
    "    embeddings=embeddings,\n",
    ")\n",
    "\n",
    "# Check if collection exists if not create from documents\n",
    "try:\n",
    "    collection_status = qclient.get_collection(collection_name=collection_name).status\n",
    "    if collection_status == \"green\":\n",
    "        print(f\"Connected to collection: [b magenta]{collection_name}[/b magenta] ✅\")\n",
    "except Exception as e:\n",
    "    # response = json.loads(e.content.decode())\n",
    "    if e.reason_phrase == \"Not Found\":\n",
    "        print(\n",
    "            f\"Creating collection: {collection_name} with [b]{len(doc_chunks)}[/b] doc chunks ...\"\n",
    "        )\n",
    "        # Add documents to vector db with force_recreate = True for testing\n",
    "        db = db.from_documents(\n",
    "            documents=doc_chunks,\n",
    "            embedding=embeddings,\n",
    "            collection_name=collection_name,\n",
    "            force_recreate=True,  # Set this to false in PROD\n",
    "        )\n",
    "        print(\n",
    "            f\"Added [b]{len(doc_chunks)}[/b] to collection: [b green]{collection_name}[/b green] ✅\"\n",
    "        )"
   ]
  },
  {
   "cell_type": "markdown",
   "id": "d32da81f-03ba-45ef-847e-07a12f78f61c",
   "metadata": {},
   "source": [
    "### Testing Qdrant retriever\n",
    "\n",
    "For a given query, retrieve **top 5** documents and test if the document chunks returned are relevant to the query.\n",
    "\n",
    "We set our `search_type` to `similarity`, we can also try with `mmr`"
   ]
  },
  {
   "cell_type": "code",
   "execution_count": 28,
   "id": "95acfb95-7806-4ddc-a9be-f867b5bd6aea",
   "metadata": {},
   "outputs": [
    {
     "data": {
      "text/html": [
       "<pre style=\"white-space:pre;overflow-x:auto;line-height:normal;font-family:Menlo,'DejaVu Sans Mono',consolas,'Courier New',monospace\"></pre>\n"
      ],
      "text/plain": []
     },
     "metadata": {},
     "output_type": "display_data"
    },
    {
     "data": {
      "text/plain": [
       "\n",
       "\u001b[1m[\u001b[0m\n",
       "    \u001b[1;35mDocument\u001b[0m\u001b[1m(\u001b[0m\n",
       "        \u001b[33mpage_content\u001b[0m=\u001b[32m\"AWS\u001b[0m\u001b[32m\\n\\nDocumentation\\n\\nAmazon Bedrock\\n\\nUser Guide\\n\\nSupported regions and models\\n\\nAgents for Amazon Bedrock is supported in the following regions.\\n\\nUS East \u001b[0m\u001b[32m(\u001b[0m\u001b[32mN. Virginia\u001b[0m\u001b[32m)\u001b[0m\u001b[32m\\n\\nUS West \u001b[0m\u001b[32m(\u001b[0m\u001b[32mOregon\u001b[0m\u001b[32m)\u001b[0m\u001b[32m\\n\\nYou can use Agents for Amazon Bedrock with the following models.\\n\\nAnthropic Claude Instant v1\\n\\nAnthropic Claude v2.0\\n\\nJavascript is disabled or is unavailable in your browser.\\n\\nTo use the Amazon Web Services Documentation, Javascript must be enabled. Please refer to your browser's Help pages for instructions.Document Conventions\\n\\nAgents for Amazon Bedrock\\n\\nSet up action groups for your agent\\n\\nDid this page help you? - Yes\\n\\nThanks for letting us know we're doing a good job!\\n\\nIf you've got a moment, please tell us what we did right so we can do more of it.\\n\\nDid this page help you? - No\\n\\nThanks for letting us know this page needs work. We're sorry we let you down.\\n\\nIf you've got a moment, please tell us how we can make the documentation better.\"\u001b[0m,\n",
       "        \u001b[33mmetadata\u001b[0m=\u001b[1m{\u001b[0m\n",
       "            \u001b[32m'language'\u001b[0m: \u001b[32m'en'\u001b[0m,\n",
       "            \u001b[32m'source'\u001b[0m: \u001b[32m'https://docs.aws.amazon.com/bedrock/latest/userguide/agents-supported.html'\u001b[0m,\n",
       "            \u001b[32m'start_index'\u001b[0m: \u001b[1;36m0\u001b[0m,\n",
       "            \u001b[32m'title'\u001b[0m: \u001b[32m'Supported regions and models - Amazon Bedrock'\u001b[0m\n",
       "        \u001b[1m}\u001b[0m\n",
       "    \u001b[1m)\u001b[0m,\n",
       "    \u001b[1;35mDocument\u001b[0m\u001b[1m(\u001b[0m\n",
       "        \u001b[33mpage_content\u001b[0m=\u001b[32m'see   Amazon Bedrock . November 13, 2023 Documentation localization Amazon Bedrock documentation is now available in  Japanese  and  German .  October 20, 2023 Region expansion Amazon Bedrock is now available in Europe \u001b[0m\u001b[32m(\u001b[0m\u001b[32mFrankfurt\u001b[0m\u001b[32m)\u001b[0m\u001b[32m \u001b[0m\u001b[32m(\u001b[0m\u001b[32meu-central-1\u001b[0m\u001b[32m)\u001b[0m\u001b[32m. \\n     For information on endpoints, see\\n      Amazon Bedrock endpoints and quotas .  October 19, 2023 Region expansion Amazon Bedrock is now available in Asia Pacific \u001b[0m\u001b[32m(\u001b[0m\u001b[32mTokyo\u001b[0m\u001b[32m)\u001b[0m\u001b[32m \u001b[0m\u001b[32m(\u001b[0m\u001b[32map-northeast-1\u001b[0m\u001b[32m)\u001b[0m\u001b[32m. \\n     For information on endpoints, see\\n      Amazon Bedrock endpoints and quotas .  October 3, 2023 Gated general release Gated general release of the Amazon Bedrock service. \\n     For more information, see\\n      Amazon Bedrock .  September 28, 2023Javascript is disabled or is unavailable in your browser.'\u001b[0m,\n",
       "        \u001b[33mmetadata\u001b[0m=\u001b[1m{\u001b[0m\n",
       "            \u001b[32m'language'\u001b[0m: \u001b[32m'en'\u001b[0m,\n",
       "            \u001b[32m'source'\u001b[0m: \u001b[32m'https://docs.aws.amazon.com/bedrock/latest/userguide/doc-history.html'\u001b[0m,\n",
       "            \u001b[32m'start_index'\u001b[0m: \u001b[1;36m1978\u001b[0m,\n",
       "            \u001b[32m'title'\u001b[0m: \u001b[32m'Document history for the Amazon Bedrock User Guide - Amazon Bedrock'\u001b[0m\n",
       "        \u001b[1m}\u001b[0m\n",
       "    \u001b[1m)\u001b[0m,\n",
       "    \u001b[1;35mDocument\u001b[0m\u001b[1m(\u001b[0m\n",
       "        \u001b[33mpage_content\u001b[0m=\u001b[32m'AWS\\n\\nDocumentation\\n\\nAmazon Bedrock\\n\\nUser Guide\\n\\nUse the API\\n\\nFor details about the Amazon Bedrock API operations and parameters, see the following references.\\n\\nAgents for Amazon Bedrock API Reference  Includes API operations for setting up and configuring agents, knowledge bases, and their associated resources.\\n\\nAgents for Amazon Bedrock Runtime API Reference  Includes API operations for invoking agents and querying knowledge bases.For information about endpoints and regional support, see Service endpoints for Amazon Bedrock in the AWS General Reference.'\u001b[0m,\n",
       "        \u001b[33mmetadata\u001b[0m=\u001b[1m{\u001b[0m\n",
       "            \u001b[32m'language'\u001b[0m: \u001b[32m'en'\u001b[0m,\n",
       "            \u001b[32m'source'\u001b[0m: \u001b[32m'https://docs.aws.amazon.com/bedrock/latest/userguide/agents-api.html'\u001b[0m,\n",
       "            \u001b[32m'start_index'\u001b[0m: \u001b[1;36m0\u001b[0m,\n",
       "            \u001b[32m'title'\u001b[0m: \u001b[32m'Use the API - Amazon Bedrock'\u001b[0m\n",
       "        \u001b[1m}\u001b[0m\n",
       "    \u001b[1m)\u001b[0m,\n",
       "    \u001b[1;35mDocument\u001b[0m\u001b[1m(\u001b[0m\n",
       "        \u001b[33mpage_content\u001b[0m=\u001b[32m\"AWS\u001b[0m\u001b[32m\\n\\nDocumentation\\n\\nAmazon Bedrock\\n\\nUser GuideSupported regions and models\\n\\nKnowledge base for Amazon Bedrock is supported in the following regions.\\n\\nUS East \u001b[0m\u001b[32m(\u001b[0m\u001b[32mN. Virginia\u001b[0m\u001b[32m)\u001b[0m\u001b[32m\\n\\nUS West \u001b[0m\u001b[32m(\u001b[0m\u001b[32mOregon\u001b[0m\u001b[32m)\u001b[0m\u001b[32m\\n\\nYou can use Knowledge base for Amazon Bedrock with the following models.\\n\\nAnthropic Claude Instant v1\\n\\nAnthropic Claude v2.0\\n\\nJavascript is disabled or is unavailable in your browser.\\n\\nTo use the Amazon Web Services Documentation, Javascript must be enabled. Please refer to your browser's Help pages for instructions.\\n\\nDocument ConventionsKnowledge base for Amazon Bedrock\\n\\nSet up your data for ingestion\\n\\nDid this page help you? - Yes\\n\\nThanks for letting us know we're doing a good job!\\n\\nIf you've got a moment, please tell us what we did right so we can do more of it.\\n\\nDid this page help you? - No\\n\\nThanks for letting us know this page needs work. We're sorry we let you down.\\n\\nIf you've got a moment, please tell us how we can make the documentation better.\"\u001b[0m,\n",
       "        \u001b[33mmetadata\u001b[0m=\u001b[1m{\u001b[0m\n",
       "            \u001b[32m'language'\u001b[0m: \u001b[32m'en'\u001b[0m,\n",
       "            \u001b[32m'source'\u001b[0m: \u001b[32m'https://docs.aws.amazon.com/bedrock/latest/userguide/knowledge-base-supported.html'\u001b[0m,\n",
       "            \u001b[32m'start_index'\u001b[0m: \u001b[1;36m0\u001b[0m,\n",
       "            \u001b[32m'title'\u001b[0m: \u001b[32m'Supported regions and models - Amazon Bedrock'\u001b[0m\n",
       "        \u001b[1m}\u001b[0m\n",
       "    \u001b[1m)\u001b[0m\n",
       "\u001b[1m]\u001b[0m"
      ]
     },
     "execution_count": 28,
     "metadata": {},
     "output_type": "execute_result"
    }
   ],
   "source": [
    "# define retriever args\n",
    "retriever_kwargs = {\"search_type\": \"similarity\", \"top_k\": 5}\n",
    "retriever = db.as_retriever(**retriever_kwargs)\n",
    "# query = \"What are some of General guidelines for Amazon Bedrock LLM users\"\n",
    "query = \"Which regions are Agents for Amazon Bedrock available in\"\n",
    "retriever.get_relevant_documents(query)"
   ]
  },
  {
   "cell_type": "code",
   "execution_count": null,
   "id": "f80555ed-273e-417f-8499-618ac5716afe",
   "metadata": {},
   "outputs": [],
   "source": []
  }
 ],
 "metadata": {
  "kernelspec": {
   "display_name": "AnthropicGH",
   "language": "python",
   "name": "anthropicgh"
  },
  "language_info": {
   "codemirror_mode": {
    "name": "ipython",
    "version": 3
   },
   "file_extension": ".py",
   "mimetype": "text/x-python",
   "name": "python",
   "nbconvert_exporter": "python",
   "pygments_lexer": "ipython3",
   "version": "3.11.5"
  }
 },
 "nbformat": 4,
 "nbformat_minor": 5
}
