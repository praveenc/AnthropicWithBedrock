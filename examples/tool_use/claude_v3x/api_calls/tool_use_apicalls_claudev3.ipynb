{
 "cells": [
  {
   "cell_type": "markdown",
   "id": "268c9a80-2e32-4df3-9534-bb77d75bcacf",
   "metadata": {},
   "source": [
    "# Tool use (api calls) w/ Anthropic Claude 3.x versions on Amazon Bedrock\n",
    "\n",
    "In this notebook, we demonstrate how to build tools that make calls to external apis to get information.\n",
    "\n",
    "Ref: <https://github.com/anthropics/anthropic-cookbook/blob/main/tool_use/calculator_tool.ipynb>\n",
    "\n",
    "Install packages using uv, an extremely fast python package installer\\\n",
    "Read more about uv here https://astral.sh/blog/uv"
   ]
  },
  {
   "cell_type": "code",
   "execution_count": null,
   "id": "c1925b7c-9be4-4df9-b64d-d1fbd5eebcbe",
   "metadata": {
    "scrolled": true
   },
   "outputs": [],
   "source": [
    "%%bash\n",
    "pip install uv && uv pip install -U boto3 rich"
   ]
  },
  {
   "cell_type": "code",
   "execution_count": 2,
   "id": "4ecc9280-75c6-47dc-9e49-4b437e9adfad",
   "metadata": {},
   "outputs": [
    {
     "name": "stdout",
     "output_type": "stream",
     "text": [
      "Python 3.10.14\n"
     ]
    }
   ],
   "source": [
    "!python --version"
   ]
  },
  {
   "cell_type": "code",
   "execution_count": 3,
   "id": "6b8f33b7-1d23-4853-aa77-b3ce2db6a961",
   "metadata": {},
   "outputs": [
    {
     "data": {
      "text/html": [
       "<script>Jupyter.notebook.kernel.restart()</script>"
      ],
      "text/plain": [
       "<IPython.core.display.HTML object>"
      ]
     },
     "execution_count": 3,
     "metadata": {},
     "output_type": "execute_result"
    }
   ],
   "source": [
    "# restart kernel\n",
    "from IPython.core.display import HTML\n",
    "\n",
    "HTML(\"<script>Jupyter.notebook.kernel.restart()</script>\")"
   ]
  },
  {
   "cell_type": "code",
   "execution_count": 4,
   "id": "5479edea-3623-4ce1-a8e7-fa9370487920",
   "metadata": {
    "tags": []
   },
   "outputs": [],
   "source": [
    "%load_ext rich"
   ]
  },
  {
   "cell_type": "code",
   "execution_count": 5,
   "id": "ec60a83e-b692-4587-8f55-70a9e9766268",
   "metadata": {
    "tags": []
   },
   "outputs": [],
   "source": [
    "import json\n",
    "import types\n",
    "from datetime import date\n",
    "\n",
    "import boto3\n",
    "from tools_claudev3 import *\n",
    "from rich import print"
   ]
  },
  {
   "cell_type": "markdown",
   "id": "b011cdf5-f490-4bc2-b3d9-03cf75b0d946",
   "metadata": {},
   "source": [
    "## List Anthropic Model IDs in Bedrock"
   ]
  },
  {
   "cell_type": "code",
   "execution_count": 6,
   "id": "23b17a36-b763-4049-ba4a-206765d04cec",
   "metadata": {},
   "outputs": [
    {
     "data": {
      "text/html": [
       "<pre style=\"white-space:pre;overflow-x:auto;line-height:normal;font-family:Menlo,'DejaVu Sans Mono',consolas,'Courier New',monospace\"><span style=\"color: #000080; text-decoration-color: #000080; font-weight: bold\">Claude </span><span style=\"color: #000080; text-decoration-color: #000080; font-weight: bold\">3</span><span style=\"color: #000080; text-decoration-color: #000080; font-weight: bold\"> ModelIDs</span>\n",
       "</pre>\n"
      ],
      "text/plain": [
       "\u001b[1;34mClaude \u001b[0m\u001b[1;34m3\u001b[0m\u001b[1;34m ModelIDs\u001b[0m\n"
      ]
     },
     "metadata": {},
     "output_type": "display_data"
    },
    {
     "data": {
      "text/html": [
       "<pre style=\"white-space:pre;overflow-x:auto;line-height:normal;font-family:Menlo,'DejaVu Sans Mono',consolas,'Courier New',monospace\"><span style=\"font-weight: bold\">[</span>\n",
       "    <span style=\"color: #008000; text-decoration-color: #008000\">'anthropic.claude-3-sonnet-20240229-v1:0'</span>,\n",
       "    <span style=\"color: #008000; text-decoration-color: #008000\">'anthropic.claude-3-haiku-20240307-v1:0'</span>,\n",
       "    <span style=\"color: #008000; text-decoration-color: #008000\">'anthropic.claude-3-opus-20240229-v1:0'</span>\n",
       "<span style=\"font-weight: bold\">]</span>\n",
       "</pre>\n"
      ],
      "text/plain": [
       "\u001b[1m[\u001b[0m\n",
       "    \u001b[32m'anthropic.claude-3-sonnet-20240229-v1:0'\u001b[0m,\n",
       "    \u001b[32m'anthropic.claude-3-haiku-20240307-v1:0'\u001b[0m,\n",
       "    \u001b[32m'anthropic.claude-3-opus-20240229-v1:0'\u001b[0m\n",
       "\u001b[1m]\u001b[0m\n"
      ]
     },
     "metadata": {},
     "output_type": "display_data"
    },
    {
     "data": {
      "text/html": [
       "<pre style=\"white-space:pre;overflow-x:auto;line-height:normal;font-family:Menlo,'DejaVu Sans Mono',consolas,'Courier New',monospace\">==============================\n",
       "</pre>\n"
      ],
      "text/plain": [
       "==============================\n"
      ]
     },
     "metadata": {},
     "output_type": "display_data"
    },
    {
     "data": {
      "text/html": [
       "<pre style=\"white-space:pre;overflow-x:auto;line-height:normal;font-family:Menlo,'DejaVu Sans Mono',consolas,'Courier New',monospace\">Haiku Model ID: <span style=\"color: #800000; text-decoration-color: #800000; font-weight: bold\">anthropic.claude-</span><span style=\"color: #800000; text-decoration-color: #800000; font-weight: bold\">3</span><span style=\"color: #800000; text-decoration-color: #800000; font-weight: bold\">-haiku-</span><span style=\"color: #800000; text-decoration-color: #800000; font-weight: bold\">20240307</span><span style=\"color: #800000; text-decoration-color: #800000; font-weight: bold\">-v1:0</span>\n",
       "</pre>\n"
      ],
      "text/plain": [
       "Haiku Model ID: \u001b[1;31manthropic.claude-\u001b[0m\u001b[1;31m3\u001b[0m\u001b[1;31m-haiku-\u001b[0m\u001b[1;31m20240307\u001b[0m\u001b[1;31m-v\u001b[0m\u001b[1;31m1:0\u001b[0m\n"
      ]
     },
     "metadata": {},
     "output_type": "display_data"
    },
    {
     "data": {
      "text/html": [
       "<pre style=\"white-space:pre;overflow-x:auto;line-height:normal;font-family:Menlo,'DejaVu Sans Mono',consolas,'Courier New',monospace\">==============================\n",
       "</pre>\n"
      ],
      "text/plain": [
       "==============================\n"
      ]
     },
     "metadata": {},
     "output_type": "display_data"
    }
   ],
   "source": [
    "session = boto3.Session()\n",
    "region = session.region_name\n",
    "bedrock = session.client(service_name='bedrock', region_name=region)\n",
    "bedrock_runtime = session.client(service_name='bedrock-runtime', region_name=region)\n",
    "\n",
    "# List Anthropic models in Bedrock\n",
    "models = bedrock.list_foundation_models(byProvider=\"Anthropic\", byOutputModality=\"TEXT\")[\n",
    "    \"modelSummaries\"\n",
    "]\n",
    "\n",
    "# Print only Claude 3 models\n",
    "model_ids = [\n",
    "    model[\"modelId\"]\n",
    "    for model in models\n",
    "    if \"claude-3\" in model[\"modelId\"] and \"v1:0:\" not in model[\"modelId\"]\n",
    "]\n",
    "\n",
    "print(\"[b blue]Claude 3 ModelIDs\")\n",
    "print(model_ids)\n",
    "\n",
    "print(\"===\" * 10)\n",
    "# change string in if loop for sonnet or opus\n",
    "claude_haiku = [m for m in model_ids if \"haiku\" in m][0]\n",
    "print(f\"Haiku Model ID: [b red]{claude_haiku}\")\n",
    "print(\"===\" * 10)"
   ]
  },
  {
   "cell_type": "code",
   "execution_count": 7,
   "id": "b61a9e1a-3413-47a8-8d74-27af9069e7bc",
   "metadata": {
    "jupyter": {
     "source_hidden": true
    }
   },
   "outputs": [],
   "source": [
    "# Invoking using Anthropic Client + Session Credentials\n",
    "\n",
    "# creds = boto_session.get_credentials()\n",
    "\n",
    "# llm_client = AnthropicBedrock(\n",
    "#     aws_access_key=creds.access_key,\n",
    "#     aws_secret_key=creds.secret_key,\n",
    "#     aws_session_token=creds.token,\n",
    "#     aws_region=region,\n",
    "# )\n",
    "\n",
    "# message = llm_client.messages.create(\n",
    "#     model=claude_haiku,\n",
    "#     max_tokens=256,\n",
    "#     messages=[{\"role\": \"user\", \"content\": \"Hello, world\"}],\n",
    "# )\n",
    "# print(type(message))\n",
    "# print(message.content)"
   ]
  },
  {
   "cell_type": "markdown",
   "id": "66c7c74b-1fb7-4c1c-85bc-1e2b1d2fdb59",
   "metadata": {},
   "source": [
    "## Define tools\n",
    "\n",
    "1. We'll define a simple `calculator` tool that can perform basic arithmetic operations. The tool will take a mathematical expression as input and return the result.\n",
    "2. Next, We define two additional functions to help get weather information\n",
    "   1. `get_lat_long` to get latitude and longitude for a given place\n",
    "   2. `get_weather` gets the current weather for a given latitude and longitude\n",
    "\n",
    "<div class=\"alert alert-info\">\n",
    "<strong>Note:</strong> Refer to <a href=\"./tools_claudev3.py\">tools_claudev3.py</a> file for all defined tools.\n",
    "</div>\n",
    "\n",
    "### Example 1. Calculator Tool\n",
    "\n",
    "In this example, we define a calculate function that takes a mathematical expression as input, removes any non-digit or non-operator characters using a regular expression, and then evaluates the expression using the built-in `eval()` function.\\\n",
    "If the evaluation is successful, the result is returned as a string. If an error occurs during evaluation, an error message is returned.\n",
    "\n",
    "We then define the calculator tool with an input schema that expects a single expression property of type string.\n",
    "\n",
    "**Note:** We call `eval` on the outputted expression.\\\n",
    "This is bad practice and should not be used generally but we are doing it for the purpose of demonstration."
   ]
  },
  {
   "cell_type": "code",
   "execution_count": 8,
   "id": "383abbfa-3cdf-4b37-87af-b7d8aad4165d",
   "metadata": {},
   "outputs": [],
   "source": [
    "# %cat tools_claudev3.py"
   ]
  },
  {
   "cell_type": "code",
   "execution_count": 9,
   "id": "e78204d0-f3e5-4f70-abc2-ed337a15bffb",
   "metadata": {},
   "outputs": [
    {
     "data": {
      "text/html": [
       "<pre style=\"white-space:pre;overflow-x:auto;line-height:normal;font-family:Menlo,'DejaVu Sans Mono',consolas,'Courier New',monospace\"><span style=\"font-weight: bold\">[</span>\n",
       "    <span style=\"font-weight: bold\">{</span>\n",
       "        <span style=\"color: #008000; text-decoration-color: #008000\">'name'</span>: <span style=\"color: #008000; text-decoration-color: #008000\">'calculator'</span>,\n",
       "        <span style=\"color: #008000; text-decoration-color: #008000\">'description'</span>: <span style=\"color: #008000; text-decoration-color: #008000\">'A simple calculator that performs basic arithmetic operations.'</span>,\n",
       "        <span style=\"color: #008000; text-decoration-color: #008000\">'input_schema'</span>: <span style=\"font-weight: bold\">{</span>\n",
       "            <span style=\"color: #008000; text-decoration-color: #008000\">'type'</span>: <span style=\"color: #008000; text-decoration-color: #008000\">'object'</span>,\n",
       "            <span style=\"color: #008000; text-decoration-color: #008000\">'properties'</span>: <span style=\"font-weight: bold\">{</span>\n",
       "                <span style=\"color: #008000; text-decoration-color: #008000\">'expression'</span>: <span style=\"font-weight: bold\">{</span>\n",
       "                    <span style=\"color: #008000; text-decoration-color: #008000\">'type'</span>: <span style=\"color: #008000; text-decoration-color: #008000\">'string'</span>,\n",
       "                    <span style=\"color: #008000; text-decoration-color: #008000\">'description'</span>: <span style=\"color: #008000; text-decoration-color: #008000\">\"The mathematical expression to evaluate (e.g., '2 + 3 * 4').\"</span>\n",
       "                <span style=\"font-weight: bold\">}</span>\n",
       "            <span style=\"font-weight: bold\">}</span>,\n",
       "            <span style=\"color: #008000; text-decoration-color: #008000\">'required'</span>: <span style=\"font-weight: bold\">[</span><span style=\"color: #008000; text-decoration-color: #008000\">'expression'</span><span style=\"font-weight: bold\">]</span>\n",
       "        <span style=\"font-weight: bold\">}</span>\n",
       "    <span style=\"font-weight: bold\">}</span>,\n",
       "    <span style=\"font-weight: bold\">{</span>\n",
       "        <span style=\"color: #008000; text-decoration-color: #008000\">'name'</span>: <span style=\"color: #008000; text-decoration-color: #008000\">'get_lat_long'</span>,\n",
       "        <span style=\"color: #008000; text-decoration-color: #008000\">'description'</span>: <span style=\"color: #008000; text-decoration-color: #008000\">'Tool to retrieve latitude and longitude for a given place.'</span>,\n",
       "        <span style=\"color: #008000; text-decoration-color: #008000\">'input_schema'</span>: <span style=\"font-weight: bold\">{</span>\n",
       "            <span style=\"color: #008000; text-decoration-color: #008000\">'type'</span>: <span style=\"color: #008000; text-decoration-color: #008000\">'object'</span>,\n",
       "            <span style=\"color: #008000; text-decoration-color: #008000\">'properties'</span>: <span style=\"font-weight: bold\">{</span>\n",
       "                <span style=\"color: #008000; text-decoration-color: #008000\">'place'</span>: <span style=\"font-weight: bold\">{</span>\n",
       "                    <span style=\"color: #008000; text-decoration-color: #008000\">'type'</span>: <span style=\"color: #008000; text-decoration-color: #008000\">'string'</span>,\n",
       "                    <span style=\"color: #008000; text-decoration-color: #008000\">'description'</span>: <span style=\"color: #008000; text-decoration-color: #008000\">'The place name to geocode and get coordinates for. (e.g., San Francisco)'</span>\n",
       "                <span style=\"font-weight: bold\">}</span>\n",
       "            <span style=\"font-weight: bold\">}</span>,\n",
       "            <span style=\"color: #008000; text-decoration-color: #008000\">'required'</span>: <span style=\"font-weight: bold\">[</span><span style=\"color: #008000; text-decoration-color: #008000\">'place'</span><span style=\"font-weight: bold\">]</span>\n",
       "        <span style=\"font-weight: bold\">}</span>\n",
       "    <span style=\"font-weight: bold\">}</span>,\n",
       "    <span style=\"font-weight: bold\">{</span>\n",
       "        <span style=\"color: #008000; text-decoration-color: #008000\">'name'</span>: <span style=\"color: #008000; text-decoration-color: #008000\">'get_weather'</span>,\n",
       "        <span style=\"color: #008000; text-decoration-color: #008000\">'description'</span>: <span style=\"color: #008000; text-decoration-color: #008000\">'Returns weather data for a given latitude and longitude.'</span>,\n",
       "        <span style=\"color: #008000; text-decoration-color: #008000\">'input_schema'</span>: <span style=\"font-weight: bold\">{</span>\n",
       "            <span style=\"color: #008000; text-decoration-color: #008000\">'type'</span>: <span style=\"color: #008000; text-decoration-color: #008000\">'object'</span>,\n",
       "            <span style=\"color: #008000; text-decoration-color: #008000\">'properties'</span>: <span style=\"font-weight: bold\">{</span>\n",
       "                <span style=\"color: #008000; text-decoration-color: #008000\">'latitude'</span>: <span style=\"font-weight: bold\">{</span><span style=\"color: #008000; text-decoration-color: #008000\">'type'</span>: <span style=\"color: #008000; text-decoration-color: #008000\">'string'</span>, <span style=\"color: #008000; text-decoration-color: #008000\">'description'</span>: <span style=\"color: #008000; text-decoration-color: #008000\">'The latitude coordinate as a string'</span><span style=\"font-weight: bold\">}</span>,\n",
       "                <span style=\"color: #008000; text-decoration-color: #008000\">'longitude'</span>: <span style=\"font-weight: bold\">{</span><span style=\"color: #008000; text-decoration-color: #008000\">'type'</span>: <span style=\"color: #008000; text-decoration-color: #008000\">'string'</span>, <span style=\"color: #008000; text-decoration-color: #008000\">'description'</span>: <span style=\"color: #008000; text-decoration-color: #008000\">'The longitude coordinate as a string'</span><span style=\"font-weight: bold\">}</span>\n",
       "            <span style=\"font-weight: bold\">}</span>,\n",
       "            <span style=\"color: #008000; text-decoration-color: #008000\">'required'</span>: <span style=\"font-weight: bold\">[</span><span style=\"color: #008000; text-decoration-color: #008000\">'latitude'</span>, <span style=\"color: #008000; text-decoration-color: #008000\">'longitude'</span><span style=\"font-weight: bold\">]</span>\n",
       "        <span style=\"font-weight: bold\">}</span>\n",
       "    <span style=\"font-weight: bold\">}</span>\n",
       "<span style=\"font-weight: bold\">]</span>\n",
       "</pre>\n"
      ],
      "text/plain": [
       "\u001b[1m[\u001b[0m\n",
       "    \u001b[1m{\u001b[0m\n",
       "        \u001b[32m'name'\u001b[0m: \u001b[32m'calculator'\u001b[0m,\n",
       "        \u001b[32m'description'\u001b[0m: \u001b[32m'A simple calculator that performs basic arithmetic operations.'\u001b[0m,\n",
       "        \u001b[32m'input_schema'\u001b[0m: \u001b[1m{\u001b[0m\n",
       "            \u001b[32m'type'\u001b[0m: \u001b[32m'object'\u001b[0m,\n",
       "            \u001b[32m'properties'\u001b[0m: \u001b[1m{\u001b[0m\n",
       "                \u001b[32m'expression'\u001b[0m: \u001b[1m{\u001b[0m\n",
       "                    \u001b[32m'type'\u001b[0m: \u001b[32m'string'\u001b[0m,\n",
       "                    \u001b[32m'description'\u001b[0m: \u001b[32m\"The mathematical expression to evaluate \u001b[0m\u001b[32m(\u001b[0m\u001b[32me.g., '2 + 3 * 4'\u001b[0m\u001b[32m)\u001b[0m\u001b[32m.\"\u001b[0m\n",
       "                \u001b[1m}\u001b[0m\n",
       "            \u001b[1m}\u001b[0m,\n",
       "            \u001b[32m'required'\u001b[0m: \u001b[1m[\u001b[0m\u001b[32m'expression'\u001b[0m\u001b[1m]\u001b[0m\n",
       "        \u001b[1m}\u001b[0m\n",
       "    \u001b[1m}\u001b[0m,\n",
       "    \u001b[1m{\u001b[0m\n",
       "        \u001b[32m'name'\u001b[0m: \u001b[32m'get_lat_long'\u001b[0m,\n",
       "        \u001b[32m'description'\u001b[0m: \u001b[32m'Tool to retrieve latitude and longitude for a given place.'\u001b[0m,\n",
       "        \u001b[32m'input_schema'\u001b[0m: \u001b[1m{\u001b[0m\n",
       "            \u001b[32m'type'\u001b[0m: \u001b[32m'object'\u001b[0m,\n",
       "            \u001b[32m'properties'\u001b[0m: \u001b[1m{\u001b[0m\n",
       "                \u001b[32m'place'\u001b[0m: \u001b[1m{\u001b[0m\n",
       "                    \u001b[32m'type'\u001b[0m: \u001b[32m'string'\u001b[0m,\n",
       "                    \u001b[32m'description'\u001b[0m: \u001b[32m'The place name to geocode and get coordinates for. \u001b[0m\u001b[32m(\u001b[0m\u001b[32me.g., San Francisco\u001b[0m\u001b[32m)\u001b[0m\u001b[32m'\u001b[0m\n",
       "                \u001b[1m}\u001b[0m\n",
       "            \u001b[1m}\u001b[0m,\n",
       "            \u001b[32m'required'\u001b[0m: \u001b[1m[\u001b[0m\u001b[32m'place'\u001b[0m\u001b[1m]\u001b[0m\n",
       "        \u001b[1m}\u001b[0m\n",
       "    \u001b[1m}\u001b[0m,\n",
       "    \u001b[1m{\u001b[0m\n",
       "        \u001b[32m'name'\u001b[0m: \u001b[32m'get_weather'\u001b[0m,\n",
       "        \u001b[32m'description'\u001b[0m: \u001b[32m'Returns weather data for a given latitude and longitude.'\u001b[0m,\n",
       "        \u001b[32m'input_schema'\u001b[0m: \u001b[1m{\u001b[0m\n",
       "            \u001b[32m'type'\u001b[0m: \u001b[32m'object'\u001b[0m,\n",
       "            \u001b[32m'properties'\u001b[0m: \u001b[1m{\u001b[0m\n",
       "                \u001b[32m'latitude'\u001b[0m: \u001b[1m{\u001b[0m\u001b[32m'type'\u001b[0m: \u001b[32m'string'\u001b[0m, \u001b[32m'description'\u001b[0m: \u001b[32m'The latitude coordinate as a string'\u001b[0m\u001b[1m}\u001b[0m,\n",
       "                \u001b[32m'longitude'\u001b[0m: \u001b[1m{\u001b[0m\u001b[32m'type'\u001b[0m: \u001b[32m'string'\u001b[0m, \u001b[32m'description'\u001b[0m: \u001b[32m'The longitude coordinate as a string'\u001b[0m\u001b[1m}\u001b[0m\n",
       "            \u001b[1m}\u001b[0m,\n",
       "            \u001b[32m'required'\u001b[0m: \u001b[1m[\u001b[0m\u001b[32m'latitude'\u001b[0m, \u001b[32m'longitude'\u001b[0m\u001b[1m]\u001b[0m\n",
       "        \u001b[1m}\u001b[0m\n",
       "    \u001b[1m}\u001b[0m\n",
       "\u001b[1m]\u001b[0m\n"
      ]
     },
     "metadata": {},
     "output_type": "display_data"
    }
   ],
   "source": [
    "# Let's examine the tools list we pass to claude v3 as model parameters\n",
    "print(tools)"
   ]
  },
  {
   "cell_type": "markdown",
   "id": "f67e5405-86e8-404b-a41e-4d99b44512a4",
   "metadata": {},
   "source": [
    "### Helper functions to interact with Claude\n",
    "\n",
    "Here we use `bedrock_runtime.invoke_model` to invoke the LLM."
   ]
  },
  {
   "cell_type": "code",
   "execution_count": 10,
   "id": "a4d62214-daca-4e4a-9799-51067471ef3e",
   "metadata": {},
   "outputs": [],
   "source": [
    "def process_tool_call(tool_name, tool_input):\n",
    "    if tool_name == \"calculator\":\n",
    "        return calculate(tool_input[\"expression\"])\n",
    "    if tool_name == \"get_lat_long\":\n",
    "        return get_lat_long(tool_input[\"place\"])\n",
    "    if tool_name == \"get_weather\":\n",
    "        return get_weather(tool_input[\"latitude\"], tool_input[\"longitude\"])\n",
    "\n",
    "\n",
    "def chat_with_claude(prompt, MODEL_NAME=claude_haiku, tools=tools, bedrock_runtime=bedrock_runtime):\n",
    "    print(f\"\\n{'='*50}\\nUser Message: {prompt}\\n{'='*50}\")\n",
    "\n",
    "    system_prompt = f\"\"\"\n",
    "        Answer as many questions as you can using your existing knowledge.\n",
    "        For arthimetic operations, always use the calculator tool.\n",
    "        For getting latest weather information, always use get_lat_long followed by get_weather tools.\n",
    "        Today's date is {date.today().strftime(\"%B %d %Y\")}\n",
    "        If you think a user's question involves something in the future that hasn't happened yet, use the search tool.\n",
    "    \"\"\".strip()\n",
    "\n",
    "    payload = {\n",
    "        \"max_tokens\": 4096,\n",
    "        \"anthropic_version\": \"bedrock-2023-05-31\",\n",
    "        \"system\": system_prompt,\n",
    "        \"messages\": [{\"role\": \"user\", \"content\": prompt}],\n",
    "        \"tool_choice\": {\"type\": \"auto\"},\n",
    "        \"tools\": tools,\n",
    "    }\n",
    "\n",
    "    response = bedrock_runtime.invoke_model(body=json.dumps(payload), modelId=MODEL_NAME)\n",
    "    # read byte stream and load the response object (dict)\n",
    "    response_body = json.loads(response.get(\"body\").read())\n",
    "    # SimpleNamespace to make dict dot accessible\n",
    "    message = types.SimpleNamespace(**response_body)\n",
    "\n",
    "    print(\"\\nInitial Response:\")\n",
    "    print(f\"Stop Reason: {message.stop_reason}\")\n",
    "    print(f\"Content:\\n{json.dumps(message.content, indent=2)}\")\n",
    "\n",
    "    while True:\n",
    "        if message.stop_reason == \"tool_use\":\n",
    "            tool_use = next((obj for obj in message.content if obj[\"type\"] == \"tool_use\"), None)\n",
    "            tool_name = tool_use[\"name\"]\n",
    "            tool_input = tool_use[\"input\"]\n",
    "            tool_use_id = tool_use[\"id\"]\n",
    "\n",
    "            print(f\"\\nTool Used: {tool_name}\")\n",
    "            print(f\"Tool Input: {tool_input}\")\n",
    "\n",
    "            tool_result = process_tool_call(tool_name, tool_input)\n",
    "\n",
    "            print(f\"Tool Result:\\n{json.dumps(tool_result, indent=2)}\")\n",
    "\n",
    "            # append the tool_result as a user response\n",
    "            messages = [\n",
    "                {\"role\": \"user\", \"content\": prompt},\n",
    "                {\"role\": \"assistant\", \"content\": message.content},\n",
    "                {\n",
    "                    \"role\": \"user\",\n",
    "                    \"content\": [\n",
    "                        {\n",
    "                            \"type\": \"tool_result\",\n",
    "                            \"tool_use_id\": tool_use_id,\n",
    "                            \"content\": json.dumps(tool_result),\n",
    "                        }\n",
    "                    ],\n",
    "                },\n",
    "            ]\n",
    "            # update messages in payload with new messages object\n",
    "            payload_ns = types.SimpleNamespace(**payload)\n",
    "            payload_ns.messages = messages\n",
    "            # convert SimpleNamespace object back to dict\n",
    "            payload = vars(payload_ns)\n",
    "            response = bedrock_runtime.invoke_model(body=json.dumps(payload), modelId=MODEL_NAME)\n",
    "            response = json.loads(response.get(\"body\").read())\n",
    "            message = types.SimpleNamespace(**response)\n",
    "        else:\n",
    "            response = message\n",
    "            break\n",
    "\n",
    "    final_response = next(\n",
    "        (obj[\"text\"] for obj in response.content if obj[\"type\"] == \"text\"),\n",
    "        None,\n",
    "    )\n",
    "\n",
    "    return final_response"
   ]
  },
  {
   "cell_type": "markdown",
   "id": "af2e58d5-05e8-4db3-a36f-1464647ef04a",
   "metadata": {},
   "source": [
    "### Test Calculator Tool"
   ]
  },
  {
   "cell_type": "code",
   "execution_count": 11,
   "id": "626d9c80-4926-43a0-954d-a8ea5e0f5410",
   "metadata": {},
   "outputs": [
    {
     "data": {
      "text/html": [
       "<pre style=\"white-space:pre;overflow-x:auto;line-height:normal;font-family:Menlo,'DejaVu Sans Mono',consolas,'Courier New',monospace\">\n",
       "==================================================\n",
       "User Message: What is the result of <span style=\"color: #008080; text-decoration-color: #008080; font-weight: bold\">1</span>,<span style=\"color: #008080; text-decoration-color: #008080; font-weight: bold\">984</span>,<span style=\"color: #008080; text-decoration-color: #008080; font-weight: bold\">135</span> * <span style=\"color: #008080; text-decoration-color: #008080; font-weight: bold\">9</span>,<span style=\"color: #008080; text-decoration-color: #008080; font-weight: bold\">343</span>,<span style=\"color: #008080; text-decoration-color: #008080; font-weight: bold\">116</span>?\n",
       "==================================================\n",
       "</pre>\n"
      ],
      "text/plain": [
       "\n",
       "==================================================\n",
       "User Message: What is the result of \u001b[1;36m1\u001b[0m,\u001b[1;36m984\u001b[0m,\u001b[1;36m135\u001b[0m * \u001b[1;36m9\u001b[0m,\u001b[1;36m343\u001b[0m,\u001b[1;36m116\u001b[0m?\n",
       "==================================================\n"
      ]
     },
     "metadata": {},
     "output_type": "display_data"
    },
    {
     "data": {
      "text/html": [
       "<pre style=\"white-space:pre;overflow-x:auto;line-height:normal;font-family:Menlo,'DejaVu Sans Mono',consolas,'Courier New',monospace\">\n",
       "Initial Response:\n",
       "</pre>\n"
      ],
      "text/plain": [
       "\n",
       "Initial Response:\n"
      ]
     },
     "metadata": {},
     "output_type": "display_data"
    },
    {
     "data": {
      "text/html": [
       "<pre style=\"white-space:pre;overflow-x:auto;line-height:normal;font-family:Menlo,'DejaVu Sans Mono',consolas,'Courier New',monospace\">Stop Reason: tool_use\n",
       "</pre>\n"
      ],
      "text/plain": [
       "Stop Reason: tool_use\n"
      ]
     },
     "metadata": {},
     "output_type": "display_data"
    },
    {
     "data": {
      "text/html": [
       "<pre style=\"white-space:pre;overflow-x:auto;line-height:normal;font-family:Menlo,'DejaVu Sans Mono',consolas,'Courier New',monospace\">Content:\n",
       "<span style=\"font-weight: bold\">[</span>\n",
       "  <span style=\"font-weight: bold\">{</span>\n",
       "    <span style=\"color: #008000; text-decoration-color: #008000\">\"type\"</span>: <span style=\"color: #008000; text-decoration-color: #008000\">\"tool_use\"</span>,\n",
       "    <span style=\"color: #008000; text-decoration-color: #008000\">\"id\"</span>: <span style=\"color: #008000; text-decoration-color: #008000\">\"toolu_bdrk_01Rcu1xjUcxUNE4hPkprHzZ9\"</span>,\n",
       "    <span style=\"color: #008000; text-decoration-color: #008000\">\"name\"</span>: <span style=\"color: #008000; text-decoration-color: #008000\">\"calculator\"</span>,\n",
       "    <span style=\"color: #008000; text-decoration-color: #008000\">\"input\"</span>: <span style=\"font-weight: bold\">{</span>\n",
       "      <span style=\"color: #008000; text-decoration-color: #008000\">\"expression\"</span>: <span style=\"color: #008000; text-decoration-color: #008000\">\"1984135 * 9343116\"</span>\n",
       "    <span style=\"font-weight: bold\">}</span>\n",
       "  <span style=\"font-weight: bold\">}</span>\n",
       "<span style=\"font-weight: bold\">]</span>\n",
       "</pre>\n"
      ],
      "text/plain": [
       "Content:\n",
       "\u001b[1m[\u001b[0m\n",
       "  \u001b[1m{\u001b[0m\n",
       "    \u001b[32m\"type\"\u001b[0m: \u001b[32m\"tool_use\"\u001b[0m,\n",
       "    \u001b[32m\"id\"\u001b[0m: \u001b[32m\"toolu_bdrk_01Rcu1xjUcxUNE4hPkprHzZ9\"\u001b[0m,\n",
       "    \u001b[32m\"name\"\u001b[0m: \u001b[32m\"calculator\"\u001b[0m,\n",
       "    \u001b[32m\"input\"\u001b[0m: \u001b[1m{\u001b[0m\n",
       "      \u001b[32m\"expression\"\u001b[0m: \u001b[32m\"1984135 * 9343116\"\u001b[0m\n",
       "    \u001b[1m}\u001b[0m\n",
       "  \u001b[1m}\u001b[0m\n",
       "\u001b[1m]\u001b[0m\n"
      ]
     },
     "metadata": {},
     "output_type": "display_data"
    },
    {
     "data": {
      "text/html": [
       "<pre style=\"white-space:pre;overflow-x:auto;line-height:normal;font-family:Menlo,'DejaVu Sans Mono',consolas,'Courier New',monospace\">\n",
       "Tool Used: calculator\n",
       "</pre>\n"
      ],
      "text/plain": [
       "\n",
       "Tool Used: calculator\n"
      ]
     },
     "metadata": {},
     "output_type": "display_data"
    },
    {
     "data": {
      "text/html": [
       "<pre style=\"white-space:pre;overflow-x:auto;line-height:normal;font-family:Menlo,'DejaVu Sans Mono',consolas,'Courier New',monospace\">Tool Input: <span style=\"font-weight: bold\">{</span><span style=\"color: #008000; text-decoration-color: #008000\">'expression'</span>: <span style=\"color: #008000; text-decoration-color: #008000\">'1984135 * 9343116'</span><span style=\"font-weight: bold\">}</span>\n",
       "</pre>\n"
      ],
      "text/plain": [
       "Tool Input: \u001b[1m{\u001b[0m\u001b[32m'expression'\u001b[0m: \u001b[32m'1984135 * 9343116'\u001b[0m\u001b[1m}\u001b[0m\n"
      ]
     },
     "metadata": {},
     "output_type": "display_data"
    },
    {
     "data": {
      "text/html": [
       "<pre style=\"white-space:pre;overflow-x:auto;line-height:normal;font-family:Menlo,'DejaVu Sans Mono',consolas,'Courier New',monospace\">Tool Result:\n",
       "<span style=\"color: #008000; text-decoration-color: #008000\">\"18538003464660\"</span>\n",
       "</pre>\n"
      ],
      "text/plain": [
       "Tool Result:\n",
       "\u001b[32m\"18538003464660\"\u001b[0m\n"
      ]
     },
     "metadata": {},
     "output_type": "display_data"
    },
    {
     "data": {
      "text/html": [
       "<pre style=\"white-space:pre;overflow-x:auto;line-height:normal;font-family:Menlo,'DejaVu Sans Mono',consolas,'Courier New',monospace\">\n",
       "==================================================\n",
       "Final Response:\n",
       "==================================================\n",
       "</pre>\n"
      ],
      "text/plain": [
       "\n",
       "==================================================\n",
       "Final Response:\n",
       "==================================================\n"
      ]
     },
     "metadata": {},
     "output_type": "display_data"
    },
    {
     "data": {
      "text/html": [
       "<pre style=\"white-space:pre;overflow-x:auto;line-height:normal;font-family:Menlo,'DejaVu Sans Mono',consolas,'Courier New',monospace\">Okay, based on the calculator tool, the result of <span style=\"color: #008080; text-decoration-color: #008080; font-weight: bold\">1</span>,<span style=\"color: #008080; text-decoration-color: #008080; font-weight: bold\">984</span>,<span style=\"color: #008080; text-decoration-color: #008080; font-weight: bold\">135</span> * <span style=\"color: #008080; text-decoration-color: #008080; font-weight: bold\">9</span>,<span style=\"color: #008080; text-decoration-color: #008080; font-weight: bold\">343</span>,<span style=\"color: #008080; text-decoration-color: #008080; font-weight: bold\">116</span> is <span style=\"color: #008080; text-decoration-color: #008080; font-weight: bold\">18</span>,<span style=\"color: #008080; text-decoration-color: #008080; font-weight: bold\">538</span>,<span style=\"color: #008080; text-decoration-color: #008080; font-weight: bold\">003</span>,<span style=\"color: #008080; text-decoration-color: #008080; font-weight: bold\">464</span>,<span style=\"color: #008080; text-decoration-color: #008080; font-weight: bold\">660</span>.\n",
       "</pre>\n"
      ],
      "text/plain": [
       "Okay, based on the calculator tool, the result of \u001b[1;36m1\u001b[0m,\u001b[1;36m984\u001b[0m,\u001b[1;36m135\u001b[0m * \u001b[1;36m9\u001b[0m,\u001b[1;36m343\u001b[0m,\u001b[1;36m116\u001b[0m is \u001b[1;36m18\u001b[0m,\u001b[1;36m538\u001b[0m,\u001b[1;36m003\u001b[0m,\u001b[1;36m464\u001b[0m,\u001b[1;36m660\u001b[0m.\n"
      ]
     },
     "metadata": {},
     "output_type": "display_data"
    }
   ],
   "source": [
    "calculator_result = chat_with_claude(\"What is the result of 1,984,135 * 9,343,116?\")\n",
    "print(f\"\\n{'='*50}\\nFinal Response:\\n{'='*50}\")\n",
    "print(calculator_result)\n",
    "\n",
    "# calculator_result = chat_with_claude(\"Calculate (12851 - 593) * 301 + 76\")\n",
    "# print(f\"\\n{'='*50}\\nFinal Response:\\n{'='*50}\")\n",
    "# print(calculator_result)\n",
    "\n",
    "# calculator_result = chat_with_claude(\"What is 15910385 divided by 193053?\")\n",
    "# print(f\"\\n{'='*50}\\nFinal Response:\\n{'='*50}\")\n",
    "# print(calculator_result)"
   ]
  },
  {
   "cell_type": "markdown",
   "id": "6a5224e7-f9f8-4d6f-8a13-42880b78d45b",
   "metadata": {},
   "source": [
    "### Test Weather tool"
   ]
  },
  {
   "cell_type": "code",
   "execution_count": 12,
   "id": "a4c3ba5a-e7af-4c7e-a08e-32923f0f7be1",
   "metadata": {},
   "outputs": [
    {
     "data": {
      "text/html": [
       "<pre style=\"white-space:pre;overflow-x:auto;line-height:normal;font-family:Menlo,'DejaVu Sans Mono',consolas,'Courier New',monospace\">\n",
       "==================================================\n",
       "User Message: What is weather in Los Angeles right now?\n",
       "==================================================\n",
       "</pre>\n"
      ],
      "text/plain": [
       "\n",
       "==================================================\n",
       "User Message: What is weather in Los Angeles right now?\n",
       "==================================================\n"
      ]
     },
     "metadata": {},
     "output_type": "display_data"
    },
    {
     "data": {
      "text/html": [
       "<pre style=\"white-space:pre;overflow-x:auto;line-height:normal;font-family:Menlo,'DejaVu Sans Mono',consolas,'Courier New',monospace\">\n",
       "Initial Response:\n",
       "</pre>\n"
      ],
      "text/plain": [
       "\n",
       "Initial Response:\n"
      ]
     },
     "metadata": {},
     "output_type": "display_data"
    },
    {
     "data": {
      "text/html": [
       "<pre style=\"white-space:pre;overflow-x:auto;line-height:normal;font-family:Menlo,'DejaVu Sans Mono',consolas,'Courier New',monospace\">Stop Reason: tool_use\n",
       "</pre>\n"
      ],
      "text/plain": [
       "Stop Reason: tool_use\n"
      ]
     },
     "metadata": {},
     "output_type": "display_data"
    },
    {
     "data": {
      "text/html": [
       "<pre style=\"white-space:pre;overflow-x:auto;line-height:normal;font-family:Menlo,'DejaVu Sans Mono',consolas,'Courier New',monospace\">Content:\n",
       "<span style=\"font-weight: bold\">[</span>\n",
       "  <span style=\"font-weight: bold\">{</span>\n",
       "    <span style=\"color: #008000; text-decoration-color: #008000\">\"type\"</span>: <span style=\"color: #008000; text-decoration-color: #008000\">\"text\"</span>,\n",
       "    <span style=\"color: #008000; text-decoration-color: #008000\">\"text\"</span>: <span style=\"color: #008000; text-decoration-color: #008000\">\"Okay, let's find the weather in Los Angeles right now.\"</span>\n",
       "  <span style=\"font-weight: bold\">}</span>,\n",
       "  <span style=\"font-weight: bold\">{</span>\n",
       "    <span style=\"color: #008000; text-decoration-color: #008000\">\"type\"</span>: <span style=\"color: #008000; text-decoration-color: #008000\">\"tool_use\"</span>,\n",
       "    <span style=\"color: #008000; text-decoration-color: #008000\">\"id\"</span>: <span style=\"color: #008000; text-decoration-color: #008000\">\"toolu_bdrk_01HQFyzdDGEAUfKde4ET6A4Q\"</span>,\n",
       "    <span style=\"color: #008000; text-decoration-color: #008000\">\"name\"</span>: <span style=\"color: #008000; text-decoration-color: #008000\">\"get_lat_long\"</span>,\n",
       "    <span style=\"color: #008000; text-decoration-color: #008000\">\"input\"</span>: <span style=\"font-weight: bold\">{</span>\n",
       "      <span style=\"color: #008000; text-decoration-color: #008000\">\"place\"</span>: <span style=\"color: #008000; text-decoration-color: #008000\">\"Los Angeles\"</span>\n",
       "    <span style=\"font-weight: bold\">}</span>\n",
       "  <span style=\"font-weight: bold\">}</span>\n",
       "<span style=\"font-weight: bold\">]</span>\n",
       "</pre>\n"
      ],
      "text/plain": [
       "Content:\n",
       "\u001b[1m[\u001b[0m\n",
       "  \u001b[1m{\u001b[0m\n",
       "    \u001b[32m\"type\"\u001b[0m: \u001b[32m\"text\"\u001b[0m,\n",
       "    \u001b[32m\"text\"\u001b[0m: \u001b[32m\"Okay, let's find the weather in Los Angeles right now.\"\u001b[0m\n",
       "  \u001b[1m}\u001b[0m,\n",
       "  \u001b[1m{\u001b[0m\n",
       "    \u001b[32m\"type\"\u001b[0m: \u001b[32m\"tool_use\"\u001b[0m,\n",
       "    \u001b[32m\"id\"\u001b[0m: \u001b[32m\"toolu_bdrk_01HQFyzdDGEAUfKde4ET6A4Q\"\u001b[0m,\n",
       "    \u001b[32m\"name\"\u001b[0m: \u001b[32m\"get_lat_long\"\u001b[0m,\n",
       "    \u001b[32m\"input\"\u001b[0m: \u001b[1m{\u001b[0m\n",
       "      \u001b[32m\"place\"\u001b[0m: \u001b[32m\"Los Angeles\"\u001b[0m\n",
       "    \u001b[1m}\u001b[0m\n",
       "  \u001b[1m}\u001b[0m\n",
       "\u001b[1m]\u001b[0m\n"
      ]
     },
     "metadata": {},
     "output_type": "display_data"
    },
    {
     "data": {
      "text/html": [
       "<pre style=\"white-space:pre;overflow-x:auto;line-height:normal;font-family:Menlo,'DejaVu Sans Mono',consolas,'Courier New',monospace\">\n",
       "Tool Used: get_lat_long\n",
       "</pre>\n"
      ],
      "text/plain": [
       "\n",
       "Tool Used: get_lat_long\n"
      ]
     },
     "metadata": {},
     "output_type": "display_data"
    },
    {
     "data": {
      "text/html": [
       "<pre style=\"white-space:pre;overflow-x:auto;line-height:normal;font-family:Menlo,'DejaVu Sans Mono',consolas,'Courier New',monospace\">Tool Input: <span style=\"font-weight: bold\">{</span><span style=\"color: #008000; text-decoration-color: #008000\">'place'</span>: <span style=\"color: #008000; text-decoration-color: #008000\">'Los Angeles'</span><span style=\"font-weight: bold\">}</span>\n",
       "</pre>\n"
      ],
      "text/plain": [
       "Tool Input: \u001b[1m{\u001b[0m\u001b[32m'place'\u001b[0m: \u001b[32m'Los Angeles'\u001b[0m\u001b[1m}\u001b[0m\n"
      ]
     },
     "metadata": {},
     "output_type": "display_data"
    },
    {
     "name": "stdout",
     "output_type": "stream",
     "text": [
      "Place: Los Angeles\n",
      "Longitude: -118.257720585538\n",
      "Latitude: 34.007287779437\n"
     ]
    },
    {
     "data": {
      "text/html": [
       "<pre style=\"white-space:pre;overflow-x:auto;line-height:normal;font-family:Menlo,'DejaVu Sans Mono',consolas,'Courier New',monospace\">Tool Result:\n",
       "<span style=\"font-weight: bold\">{</span>\n",
       "  <span style=\"color: #008000; text-decoration-color: #008000\">\"latitude\"</span>: <span style=\"color: #008000; text-decoration-color: #008000\">\"34.007287779437\"</span>,\n",
       "  <span style=\"color: #008000; text-decoration-color: #008000\">\"longitude\"</span>: <span style=\"color: #008000; text-decoration-color: #008000\">\"-118.257720585538\"</span>\n",
       "<span style=\"font-weight: bold\">}</span>\n",
       "</pre>\n"
      ],
      "text/plain": [
       "Tool Result:\n",
       "\u001b[1m{\u001b[0m\n",
       "  \u001b[32m\"latitude\"\u001b[0m: \u001b[32m\"34.007287779437\"\u001b[0m,\n",
       "  \u001b[32m\"longitude\"\u001b[0m: \u001b[32m\"-118.257720585538\"\u001b[0m\n",
       "\u001b[1m}\u001b[0m\n"
      ]
     },
     "metadata": {},
     "output_type": "display_data"
    },
    {
     "data": {
      "text/html": [
       "<pre style=\"white-space:pre;overflow-x:auto;line-height:normal;font-family:Menlo,'DejaVu Sans Mono',consolas,'Courier New',monospace\">\n",
       "Tool Used: get_weather\n",
       "</pre>\n"
      ],
      "text/plain": [
       "\n",
       "Tool Used: get_weather\n"
      ]
     },
     "metadata": {},
     "output_type": "display_data"
    },
    {
     "data": {
      "text/html": [
       "<pre style=\"white-space:pre;overflow-x:auto;line-height:normal;font-family:Menlo,'DejaVu Sans Mono',consolas,'Courier New',monospace\">Tool Input: <span style=\"font-weight: bold\">{</span><span style=\"color: #008000; text-decoration-color: #008000\">'latitude'</span>: <span style=\"color: #008000; text-decoration-color: #008000\">'34.007287779437'</span>, <span style=\"color: #008000; text-decoration-color: #008000\">'longitude'</span>: <span style=\"color: #008000; text-decoration-color: #008000\">'-118.257720585538'</span><span style=\"font-weight: bold\">}</span>\n",
       "</pre>\n"
      ],
      "text/plain": [
       "Tool Input: \u001b[1m{\u001b[0m\u001b[32m'latitude'\u001b[0m: \u001b[32m'34.007287779437'\u001b[0m, \u001b[32m'longitude'\u001b[0m: \u001b[32m'-118.257720585538'\u001b[0m\u001b[1m}\u001b[0m\n"
      ]
     },
     "metadata": {},
     "output_type": "display_data"
    },
    {
     "data": {
      "text/html": [
       "<pre style=\"white-space:pre;overflow-x:auto;line-height:normal;font-family:Menlo,'DejaVu Sans Mono',consolas,'Courier New',monospace\">Tool Result:\n",
       "<span style=\"font-weight: bold\">{</span>\n",
       "  <span style=\"color: #008000; text-decoration-color: #008000\">\"latitude\"</span>: <span style=\"color: #008080; text-decoration-color: #008080; font-weight: bold\">34.001816</span>,\n",
       "  <span style=\"color: #008000; text-decoration-color: #008000\">\"longitude\"</span>: <span style=\"color: #008080; text-decoration-color: #008080; font-weight: bold\">-118.251465</span>,\n",
       "  <span style=\"color: #008000; text-decoration-color: #008000\">\"generationtime_ms\"</span>: <span style=\"color: #008080; text-decoration-color: #008080; font-weight: bold\">0.050067901611328125</span>,\n",
       "  <span style=\"color: #008000; text-decoration-color: #008000\">\"utc_offset_seconds\"</span>: <span style=\"color: #008080; text-decoration-color: #008080; font-weight: bold\">0</span>,\n",
       "  <span style=\"color: #008000; text-decoration-color: #008000\">\"timezone\"</span>: <span style=\"color: #008000; text-decoration-color: #008000\">\"GMT\"</span>,\n",
       "  <span style=\"color: #008000; text-decoration-color: #008000\">\"timezone_abbreviation\"</span>: <span style=\"color: #008000; text-decoration-color: #008000\">\"GMT\"</span>,\n",
       "  <span style=\"color: #008000; text-decoration-color: #008000\">\"elevation\"</span>: <span style=\"color: #008080; text-decoration-color: #008080; font-weight: bold\">60.0</span>,\n",
       "  <span style=\"color: #008000; text-decoration-color: #008000\">\"current_weather_units\"</span>: <span style=\"font-weight: bold\">{</span>\n",
       "    <span style=\"color: #008000; text-decoration-color: #008000\">\"time\"</span>: <span style=\"color: #008000; text-decoration-color: #008000\">\"iso8601\"</span>,\n",
       "    <span style=\"color: #008000; text-decoration-color: #008000\">\"interval\"</span>: <span style=\"color: #008000; text-decoration-color: #008000\">\"seconds\"</span>,\n",
       "    <span style=\"color: #008000; text-decoration-color: #008000\">\"temperature\"</span>: <span style=\"color: #008000; text-decoration-color: #008000\">\"\\u00b0C\"</span>,\n",
       "    <span style=\"color: #008000; text-decoration-color: #008000\">\"windspeed\"</span>: <span style=\"color: #008000; text-decoration-color: #008000\">\"km/h\"</span>,\n",
       "    <span style=\"color: #008000; text-decoration-color: #008000\">\"winddirection\"</span>: <span style=\"color: #008000; text-decoration-color: #008000\">\"\\u00b0\"</span>,\n",
       "    <span style=\"color: #008000; text-decoration-color: #008000\">\"is_day\"</span>: <span style=\"color: #008000; text-decoration-color: #008000\">\"\"</span>,\n",
       "    <span style=\"color: #008000; text-decoration-color: #008000\">\"weathercode\"</span>: <span style=\"color: #008000; text-decoration-color: #008000\">\"wmo code\"</span>\n",
       "  <span style=\"font-weight: bold\">}</span>,\n",
       "  <span style=\"color: #008000; text-decoration-color: #008000\">\"current_weather\"</span>: <span style=\"font-weight: bold\">{</span>\n",
       "    <span style=\"color: #008000; text-decoration-color: #008000\">\"time\"</span>: <span style=\"color: #008000; text-decoration-color: #008000\">\"2024-07-25T18:15\"</span>,\n",
       "    <span style=\"color: #008000; text-decoration-color: #008000\">\"interval\"</span>: <span style=\"color: #008080; text-decoration-color: #008080; font-weight: bold\">900</span>,\n",
       "    <span style=\"color: #008000; text-decoration-color: #008000\">\"temperature\"</span>: <span style=\"color: #008080; text-decoration-color: #008080; font-weight: bold\">30.9</span>,\n",
       "    <span style=\"color: #008000; text-decoration-color: #008000\">\"windspeed\"</span>: <span style=\"color: #008080; text-decoration-color: #008080; font-weight: bold\">6.6</span>,\n",
       "    <span style=\"color: #008000; text-decoration-color: #008000\">\"winddirection\"</span>: <span style=\"color: #008080; text-decoration-color: #008080; font-weight: bold\">225</span>,\n",
       "    <span style=\"color: #008000; text-decoration-color: #008000\">\"is_day\"</span>: <span style=\"color: #008080; text-decoration-color: #008080; font-weight: bold\">1</span>,\n",
       "    <span style=\"color: #008000; text-decoration-color: #008000\">\"weathercode\"</span>: <span style=\"color: #008080; text-decoration-color: #008080; font-weight: bold\">0</span>\n",
       "  <span style=\"font-weight: bold\">}</span>\n",
       "<span style=\"font-weight: bold\">}</span>\n",
       "</pre>\n"
      ],
      "text/plain": [
       "Tool Result:\n",
       "\u001b[1m{\u001b[0m\n",
       "  \u001b[32m\"latitude\"\u001b[0m: \u001b[1;36m34.001816\u001b[0m,\n",
       "  \u001b[32m\"longitude\"\u001b[0m: \u001b[1;36m-118.251465\u001b[0m,\n",
       "  \u001b[32m\"generationtime_ms\"\u001b[0m: \u001b[1;36m0.050067901611328125\u001b[0m,\n",
       "  \u001b[32m\"utc_offset_seconds\"\u001b[0m: \u001b[1;36m0\u001b[0m,\n",
       "  \u001b[32m\"timezone\"\u001b[0m: \u001b[32m\"GMT\"\u001b[0m,\n",
       "  \u001b[32m\"timezone_abbreviation\"\u001b[0m: \u001b[32m\"GMT\"\u001b[0m,\n",
       "  \u001b[32m\"elevation\"\u001b[0m: \u001b[1;36m60.0\u001b[0m,\n",
       "  \u001b[32m\"current_weather_units\"\u001b[0m: \u001b[1m{\u001b[0m\n",
       "    \u001b[32m\"time\"\u001b[0m: \u001b[32m\"iso8601\"\u001b[0m,\n",
       "    \u001b[32m\"interval\"\u001b[0m: \u001b[32m\"seconds\"\u001b[0m,\n",
       "    \u001b[32m\"temperature\"\u001b[0m: \u001b[32m\"\\u00b0C\"\u001b[0m,\n",
       "    \u001b[32m\"windspeed\"\u001b[0m: \u001b[32m\"km/h\"\u001b[0m,\n",
       "    \u001b[32m\"winddirection\"\u001b[0m: \u001b[32m\"\\u00b0\"\u001b[0m,\n",
       "    \u001b[32m\"is_day\"\u001b[0m: \u001b[32m\"\"\u001b[0m,\n",
       "    \u001b[32m\"weathercode\"\u001b[0m: \u001b[32m\"wmo code\"\u001b[0m\n",
       "  \u001b[1m}\u001b[0m,\n",
       "  \u001b[32m\"current_weather\"\u001b[0m: \u001b[1m{\u001b[0m\n",
       "    \u001b[32m\"time\"\u001b[0m: \u001b[32m\"2024-07-25T18:15\"\u001b[0m,\n",
       "    \u001b[32m\"interval\"\u001b[0m: \u001b[1;36m900\u001b[0m,\n",
       "    \u001b[32m\"temperature\"\u001b[0m: \u001b[1;36m30.9\u001b[0m,\n",
       "    \u001b[32m\"windspeed\"\u001b[0m: \u001b[1;36m6.6\u001b[0m,\n",
       "    \u001b[32m\"winddirection\"\u001b[0m: \u001b[1;36m225\u001b[0m,\n",
       "    \u001b[32m\"is_day\"\u001b[0m: \u001b[1;36m1\u001b[0m,\n",
       "    \u001b[32m\"weathercode\"\u001b[0m: \u001b[1;36m0\u001b[0m\n",
       "  \u001b[1m}\u001b[0m\n",
       "\u001b[1m}\u001b[0m\n"
      ]
     },
     "metadata": {},
     "output_type": "display_data"
    },
    {
     "data": {
      "text/html": [
       "<pre style=\"white-space:pre;overflow-x:auto;line-height:normal;font-family:Menlo,'DejaVu Sans Mono',consolas,'Courier New',monospace\">\n",
       "==================================================\n",
       "Final Response:\n",
       "==================================================\n",
       "</pre>\n"
      ],
      "text/plain": [
       "\n",
       "==================================================\n",
       "Final Response:\n",
       "==================================================\n"
      ]
     },
     "metadata": {},
     "output_type": "display_data"
    },
    {
     "data": {
      "text/html": [
       "<pre style=\"white-space:pre;overflow-x:auto;line-height:normal;font-family:Menlo,'DejaVu Sans Mono',consolas,'Courier New',monospace\">According to the weather data, the current weather in Los Angeles as of July <span style=\"color: #008080; text-decoration-color: #008080; font-weight: bold\">25</span> <span style=\"color: #008080; text-decoration-color: #008080; font-weight: bold\">2024</span> at <span style=\"color: #00ff00; text-decoration-color: #00ff00; font-weight: bold\">6:15</span>pm is:\n",
       "\n",
       "- Temperature: <span style=\"color: #008080; text-decoration-color: #008080; font-weight: bold\">30.9</span>°C\n",
       "- Wind speed: <span style=\"color: #008080; text-decoration-color: #008080; font-weight: bold\">6.6</span> km/h\n",
       "- Wind direction: <span style=\"color: #008080; text-decoration-color: #008080; font-weight: bold\">225</span>°\n",
       "- Weather code: <span style=\"color: #008080; text-decoration-color: #008080; font-weight: bold\">0</span> <span style=\"font-weight: bold\">(</span>clear sky<span style=\"font-weight: bold\">)</span>\n",
       "\n",
       "The weather is clear and warm in Los Angeles right now.\n",
       "</pre>\n"
      ],
      "text/plain": [
       "According to the weather data, the current weather in Los Angeles as of July \u001b[1;36m25\u001b[0m \u001b[1;36m2024\u001b[0m at \u001b[1;92m6:15\u001b[0mpm is:\n",
       "\n",
       "- Temperature: \u001b[1;36m30.9\u001b[0m°C\n",
       "- Wind speed: \u001b[1;36m6.6\u001b[0m km/h\n",
       "- Wind direction: \u001b[1;36m225\u001b[0m°\n",
       "- Weather code: \u001b[1;36m0\u001b[0m \u001b[1m(\u001b[0mclear sky\u001b[1m)\u001b[0m\n",
       "\n",
       "The weather is clear and warm in Los Angeles right now.\n"
      ]
     },
     "metadata": {},
     "output_type": "display_data"
    }
   ],
   "source": [
    "weather_info = chat_with_claude(\"What is weather in Los Angeles right now?\")\n",
    "print(f\"\\n{'='*50}\\nFinal Response:\\n{'='*50}\")\n",
    "print(weather_info)"
   ]
  },
  {
   "cell_type": "code",
   "execution_count": null,
   "id": "bd5fbeb6-985d-4952-972a-862514f79cae",
   "metadata": {},
   "outputs": [],
   "source": []
  },
  {
   "cell_type": "code",
   "execution_count": null,
   "id": "a0f1fc19-497c-4c90-9e62-16c388ceb4fd",
   "metadata": {},
   "outputs": [],
   "source": []
  },
  {
   "cell_type": "code",
   "execution_count": null,
   "id": "b7785248-aef5-4ff1-bf06-248264c33abd",
   "metadata": {},
   "outputs": [],
   "source": []
  }
 ],
 "metadata": {
  "kernelspec": {
   "display_name": "Python 3 (ipykernel)",
   "language": "python",
   "name": "python3"
  },
  "language_info": {
   "codemirror_mode": {
    "name": "ipython",
    "version": 3
   },
   "file_extension": ".py",
   "mimetype": "text/x-python",
   "name": "python",
   "nbconvert_exporter": "python",
   "pygments_lexer": "ipython3",
   "version": "3.10.14"
  }
 },
 "nbformat": 4,
 "nbformat_minor": 5
}
