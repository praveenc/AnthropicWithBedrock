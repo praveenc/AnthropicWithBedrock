{
 "cells": [
  {
   "cell_type": "markdown",
   "id": "61fcd331-741a-4fcf-960a-62f42173cd6e",
   "metadata": {},
   "source": [
    "# Tool use (structured output) w/ Anthropic Claude 3.x versions on Amazon Bedrock\n",
    "\n",
    "In this notebook, we show extracting structured output from the following use-cases:\n",
    "\n",
    "1. **Text Summarization**\n",
    "2. **Named Entity Recognition**\n",
    "3. **Sentiment Analysis**\n",
    "3. **Text Classification**"
   ]
  },
  {
   "cell_type": "code",
   "execution_count": null,
   "id": "fa2a1eac-d266-410e-8bdc-949751d8aca8",
   "metadata": {},
   "outputs": [],
   "source": [
    "%%bash\n",
    "pip install uv && uv pip install -U sagemaker boto3 rich bs4 \"anthropic[bedrock]\""
   ]
  },
  {
   "cell_type": "code",
   "execution_count": 1,
   "id": "f31a48cd-0124-4011-aa0c-575122d6303f",
   "metadata": {},
   "outputs": [
    {
     "name": "stdout",
     "output_type": "stream",
     "text": [
      "Python 3.10.14\n"
     ]
    }
   ],
   "source": [
    "!python --version"
   ]
  },
  {
   "cell_type": "code",
   "execution_count": null,
   "id": "217ee6fb-3217-407d-a4e1-8c870c307bd6",
   "metadata": {},
   "outputs": [],
   "source": [
    "# restart kernel\n",
    "from IPython.core.display import HTML\n",
    "\n",
    "HTML(\"<script>Jupyter.notebook.kernel.restart()</script>\")"
   ]
  },
  {
   "cell_type": "code",
   "execution_count": 2,
   "id": "b44338c0-7d5c-4eee-adcd-e28b3129f513",
   "metadata": {
    "tags": []
   },
   "outputs": [],
   "source": [
    "%load_ext rich"
   ]
  },
  {
   "cell_type": "code",
   "execution_count": 3,
   "id": "c172b93a-ee55-482c-98b4-0b41f34c3448",
   "metadata": {
    "tags": []
   },
   "outputs": [
    {
     "name": "stdout",
     "output_type": "stream",
     "text": [
      "sagemaker.config INFO - Not applying SDK defaults from location: /etc/xdg/sagemaker/config.yaml\n",
      "sagemaker.config INFO - Not applying SDK defaults from location: /home/sagemaker-user/.config/sagemaker/config.yaml\n"
     ]
    }
   ],
   "source": [
    "import json\n",
    "import types\n",
    "import requests\n",
    "from datetime import date\n",
    "\n",
    "import boto3\n",
    "from anthropic import AI_PROMPT, HUMAN_PROMPT, AnthropicBedrock\n",
    "from bs4 import BeautifulSoup\n",
    "from requests.exceptions import JSONDecodeError, RequestException\n",
    "from rich import print\n",
    "from sagemaker import Session, get_execution_role"
   ]
  },
  {
   "cell_type": "markdown",
   "id": "9d505352-80c9-432b-a16b-ba3a1761b29f",
   "metadata": {},
   "source": [
    "## List Anthropic Model IDs in Bedrock"
   ]
  },
  {
   "cell_type": "code",
   "execution_count": 4,
   "id": "42b42f5d-7ab3-4546-b0f0-9ca2787f6563",
   "metadata": {},
   "outputs": [
    {
     "data": {
      "text/html": [
       "<pre style=\"white-space:pre;overflow-x:auto;line-height:normal;font-family:Menlo,'DejaVu Sans Mono',consolas,'Courier New',monospace\">Claude <span style=\"color: #008080; text-decoration-color: #008080; font-weight: bold\">3</span> ModelIDs\n",
       "</pre>\n"
      ],
      "text/plain": [
       "Claude \u001b[1;36m3\u001b[0m ModelIDs\n"
      ]
     },
     "metadata": {},
     "output_type": "display_data"
    },
    {
     "data": {
      "text/html": [
       "<pre style=\"white-space:pre;overflow-x:auto;line-height:normal;font-family:Menlo,'DejaVu Sans Mono',consolas,'Courier New',monospace\"><span style=\"font-weight: bold\">[</span>\n",
       "    <span style=\"color: #008000; text-decoration-color: #008000\">'anthropic.claude-3-sonnet-20240229-v1:0'</span>,\n",
       "    <span style=\"color: #008000; text-decoration-color: #008000\">'anthropic.claude-3-haiku-20240307-v1:0'</span>,\n",
       "    <span style=\"color: #008000; text-decoration-color: #008000\">'anthropic.claude-3-opus-20240229-v1:0'</span>\n",
       "<span style=\"font-weight: bold\">]</span>\n",
       "</pre>\n"
      ],
      "text/plain": [
       "\u001b[1m[\u001b[0m\n",
       "    \u001b[32m'anthropic.claude-3-sonnet-20240229-v1:0'\u001b[0m,\n",
       "    \u001b[32m'anthropic.claude-3-haiku-20240307-v1:0'\u001b[0m,\n",
       "    \u001b[32m'anthropic.claude-3-opus-20240229-v1:0'\u001b[0m\n",
       "\u001b[1m]\u001b[0m\n"
      ]
     },
     "metadata": {},
     "output_type": "display_data"
    },
    {
     "data": {
      "text/html": [
       "<pre style=\"white-space:pre;overflow-x:auto;line-height:normal;font-family:Menlo,'DejaVu Sans Mono',consolas,'Courier New',monospace\">==============================\n",
       "</pre>\n"
      ],
      "text/plain": [
       "==============================\n"
      ]
     },
     "metadata": {},
     "output_type": "display_data"
    },
    {
     "data": {
      "text/html": [
       "<pre style=\"white-space:pre;overflow-x:auto;line-height:normal;font-family:Menlo,'DejaVu Sans Mono',consolas,'Courier New',monospace\">Haiku Model ID: <span style=\"color: #800000; text-decoration-color: #800000; font-weight: bold\">anthropic.claude-</span><span style=\"color: #800000; text-decoration-color: #800000; font-weight: bold\">3</span><span style=\"color: #800000; text-decoration-color: #800000; font-weight: bold\">-haiku-</span><span style=\"color: #800000; text-decoration-color: #800000; font-weight: bold\">20240307</span><span style=\"color: #800000; text-decoration-color: #800000; font-weight: bold\">-v1:0</span>\n",
       "</pre>\n"
      ],
      "text/plain": [
       "Haiku Model ID: \u001b[1;31manthropic.claude-\u001b[0m\u001b[1;31m3\u001b[0m\u001b[1;31m-haiku-\u001b[0m\u001b[1;31m20240307\u001b[0m\u001b[1;31m-v\u001b[0m\u001b[1;31m1:0\u001b[0m\n"
      ]
     },
     "metadata": {},
     "output_type": "display_data"
    },
    {
     "data": {
      "text/html": [
       "<pre style=\"white-space:pre;overflow-x:auto;line-height:normal;font-family:Menlo,'DejaVu Sans Mono',consolas,'Courier New',monospace\">==============================\n",
       "</pre>\n"
      ],
      "text/plain": [
       "==============================\n"
      ]
     },
     "metadata": {},
     "output_type": "display_data"
    }
   ],
   "source": [
    "sess = Session()\n",
    "region = sess.boto_region_name\n",
    "boto_session = boto3.Session(region_name=region)\n",
    "role = get_execution_role()\n",
    "\n",
    "# Create bedrock runtime client\n",
    "bedrock_runtime = boto3.client(service_name=\"bedrock-runtime\", region_name=region)\n",
    "\n",
    "# List Anthropic models in Bedrock\n",
    "bedrock = boto3.client(\"bedrock\", region_name=region)\n",
    "models = bedrock.list_foundation_models(byProvider=\"Anthropic\", byOutputModality=\"TEXT\")[\n",
    "    \"modelSummaries\"\n",
    "]\n",
    "\n",
    "# Print only Claude 3 models\n",
    "model_ids = [\n",
    "    model[\"modelId\"]\n",
    "    for model in models\n",
    "    if \"claude-3\" in model[\"modelId\"] and \"v1:0:\" not in model[\"modelId\"]\n",
    "]\n",
    "\n",
    "print(\"Claude 3 ModelIDs\")\n",
    "print(model_ids)\n",
    "\n",
    "print(\"===\" * 10)\n",
    "# change string in if loop for sonnet or opus\n",
    "claude_haiku = [m for m in model_ids if \"haiku\" in m][0]\n",
    "print(f\"Haiku Model ID: [b red]{claude_haiku}\")\n",
    "print(\"===\" * 10)"
   ]
  },
  {
   "cell_type": "markdown",
   "id": "376d7d79-939a-4ece-86c2-797b08579325",
   "metadata": {},
   "source": [
    "### Helper function to invoke LLM with bedrock runtime."
   ]
  },
  {
   "cell_type": "code",
   "execution_count": 5,
   "id": "f6473db5-2048-442c-9ec6-55437c57d417",
   "metadata": {},
   "outputs": [],
   "source": [
    "def chat_with_claude(prompt, tools, model_id=claude_haiku, bedrock_runtime=bedrock_runtime):\n",
    "    \"\"\"Function to invoke claude on Amazon Bedrock\"\"\"\n",
    "    body = json.dumps(\n",
    "        {\n",
    "            \"max_tokens\": 4096,\n",
    "            \"messages\": [{\"role\": \"user\", \"content\": prompt}],\n",
    "            \"tools\": tools,\n",
    "            \"anthropic_version\": \"bedrock-2023-05-31\",\n",
    "        }\n",
    "    )\n",
    "    response = bedrock_runtime.invoke_model(body=body, modelId=model_id)\n",
    "    response_body = json.loads(response.get(\"body\").read())\n",
    "    response_body_ns = types.SimpleNamespace(**response_body)\n",
    "    return response_body_ns"
   ]
  },
  {
   "cell_type": "markdown",
   "id": "2ce455eb-deaf-483c-854a-0cc6219211a6",
   "metadata": {},
   "source": [
    "## 1. Summarize Article\n",
    "\n",
    "In this example, we'll use Claude to generate a JSON summary of an article, including fields for the author, topics, summary, coherence score, persuasion score, and a counterpoint."
   ]
  },
  {
   "cell_type": "code",
   "execution_count": 6,
   "id": "94d823f2-f1ec-413c-b306-71b97c71da5e",
   "metadata": {},
   "outputs": [
    {
     "data": {
      "text/html": [
       "<pre style=\"white-space:pre;overflow-x:auto;line-height:normal;font-family:Menlo,'DejaVu Sans Mono',consolas,'Courier New',monospace\">JSON Summary\n",
       "</pre>\n"
      ],
      "text/plain": [
       "JSON Summary\n"
      ]
     },
     "metadata": {},
     "output_type": "display_data"
    },
    {
     "data": {
      "text/html": [
       "<pre style=\"white-space:pre;overflow-x:auto;line-height:normal;font-family:Menlo,'DejaVu Sans Mono',consolas,'Courier New',monospace\"><span style=\"font-weight: bold\">{</span>\n",
       "  <span style=\"color: #008000; text-decoration-color: #008000\">\"author\"</span>: <span style=\"color: #008000; text-decoration-color: #008000\">\"Amazon Web Services\"</span>,\n",
       "  <span style=\"color: #008000; text-decoration-color: #008000\">\"topics\"</span>: <span style=\"font-weight: bold\">[</span>\n",
       "    <span style=\"color: #008000; text-decoration-color: #008000\">\"tech\"</span>,\n",
       "    <span style=\"color: #008000; text-decoration-color: #008000\">\"AI\"</span>\n",
       "  <span style=\"font-weight: bold\">]</span>,\n",
       "  <span style=\"color: #008000; text-decoration-color: #008000\">\"summary\"</span>: <span style=\"color: #008000; text-decoration-color: #008000\">\"The article announces the availability of the Llama 3.1 collection of multilingual large language </span>\n",
       "<span style=\"color: #008000; text-decoration-color: #008000\">models (LLMs) through Amazon SageMaker JumpStart. Llama 3.1 includes pre-trained and instruction tuned generative </span>\n",
       "<span style=\"color: #008000; text-decoration-color: #008000\">AI models in 8B, 70B, and 405B sizes. It provides details on how to discover and deploy these Llama 3.1 models </span>\n",
       "<span style=\"color: #008000; text-decoration-color: #008000\">using SageMaker JumpStart, and highlights key features like long context length, support for grouped query </span>\n",
       "<span style=\"color: #008000; text-decoration-color: #008000\">attention, and optimization for multilingual dialogue use cases. The article also discusses the responsible use </span>\n",
       "<span style=\"color: #008000; text-decoration-color: #008000\">guide from Meta, and how SageMaker JumpStart provides secure deployment of these models within a virtual private </span>\n",
       "<span style=\"color: #008000; text-decoration-color: #008000\">cloud. Sample code is provided to demonstrate deploying and using the Llama 3.1 models.\"</span>,\n",
       "  <span style=\"color: #008000; text-decoration-color: #008000\">\"coherence\"</span>: <span style=\"color: #008080; text-decoration-color: #008080; font-weight: bold\">5</span>,\n",
       "  <span style=\"color: #008000; text-decoration-color: #008000\">\"persuasion\"</span>: <span style=\"color: #008080; text-decoration-color: #008080; font-weight: bold\">4</span>,\n",
       "  <span style=\"color: #008000; text-decoration-color: #008000\">\"counterpoint\"</span>: <span style=\"color: #008000; text-decoration-color: #008000\">\"The article does not address potential limitations or drawbacks of the Llama 3.1 models, such as</span>\n",
       "<span style=\"color: #008000; text-decoration-color: #008000\">potential biases or safety concerns that may arise from their use.\"</span>\n",
       "<span style=\"font-weight: bold\">}</span>\n",
       "</pre>\n"
      ],
      "text/plain": [
       "\u001b[1m{\u001b[0m\n",
       "  \u001b[32m\"author\"\u001b[0m: \u001b[32m\"Amazon Web Services\"\u001b[0m,\n",
       "  \u001b[32m\"topics\"\u001b[0m: \u001b[1m[\u001b[0m\n",
       "    \u001b[32m\"tech\"\u001b[0m,\n",
       "    \u001b[32m\"AI\"\u001b[0m\n",
       "  \u001b[1m]\u001b[0m,\n",
       "  \u001b[32m\"summary\"\u001b[0m: \u001b[32m\"The article announces the availability of the Llama 3.1 collection of multilingual large language \u001b[0m\n",
       "\u001b[32mmodels \u001b[0m\u001b[32m(\u001b[0m\u001b[32mLLMs\u001b[0m\u001b[32m)\u001b[0m\u001b[32m through Amazon SageMaker JumpStart. Llama 3.1 includes pre-trained and instruction tuned generative \u001b[0m\n",
       "\u001b[32mAI models in 8B, 70B, and 405B sizes. It provides details on how to discover and deploy these Llama 3.1 models \u001b[0m\n",
       "\u001b[32musing SageMaker JumpStart, and highlights key features like long context length, support for grouped query \u001b[0m\n",
       "\u001b[32mattention, and optimization for multilingual dialogue use cases. The article also discusses the responsible use \u001b[0m\n",
       "\u001b[32mguide from Meta, and how SageMaker JumpStart provides secure deployment of these models within a virtual private \u001b[0m\n",
       "\u001b[32mcloud. Sample code is provided to demonstrate deploying and using the Llama 3.1 models.\"\u001b[0m,\n",
       "  \u001b[32m\"coherence\"\u001b[0m: \u001b[1;36m5\u001b[0m,\n",
       "  \u001b[32m\"persuasion\"\u001b[0m: \u001b[1;36m4\u001b[0m,\n",
       "  \u001b[32m\"counterpoint\"\u001b[0m: \u001b[32m\"The article does not address potential limitations or drawbacks of the Llama 3.1 models, such as\u001b[0m\n",
       "\u001b[32mpotential biases or safety concerns that may arise from their use.\"\u001b[0m\n",
       "\u001b[1m}\u001b[0m\n"
      ]
     },
     "metadata": {},
     "output_type": "display_data"
    }
   ],
   "source": [
    "tools = [\n",
    "    {\n",
    "        \"name\": \"print_summary\",\n",
    "        \"description\": \"Prints a summary of the article.\",\n",
    "        \"input_schema\": {\n",
    "            \"type\": \"object\",\n",
    "            \"properties\": {\n",
    "                \"author\": {\"type\": \"string\", \"description\": \"Name of the article author\"},\n",
    "                \"topics\": {\n",
    "                    \"type\": \"array\",\n",
    "                    \"items\": {\"type\": \"string\"},\n",
    "                    \"description\": 'Array of topics, e.g. [\"tech\", \"politics\"]. Should be as specific as possible, and can overlap.',\n",
    "                },\n",
    "                \"summary\": {\n",
    "                    \"type\": \"string\",\n",
    "                    \"description\": \"Summary of the article. One or two paragraphs max.\",\n",
    "                },\n",
    "                \"coherence\": {\n",
    "                    \"type\": \"integer\",\n",
    "                    \"description\": \"Coherence of the article's key points, 0-100 (inclusive)\",\n",
    "                },\n",
    "                \"persuasion\": {\n",
    "                    \"type\": \"number\",\n",
    "                    \"description\": \"Article's persuasion score, 0.0-1.0 (inclusive)\",\n",
    "                },\n",
    "            },\n",
    "            \"required\": [\"author\", \"topics\", \"summary\", \"coherence\", \"persuasion\", \"counterpoint\"],\n",
    "        },\n",
    "    }\n",
    "]\n",
    "\n",
    "# url = \"https://www.anthropic.com/news/third-party-testing\"\n",
    "url = \"https://aws.amazon.com/blogs/machine-learning/meta-llama-3-1-models-are-now-available-in-amazon-sagemaker-jumpstart/\"\n",
    "try:\n",
    "    response = requests.get(url)\n",
    "    response.raise_for_status()  # Raises an HTTPError for bad responses\n",
    "except RequestException as e:\n",
    "    print(f\"Request error: {e}\")\n",
    "\n",
    "soup = BeautifulSoup(response.text, \"html.parser\")\n",
    "article = \" \".join([p.text for p in soup.find_all(\"p\")])\n",
    "\n",
    "summary_prompt = f\"\"\"\n",
    "<article>\n",
    "{article}\n",
    "</article>\n",
    "\n",
    "Use the `print_summary` tool.\n",
    "\"\"\"\n",
    "\n",
    "summary_response = chat_with_claude(summary_prompt, tools)\n",
    "\n",
    "json_summary = None\n",
    "for summary_content in summary_response.content:\n",
    "    content = types.SimpleNamespace(**summary_content)\n",
    "    if content.type == \"tool_use\" and content.name == \"print_summary\":\n",
    "        json_summary = content.input\n",
    "        break\n",
    "\n",
    "if json_summary:\n",
    "    print(\"JSON Summary\")\n",
    "    print(json.dumps(json_summary, indent=2))\n",
    "else:\n",
    "    print(\"No JSON Summary found in response\")"
   ]
  },
  {
   "cell_type": "markdown",
   "id": "105b6be6-aef1-43ca-82ac-a32d73f22de6",
   "metadata": {},
   "source": [
    "## 2. Named Entity Recognition\n",
    "\n",
    "In this example, we'll use Claude to perform named entity recognition on a given text and return the entities in a structured JSON format."
   ]
  },
  {
   "cell_type": "code",
   "execution_count": null,
   "id": "f6a733d5-df39-408a-a904-328b8df34bd8",
   "metadata": {},
   "outputs": [],
   "source": [
    "tools = [\n",
    "    {\n",
    "        \"name\": \"print_entities\",\n",
    "        \"description\": \"Prints extract named entities.\",\n",
    "        \"input_schema\": {\n",
    "            \"type\": \"object\",\n",
    "            \"properties\": {\n",
    "                \"entities\": {\n",
    "                    \"type\": \"array\",\n",
    "                    \"items\": {\n",
    "                        \"type\": \"object\",\n",
    "                        \"properties\": {\n",
    "                            \"name\": {\"type\": \"string\", \"description\": \"The extracted entity name.\"},\n",
    "                            \"type\": {\n",
    "                                \"type\": \"string\",\n",
    "                                \"description\": \"The entity type (e.g., PERSON, ORGANIZATION, LOCATION).\",\n",
    "                            },\n",
    "                            \"context\": {\n",
    "                                \"type\": \"string\",\n",
    "                                \"description\": \"The context in which the entity appears in the text.\",\n",
    "                            },\n",
    "                        },\n",
    "                        \"required\": [\"name\", \"type\", \"context\"],\n",
    "                    },\n",
    "                }\n",
    "            },\n",
    "            \"required\": [\"entities\"],\n",
    "        },\n",
    "    }\n",
    "]\n",
    "\n",
    "text = \"John works at Google in New York. He met with Sarah, the CEO of Acme Inc., last week in San Francisco.\"\n",
    "\n",
    "prompt = f\"\"\"\n",
    "<document>\n",
    "{text}\n",
    "</document>\n",
    "\n",
    "Use the print_entities tool.\n",
    "\"\"\"\n",
    "\n",
    "ner_response = chat_with_claude(prompt, tools, claude_haiku, bedrock_runtime)\n",
    "json_entities = None\n",
    "for content in ner_response.content:\n",
    "    content = types.SimpleNamespace(**content)\n",
    "    if content.type == \"tool_use\" and content.name == \"print_entities\":\n",
    "        json_entities = content.input\n",
    "        break\n",
    "\n",
    "if json_entities:\n",
    "    print(\"Extracted Entities (JSON):\")\n",
    "    print(json.dumps(json_entities, indent=4))\n",
    "else:\n",
    "    print(\"No entities found in the response.\")"
   ]
  },
  {
   "cell_type": "markdown",
   "id": "7b4c6e03-f91e-4e20-9a2a-68d544fbd1a4",
   "metadata": {},
   "source": [
    "## 3. Sentiment Analysis\n",
    "\n",
    "In this example, we'll use Claude to perform sentiment analysis on a given text and return the sentiment scores in a structured JSON format."
   ]
  },
  {
   "cell_type": "code",
   "execution_count": 7,
   "id": "c539ec72-756d-48a4-8b7e-d289ca5646fc",
   "metadata": {},
   "outputs": [
    {
     "data": {
      "text/html": [
       "<pre style=\"white-space:pre;overflow-x:auto;line-height:normal;font-family:Menlo,'DejaVu Sans Mono',consolas,'Courier New',monospace\">Sentiment Analysis <span style=\"font-weight: bold\">(</span>JSON<span style=\"font-weight: bold\">)</span>:\n",
       "</pre>\n"
      ],
      "text/plain": [
       "Sentiment Analysis \u001b[1m(\u001b[0mJSON\u001b[1m)\u001b[0m:\n"
      ]
     },
     "metadata": {},
     "output_type": "display_data"
    },
    {
     "data": {
      "text/html": [
       "<pre style=\"white-space:pre;overflow-x:auto;line-height:normal;font-family:Menlo,'DejaVu Sans Mono',consolas,'Courier New',monospace\"><span style=\"font-weight: bold\">{</span>\n",
       "  <span style=\"color: #008000; text-decoration-color: #008000\">\"positive_score\"</span>: <span style=\"color: #008080; text-decoration-color: #008080; font-weight: bold\">0.193</span>,\n",
       "  <span style=\"color: #008000; text-decoration-color: #008000\">\"negative_score\"</span>: <span style=\"color: #008080; text-decoration-color: #008080; font-weight: bold\">0.487</span>,\n",
       "  <span style=\"color: #008000; text-decoration-color: #008000\">\"neutral_score\"</span>: <span style=\"color: #008080; text-decoration-color: #008080; font-weight: bold\">0.32</span>\n",
       "<span style=\"font-weight: bold\">}</span>\n",
       "</pre>\n"
      ],
      "text/plain": [
       "\u001b[1m{\u001b[0m\n",
       "  \u001b[32m\"positive_score\"\u001b[0m: \u001b[1;36m0.193\u001b[0m,\n",
       "  \u001b[32m\"negative_score\"\u001b[0m: \u001b[1;36m0.487\u001b[0m,\n",
       "  \u001b[32m\"neutral_score\"\u001b[0m: \u001b[1;36m0.32\u001b[0m\n",
       "\u001b[1m}\u001b[0m\n"
      ]
     },
     "metadata": {},
     "output_type": "display_data"
    }
   ],
   "source": [
    "tools = [\n",
    "    {\n",
    "        \"name\": \"print_sentiment_scores\",\n",
    "        \"description\": \"Prints the sentiment scores of a given text.\",\n",
    "        \"input_schema\": {\n",
    "            \"type\": \"object\",\n",
    "            \"properties\": {\n",
    "                \"positive_score\": {\n",
    "                    \"type\": \"number\",\n",
    "                    \"description\": \"The positive sentiment score, ranging from 0.0 to 1.0.\",\n",
    "                },\n",
    "                \"negative_score\": {\n",
    "                    \"type\": \"number\",\n",
    "                    \"description\": \"The negative sentiment score, ranging from 0.0 to 1.0.\",\n",
    "                },\n",
    "                \"neutral_score\": {\n",
    "                    \"type\": \"number\",\n",
    "                    \"description\": \"The neutral sentiment score, ranging from 0.0 to 1.0.\",\n",
    "                },\n",
    "            },\n",
    "            \"required\": [\"positive_score\", \"negative_score\", \"neutral_score\"],\n",
    "        },\n",
    "    }\n",
    "]\n",
    "\n",
    "text = \"The product was okay, but the customer service was terrible. I probably won't buy from them again.\"\n",
    "\n",
    "prompt = f\"\"\"\n",
    "<text>\n",
    "{text}\n",
    "</text>\n",
    "\n",
    "Use the print_sentiment_scores tool.\n",
    "\"\"\"\n",
    "\n",
    "sent_response = chat_with_claude(prompt, tools)\n",
    "json_sentiment = None\n",
    "for sent_content in sent_response.content:\n",
    "    # print(content)\n",
    "    content = types.SimpleNamespace(**sent_content)\n",
    "    if content.type == \"tool_use\" and content.name == \"print_sentiment_scores\":\n",
    "        json_sentiment = content.input\n",
    "        break\n",
    "\n",
    "if json_sentiment:\n",
    "    print(\"Sentiment Analysis (JSON):\")\n",
    "    print(json.dumps(json_sentiment, indent=2))\n",
    "else:\n",
    "    print(\"No sentiment analysis found in the response.\")"
   ]
  },
  {
   "cell_type": "markdown",
   "id": "140b20aa-ec43-41c8-8c5a-843f72ebf947",
   "metadata": {},
   "source": [
    "## 4. Text Classification\n",
    "\n",
    "In this example, we'll use Claude to classify a given text into predefined categories and return the classification results in a structured JSON format."
   ]
  },
  {
   "cell_type": "code",
   "execution_count": 8,
   "id": "c93e206c-5d26-4450-acf4-033add24eff0",
   "metadata": {},
   "outputs": [
    {
     "data": {
      "text/html": [
       "<pre style=\"white-space:pre;overflow-x:auto;line-height:normal;font-family:Menlo,'DejaVu Sans Mono',consolas,'Courier New',monospace\">Text Classification <span style=\"font-weight: bold\">(</span>JSON<span style=\"font-weight: bold\">)</span>:\n",
       "</pre>\n"
      ],
      "text/plain": [
       "Text Classification \u001b[1m(\u001b[0mJSON\u001b[1m)\u001b[0m:\n"
      ]
     },
     "metadata": {},
     "output_type": "display_data"
    },
    {
     "data": {
      "text/html": [
       "<pre style=\"white-space:pre;overflow-x:auto;line-height:normal;font-family:Menlo,'DejaVu Sans Mono',consolas,'Courier New',monospace\"><span style=\"font-weight: bold\">{</span>\n",
       "  <span style=\"color: #008000; text-decoration-color: #008000\">\"categories\"</span>: <span style=\"font-weight: bold\">[</span>\n",
       "    <span style=\"font-weight: bold\">{</span>\n",
       "      <span style=\"color: #008000; text-decoration-color: #008000\">\"name\"</span>: <span style=\"color: #008000; text-decoration-color: #008000\">\"Politics\"</span>,\n",
       "      <span style=\"color: #008000; text-decoration-color: #008000\">\"score\"</span>: <span style=\"color: #008080; text-decoration-color: #008080; font-weight: bold\">0.1</span>\n",
       "    <span style=\"font-weight: bold\">}</span>,\n",
       "    <span style=\"font-weight: bold\">{</span>\n",
       "      <span style=\"color: #008000; text-decoration-color: #008000\">\"name\"</span>: <span style=\"color: #008000; text-decoration-color: #008000\">\"Sports\"</span>,\n",
       "      <span style=\"color: #008000; text-decoration-color: #008000\">\"score\"</span>: <span style=\"color: #008080; text-decoration-color: #008080; font-weight: bold\">0.1</span>\n",
       "    <span style=\"font-weight: bold\">}</span>,\n",
       "    <span style=\"font-weight: bold\">{</span>\n",
       "      <span style=\"color: #008000; text-decoration-color: #008000\">\"name\"</span>: <span style=\"color: #008000; text-decoration-color: #008000\">\"Technology\"</span>,\n",
       "      <span style=\"color: #008000; text-decoration-color: #008000\">\"score\"</span>: <span style=\"color: #008080; text-decoration-color: #008080; font-weight: bold\">0.7</span>\n",
       "    <span style=\"font-weight: bold\">}</span>,\n",
       "    <span style=\"font-weight: bold\">{</span>\n",
       "      <span style=\"color: #008000; text-decoration-color: #008000\">\"name\"</span>: <span style=\"color: #008000; text-decoration-color: #008000\">\"Entertainment\"</span>,\n",
       "      <span style=\"color: #008000; text-decoration-color: #008000\">\"score\"</span>: <span style=\"color: #008080; text-decoration-color: #008080; font-weight: bold\">0.1</span>\n",
       "    <span style=\"font-weight: bold\">}</span>,\n",
       "    <span style=\"font-weight: bold\">{</span>\n",
       "      <span style=\"color: #008000; text-decoration-color: #008000\">\"name\"</span>: <span style=\"color: #008000; text-decoration-color: #008000\">\"Business\"</span>,\n",
       "      <span style=\"color: #008000; text-decoration-color: #008000\">\"score\"</span>: <span style=\"color: #008080; text-decoration-color: #008080; font-weight: bold\">0.3</span>\n",
       "    <span style=\"font-weight: bold\">}</span>\n",
       "  <span style=\"font-weight: bold\">]</span>\n",
       "<span style=\"font-weight: bold\">}</span>\n",
       "</pre>\n"
      ],
      "text/plain": [
       "\u001b[1m{\u001b[0m\n",
       "  \u001b[32m\"categories\"\u001b[0m: \u001b[1m[\u001b[0m\n",
       "    \u001b[1m{\u001b[0m\n",
       "      \u001b[32m\"name\"\u001b[0m: \u001b[32m\"Politics\"\u001b[0m,\n",
       "      \u001b[32m\"score\"\u001b[0m: \u001b[1;36m0.1\u001b[0m\n",
       "    \u001b[1m}\u001b[0m,\n",
       "    \u001b[1m{\u001b[0m\n",
       "      \u001b[32m\"name\"\u001b[0m: \u001b[32m\"Sports\"\u001b[0m,\n",
       "      \u001b[32m\"score\"\u001b[0m: \u001b[1;36m0.1\u001b[0m\n",
       "    \u001b[1m}\u001b[0m,\n",
       "    \u001b[1m{\u001b[0m\n",
       "      \u001b[32m\"name\"\u001b[0m: \u001b[32m\"Technology\"\u001b[0m,\n",
       "      \u001b[32m\"score\"\u001b[0m: \u001b[1;36m0.7\u001b[0m\n",
       "    \u001b[1m}\u001b[0m,\n",
       "    \u001b[1m{\u001b[0m\n",
       "      \u001b[32m\"name\"\u001b[0m: \u001b[32m\"Entertainment\"\u001b[0m,\n",
       "      \u001b[32m\"score\"\u001b[0m: \u001b[1;36m0.1\u001b[0m\n",
       "    \u001b[1m}\u001b[0m,\n",
       "    \u001b[1m{\u001b[0m\n",
       "      \u001b[32m\"name\"\u001b[0m: \u001b[32m\"Business\"\u001b[0m,\n",
       "      \u001b[32m\"score\"\u001b[0m: \u001b[1;36m0.3\u001b[0m\n",
       "    \u001b[1m}\u001b[0m\n",
       "  \u001b[1m]\u001b[0m\n",
       "\u001b[1m}\u001b[0m\n"
      ]
     },
     "metadata": {},
     "output_type": "display_data"
    }
   ],
   "source": [
    "tools = [\n",
    "    {\n",
    "        \"name\": \"print_classification\",\n",
    "        \"description\": \"Prints the classification results.\",\n",
    "        \"input_schema\": {\n",
    "            \"type\": \"object\",\n",
    "            \"properties\": {\n",
    "                \"categories\": {\n",
    "                    \"type\": \"array\",\n",
    "                    \"items\": {\n",
    "                        \"type\": \"object\",\n",
    "                        \"properties\": {\n",
    "                            \"name\": {\"type\": \"string\", \"description\": \"The category name.\"},\n",
    "                            \"score\": {\n",
    "                                \"type\": \"number\",\n",
    "                                \"description\": \"The classification score for the category, ranging from 0.0 to 1.0.\",\n",
    "                            },\n",
    "                        },\n",
    "                        \"required\": [\"name\", \"score\"],\n",
    "                    },\n",
    "                }\n",
    "            },\n",
    "            \"required\": [\"categories\"],\n",
    "        },\n",
    "    }\n",
    "]\n",
    "\n",
    "text = \"The new quantum computing breakthrough could revolutionize the tech industry.\"\n",
    "\n",
    "classify_prompt = f\"\"\"\n",
    "<document>\n",
    "{text}\n",
    "</document>\n",
    "\n",
    "Use the print_classification tool. The categories can be Politics, Sports, Technology, Entertainment, Business.\n",
    "\"\"\"\n",
    "\n",
    "classify_response = chat_with_claude(classify_prompt, tools)\n",
    "json_classification = None\n",
    "for classify_content in classify_response.content:\n",
    "    content = types.SimpleNamespace(**classify_content)\n",
    "    if content.type == \"tool_use\" and content.name == \"print_classification\":\n",
    "        json_classification = content.input\n",
    "        break\n",
    "\n",
    "if json_classification:\n",
    "    print(\"Text Classification (JSON):\")\n",
    "    print(json.dumps(json_classification, indent=2))\n",
    "else:\n",
    "    print(\"No text classification found in the response.\")"
   ]
  },
  {
   "cell_type": "code",
   "execution_count": null,
   "id": "c4177c9d-f266-4cb3-9e6b-07357b1009c6",
   "metadata": {},
   "outputs": [],
   "source": []
  },
  {
   "cell_type": "code",
   "execution_count": null,
   "id": "03b5e7d7-270a-4d1c-a42c-07844f68bf7f",
   "metadata": {},
   "outputs": [],
   "source": []
  },
  {
   "cell_type": "code",
   "execution_count": null,
   "id": "c3332d68-1680-4155-a787-5fbc675cebd6",
   "metadata": {},
   "outputs": [],
   "source": []
  }
 ],
 "metadata": {
  "kernelspec": {
   "display_name": "Python 3 (ipykernel)",
   "language": "python",
   "name": "python3"
  },
  "language_info": {
   "codemirror_mode": {
    "name": "ipython",
    "version": 3
   },
   "file_extension": ".py",
   "mimetype": "text/x-python",
   "name": "python",
   "nbconvert_exporter": "python",
   "pygments_lexer": "ipython3",
   "version": "3.10.14"
  }
 },
 "nbformat": 4,
 "nbformat_minor": 5
}
