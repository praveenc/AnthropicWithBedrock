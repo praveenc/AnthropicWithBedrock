{
 "cells": [
  {
   "cell_type": "markdown",
   "id": "fb682b00-c862-4906-8cab-65f3684f94a8",
   "metadata": {},
   "source": [
    "# Routing Chains to direct questions to prompts\n"
   ]
  },
  {
   "cell_type": "markdown",
   "id": "cf88d13e-1945-48b5-95d0-a13bab93f45c",
   "metadata": {},
   "source": [
    "## Router Chains using LCEL\n",
    "\n",
    "Routing allows you to create non-deterministic chains where the output of a previous step defines the next step. Routing helps provide structure and consistency around interactions with LLMs.\n",
    "\n",
    "For e.g., Say we have four prompts optimized for different types of questions, and we want to choose the prompt template based on the user input.\n",
    "\n",
    "There are two ways to perform routing:\n",
    "\n",
    "1. Using a `RunnableBranch`\n",
    "2. Writing custom factory function that takes the input of a previous step and returns a **runnable**. Importantly, this should return a **runnable** and NOT actually execute.\n",
    "\n",
    "We'll illustrate both methods using a two step sequence where the first step classifies an input question as being about Math, Physics, Computer Science or History, then routes to a corresponding prompt chain.\n",
    "\n",
    "We also need to define a *General* chain as a fall back mechanism.\n",
    "\n",
    "Here, we create a simple `classifier_template` that classifies the input text into one of the above 4 categories."
   ]
  },
  {
   "cell_type": "code",
   "execution_count": 1,
   "id": "e4fff3c1-ac5f-4321-8c1f-428ea003e48a",
   "metadata": {},
   "outputs": [],
   "source": [
    "import os\n",
    "import sys\n",
    "\n",
    "sys.path.append(os.path.abspath(os.path.join(os.getcwd(), os.pardir)) + \"/utils\")"
   ]
  },
  {
   "cell_type": "code",
   "execution_count": 2,
   "id": "8560d35a-8b3a-4fbc-9d7c-b72320c57d26",
   "metadata": {},
   "outputs": [],
   "source": [
    "import re\n",
    "import warnings\n",
    "from pathlib import Path\n",
    "from types import FunctionType\n",
    "\n",
    "import boto3\n",
    "from anthropic_bedrock import AI_PROMPT, HUMAN_PROMPT\n",
    "from IPython.display import Markdown\n",
    "from langchain.chains.llm import LLMChain\n",
    "from langchain.chains.router import MultiPromptChain\n",
    "from langchain.chains.router.llm_router import LLMRouterChain, RouterOutputParser\n",
    "from langchain.prompts import PromptTemplate\n",
    "from langchain.schema.runnable import RunnableBranch, RunnableLambda\n",
    "from rich import print\n",
    "from utils import get_inference_parameters\n",
    "\n",
    "warnings.filterwarnings(\"ignore\")\n",
    "\n",
    "%load_ext rich\n",
    "%load_ext autoreload\n",
    "%autoreload 2"
   ]
  },
  {
   "cell_type": "markdown",
   "id": "a7ec1d3f-aac2-428c-8a4c-699fa9c14abd",
   "metadata": {},
   "source": [
    "### Initialize Bedrock LLM\n",
    "\n",
    "Here we utilize `langchain.llms.bedrock.Bedrock` class to initialize our LLM."
   ]
  },
  {
   "cell_type": "code",
   "execution_count": 3,
   "id": "cba6f732-9c7d-4b91-a692-d0ba1a5289b3",
   "metadata": {},
   "outputs": [],
   "source": [
    "from langchain.llms.bedrock import Bedrock\n",
    "\n",
    "region = \"us-west-2\"\n",
    "\n",
    "# get bedrock runtime client\n",
    "client = boto3.client(\"bedrock-runtime\", region_name=region)\n",
    "cv2_model_id = \"anthropic.claude-v2\"  # Bedrock model_id\n",
    "instant_model_id = \"anthropic.claude-instant-v1\"\n",
    "model_kwargs = get_inference_parameters(\"anthropic\")  # Model kwargs for Anthropic LLMs\n",
    "# print(model_kwargs)\n",
    "\n",
    "llm_cv2 = Bedrock(\n",
    "    client=client,\n",
    "    model_id=cv2_model_id,\n",
    "    model_kwargs=model_kwargs,\n",
    "    region_name=region,\n",
    ")  # Initalize LLM with Claude-v2\n",
    "\n",
    "llm_instant = Bedrock(\n",
    "    client=client,\n",
    "    model_id=instant_model_id,\n",
    "    model_kwargs=model_kwargs,\n",
    "    region_name=region,\n",
    ")  # Initalize LLM with Claude-Instant"
   ]
  },
  {
   "cell_type": "markdown",
   "id": "78c1af3b-991b-4e40-8107-0f4f02dfc3ec",
   "metadata": {},
   "source": [
    "### Create a Classifier prompt\n",
    "\n",
    "Classifier prompt classifies the question into one of the following categories\n",
    "- math\n",
    "- physics\n",
    "- computerscience\n",
    "- history"
   ]
  },
  {
   "cell_type": "code",
   "execution_count": 4,
   "id": "cd11be9e-dc18-4aff-9030-582a5147c15f",
   "metadata": {},
   "outputs": [],
   "source": [
    "from langchain.llms.anthropic import Anthropic\n",
    "from langchain.schema.output_parser import StrOutputParser\n",
    "from langchain.schema.runnable import RunnableBranch, RunnablePassthrough\n",
    "\n",
    "# llm = bedrock_model\n",
    "\n",
    "classifier_template = \"\"\"Given the user question below, classify it as either being about `math`, `physics`, `computerscience` or `history`.\n",
    "\n",
    "Do not respond with more than one word.\n",
    "\n",
    "<question> {question} </question>\n",
    "\n",
    "Classification:\"\"\"\n",
    "\n",
    "classifier_template = f\"{HUMAN_PROMPT}{classifier_template}{AI_PROMPT}\"\n",
    "\n",
    "classify_chain = (\n",
    "    {\"question\": RunnablePassthrough()}\n",
    "    | PromptTemplate.from_template(template=classifier_template)\n",
    "    | llm_instant  # Here we use Claude-Instant for quicker response\n",
    "    | StrOutputParser()\n",
    ")\n",
    "\n",
    "# test classifier chain\n",
    "# classify_chain.invoke(\"List last 5 presidents of USA and their term durations.\")"
   ]
  },
  {
   "cell_type": "markdown",
   "id": "7315b393-a545-4cd5-91c7-597e24dea2e3",
   "metadata": {},
   "source": [
    "### Create separate prompts and chains to handle questions accordingly\n",
    "\n",
    "physics, history, math and computerscience"
   ]
  },
  {
   "cell_type": "code",
   "execution_count": 5,
   "id": "82507aaf-f37f-4ebf-9b13-a6b138938254",
   "metadata": {},
   "outputs": [],
   "source": [
    "# Create a directory to save prompts to text files\n",
    "PROMPT_DIR = Path(\"./prompts\")\n",
    "PROMPT_DIR.mkdir(exist_ok=True)"
   ]
  },
  {
   "cell_type": "markdown",
   "id": "9509d99c-b4f7-4d8c-9502-d33a44e32464",
   "metadata": {},
   "source": [
    "##### Physics chain to answer physics questions"
   ]
  },
  {
   "cell_type": "code",
   "execution_count": 6,
   "id": "3e7449b1-f3d6-49fb-9307-57badfa25558",
   "metadata": {},
   "outputs": [],
   "source": [
    "prompt_path = PROMPT_DIR.joinpath(\"physics_prompt_claude.txt\")\n",
    "\n",
    "physics_template = \"\"\"You are a very smart physics professor. \\\n",
    "You are great at answering questions about physics in a concise\\\n",
    "and easy to understand manner. \\\n",
    "When you don't know the answer to a <question> you admit\\\n",
    "that you don't know.\n",
    "\n",
    "<question> {question} </question>\n",
    "\n",
    "Answer:\"\"\"\n",
    "\n",
    "# Format prompt for Anthropic\n",
    "physics_prompt = PromptTemplate.from_template(\n",
    "    template=f\"{HUMAN_PROMPT}{physics_template}{AI_PROMPT}\"\n",
    ")\n",
    "\n",
    "# save prompt to disk\n",
    "prompt_path.write_text(physics_prompt.template, encoding=\"utf-8\")\n",
    "\n",
    "physics_chain = {\"question\": RunnablePassthrough()} | physics_prompt | llm_cv2"
   ]
  },
  {
   "cell_type": "code",
   "execution_count": 7,
   "id": "037ba519-1fae-4c34-90a7-82eb57b32846",
   "metadata": {},
   "outputs": [],
   "source": [
    "prompt_path = PROMPT_DIR.joinpath(\"math_prompt_claude.txt\")\n",
    "\n",
    "math_template = \"\"\"You are a very good mathematician. \\\n",
    "You are great at answering math questions. \\\n",
    "You are so good because you are able to break down \\\n",
    "hard problems into their component parts, \n",
    "answer the component parts, and then put them together\\\n",
    "to answer the broader question.\n",
    "\n",
    "<question>\n",
    "{question}\n",
    "</question>\n",
    "\n",
    "Answer:\"\"\"\n",
    "\n",
    "# Format prompt for Anthropic\n",
    "math_prompt = PromptTemplate.from_template(\n",
    "    template=f\"{HUMAN_PROMPT}{math_template}{AI_PROMPT}\"\n",
    ")\n",
    "\n",
    "# save prompt to disk\n",
    "prompt_path.write_text(math_prompt.template, encoding=\"utf-8\")\n",
    "\n",
    "math_chain = {\"question\": RunnablePassthrough()} | math_prompt | llm_cv2"
   ]
  },
  {
   "cell_type": "code",
   "execution_count": 8,
   "id": "51f0a2a6-193a-4305-b97a-21d924c04db1",
   "metadata": {},
   "outputs": [],
   "source": [
    "prompt_path = PROMPT_DIR.joinpath(\"history_prompt_claude.txt\")\n",
    "\n",
    "history_template = \"\"\"You are a very good historian. \\\n",
    "You have an excellent knowledge of and understanding of people,\\\n",
    "events and contexts from a range of historical periods. \\\n",
    "You have the ability to think, reflect, debate, discuss and \\\n",
    "evaluate the past. You have a respect for historical evidence\\\n",
    "and the ability to make use of it to support your explanations \\\n",
    "and judgements.\n",
    "\n",
    "<question>\n",
    "{question}\n",
    "</question>\n",
    "\n",
    "Answer:\"\"\"\n",
    "\n",
    "# Format prompt for Anthropic\n",
    "history_prompt = PromptTemplate.from_template(\n",
    "    template=f\"{HUMAN_PROMPT}{history_template}{AI_PROMPT}\"\n",
    ")\n",
    "\n",
    "# save prompt to disk\n",
    "prompt_path.write_text(history_prompt.template, encoding=\"utf-8\")\n",
    "\n",
    "history_chain = {\"question\": RunnablePassthrough()} | history_prompt | llm_cv2"
   ]
  },
  {
   "cell_type": "code",
   "execution_count": 9,
   "id": "c7d7f344-b6c0-40c7-9915-10f4ed70af94",
   "metadata": {},
   "outputs": [],
   "source": [
    "prompt_path = PROMPT_DIR.joinpath(\"computerscience_prompt_claude.txt\")\n",
    "\n",
    "computerscience_template = \"\"\" You are a successful computer scientist.\\\n",
    "You have a passion for creativity, collaboration,\\\n",
    "forward-thinking, confidence, strong problem-solving capabilities,\\\n",
    "understanding of theories and algorithms, and excellent communication \\\n",
    "skills. You are great at answering coding questions. \\\n",
    "You are so good because you know how to solve a problem by \\\n",
    "describing the solution in imperative steps \\\n",
    "that a machine can easily interpret and you know how to \\\n",
    "choose a solution that has a good balance between \\\n",
    "time complexity and space complexity. \n",
    "\n",
    "<question>\n",
    "{question}\n",
    "</question>\n",
    "\n",
    "Answer:\"\"\"\n",
    "\n",
    "# Format prompt for Anthropic\n",
    "computerscience_prompt = PromptTemplate.from_template(\n",
    "    template=f\"{HUMAN_PROMPT}{computerscience_template}{AI_PROMPT}\"\n",
    ")\n",
    "\n",
    "# save prompt to disk\n",
    "prompt_path.write_text(computerscience_prompt.template, encoding=\"utf-8\")\n",
    "\n",
    "computerscience_chain = (\n",
    "    {\"question\": RunnablePassthrough()} | computerscience_prompt | llm_cv2\n",
    ")"
   ]
  },
  {
   "cell_type": "code",
   "execution_count": 10,
   "id": "aea18972-914a-43a1-861f-ae3ba3e23f65",
   "metadata": {},
   "outputs": [],
   "source": [
    "# General chain for fallback\n",
    "general_template = (\n",
    "    \"\"\"Respond to the following question: <question>{question}</question> Answer:\"\"\"\n",
    ")\n",
    "general_prompt = PromptTemplate.from_template(\n",
    "    template=f\"{HUMAN_PROMPT}{general_template}{AI_PROMPT}\"\n",
    ")\n",
    "\n",
    "general_chain = {\"question\": RunnablePassthrough()} | general_prompt | llm_cv2"
   ]
  },
  {
   "cell_type": "code",
   "execution_count": 11,
   "id": "0a3082d1-30e9-481b-9929-6ecb7baa9040",
   "metadata": {},
   "outputs": [],
   "source": [
    "# from pathlib import Path\n",
    "\n",
    "# PROMPT_DIR = Path(\"./prompts\")\n",
    "# physics_prompt_path = PROMPT_DIR.joinpath(\"physics_prompt_claude.txt\")\n",
    "# _ = physics_prompt_path.write_text(\n",
    "#     f\"{HUMAN_PROMPT}{physics_template}{AI_PROMPT}\", encoding=\"utf-8\"\n",
    "# )\n",
    "\n",
    "# math_prompt_path = PROMPT_DIR.joinpath(\"math_prompt_claude.txt\")\n",
    "# _ = math_prompt_path.write_text(\n",
    "#     f\"{HUMAN_PROMPT}{math_template}{AI_PROMPT}\", encoding=\"utf-8\"\n",
    "# )\n",
    "\n",
    "# history_prompt_path = PROMPT_DIR.joinpath(\"history_prompt_claude.txt\")\n",
    "# _ = history_prompt_path.write_text(\n",
    "#     f\"{HUMAN_PROMPT}{history_template}{AI_PROMPT}\", encoding=\"utf-8\"\n",
    "# )"
   ]
  },
  {
   "cell_type": "markdown",
   "id": "7088e2bc-96f9-4537-a94d-8502cedaed02",
   "metadata": {},
   "source": [
    "### Putting it all together.\n",
    "\n",
    "First, we pass the input **question** to a chain that categorizes, the **question** into one of 4 categories:\n",
    "\n",
    "- Math\n",
    "- Physics\n",
    "- Computer Science\n",
    "- History\n",
    "\n",
    "Next, we pass the output to the `RunnableBranch`, which then, routes the **question** to the relevant *chain*"
   ]
  },
  {
   "cell_type": "markdown",
   "id": "3eaa577e-956a-43ad-9edd-d0366801ee6b",
   "metadata": {},
   "source": [
    "#### Using a RunnableBranch\n",
    "\n",
    "A `RunnableBranch` is initialized with a list of (condition, runnable) pairs and a default runnable.\n",
    "\n",
    "It selects which branch by passing each condition the input it's invoked with. It selects the first condition to evaluate to True, and runs the corresponding runnable to that condition with the input.\n",
    "\n",
    "If no provided conditions match, it runs the default runnable.\n",
    "\n",
    "Create a `RunnableBranch` that routes the input to the appropriate prompt."
   ]
  },
  {
   "cell_type": "code",
   "execution_count": 12,
   "id": "4a97f020-edd1-4cfc-a227-fbb2a0c27317",
   "metadata": {},
   "outputs": [],
   "source": [
    "prompt_branch = RunnableBranch(\n",
    "    (lambda x: \"math\" in x[\"topic\"].lower(), math_chain),\n",
    "    (lambda x: \"physics\" in x[\"topic\"].lower(), physics_chain),\n",
    "    (lambda x: \"history\" in x[\"topic\"].lower(), history_chain),\n",
    "    (lambda x: \"computerscience\" in x[\"topic\"].lower(), computerscience_chain),\n",
    "    general_chain,\n",
    ")"
   ]
  },
  {
   "cell_type": "code",
   "execution_count": 13,
   "id": "4fb20547-d5d2-4d6c-be65-8f618daebb89",
   "metadata": {},
   "outputs": [],
   "source": [
    "full_chain = {\n",
    "    \"topic\": classify_chain,\n",
    "    \"question\": RunnablePassthrough(),\n",
    "} | prompt_branch"
   ]
  },
  {
   "cell_type": "markdown",
   "id": "ea22f248-4037-409d-925f-489d6bf55137",
   "metadata": {},
   "source": [
    "### Run the chain with questions from 4 topics"
   ]
  },
  {
   "cell_type": "code",
   "execution_count": 14,
   "id": "e6b62b02-8bc7-4284-a010-6aa397929c96",
   "metadata": {},
   "outputs": [
    {
     "data": {
      "text/html": [
       "<pre style=\"white-space:pre;overflow-x:auto;line-height:normal;font-family:Menlo,'DejaVu Sans Mono',consolas,'Courier New',monospace\"><span style=\"font-weight: bold\">Question:</span> <span style=\"color: #008000; text-decoration-color: #008000; font-style: italic\">List last </span><span style=\"color: #008000; text-decoration-color: #008000; font-weight: bold; font-style: italic\">5</span><span style=\"color: #008000; text-decoration-color: #008000; font-style: italic\"> presidents of USA and their term durations. Output in a Markdown table format.</span>\n",
       "</pre>\n"
      ],
      "text/plain": [
       "\u001b[1mQuestion:\u001b[0m \u001b[3;32mList last \u001b[0m\u001b[1;3;32m5\u001b[0m\u001b[3;32m presidents of USA and their term durations. Output in a Markdown table format.\u001b[0m\n"
      ]
     },
     "metadata": {},
     "output_type": "display_data"
    },
    {
     "data": {
      "text/html": [
       "<pre style=\"white-space:pre;overflow-x:auto;line-height:normal;font-family:Menlo,'DejaVu Sans Mono',consolas,'Courier New',monospace\"></pre>\n"
      ],
      "text/plain": []
     },
     "metadata": {},
     "output_type": "display_data"
    },
    {
     "data": {
      "text/markdown": [
       " Here is a table listing the last 5 presidents of the USA and their term durations:\n",
       "\n",
       "| President | Term |\n",
       "|-|-|  \n",
       "| Joe Biden | 2021 - present |\n",
       "| Donald Trump | 2017 - 2021 |\n",
       "| Barack Obama | 2009 - 2017 | \n",
       "| George W. Bush | 2001 - 2009 |\n",
       "| Bill Clinton | 1993 - 2001 |"
      ],
      "text/plain": [
       "\u001b[1m<\u001b[0m\u001b[1;95mIPython.core.display.Markdown\u001b[0m\u001b[39m object\u001b[0m\u001b[1m>\u001b[0m"
      ]
     },
     "metadata": {},
     "output_type": "display_data"
    },
    {
     "data": {
      "text/html": [
       "<pre style=\"white-space:pre;overflow-x:auto;line-height:normal;font-family:Menlo,'DejaVu Sans Mono',consolas,'Courier New',monospace\">\n",
       "</pre>\n"
      ],
      "text/plain": [
       "\n"
      ]
     },
     "metadata": {},
     "output_type": "display_data"
    },
    {
     "data": {
      "text/html": [
       "<pre style=\"white-space:pre;overflow-x:auto;line-height:normal;font-family:Menlo,'DejaVu Sans Mono',consolas,'Courier New',monospace\">---------------------------------------------------------------------------\n",
       "</pre>\n"
      ],
      "text/plain": [
       "---------------------------------------------------------------------------\n"
      ]
     },
     "metadata": {},
     "output_type": "display_data"
    },
    {
     "data": {
      "text/html": [
       "<pre style=\"white-space:pre;overflow-x:auto;line-height:normal;font-family:Menlo,'DejaVu Sans Mono',consolas,'Courier New',monospace\"><span style=\"font-weight: bold\">Question:</span> <span style=\"color: #008000; text-decoration-color: #008000; font-style: italic\">What is </span><span style=\"color: #008000; text-decoration-color: #008000; font-weight: bold; font-style: italic\">5</span><span style=\"color: #008000; text-decoration-color: #008000; font-style: italic\">% of </span><span style=\"color: #008000; text-decoration-color: #008000; font-weight: bold; font-style: italic\">257</span>\n",
       "</pre>\n"
      ],
      "text/plain": [
       "\u001b[1mQuestion:\u001b[0m \u001b[3;32mWhat is \u001b[0m\u001b[1;3;32m5\u001b[0m\u001b[3;32m% of \u001b[0m\u001b[1;3;32m257\u001b[0m\n"
      ]
     },
     "metadata": {},
     "output_type": "display_data"
    },
    {
     "data": {
      "text/html": [
       "<pre style=\"white-space:pre;overflow-x:auto;line-height:normal;font-family:Menlo,'DejaVu Sans Mono',consolas,'Courier New',monospace\"></pre>\n"
      ],
      "text/plain": []
     },
     "metadata": {},
     "output_type": "display_data"
    },
    {
     "data": {
      "text/markdown": [
       " Okay, let's break this down step-by-step:\n",
       "\n",
       "1) 5% means 5 out of 100\n",
       "2) To find 5% of a number, we calculate:\n",
       "(5 / 100) * 257\n",
       "\n",
       "3) (5 / 100) = 0.05\n",
       "\n",
       "4) 0.05 * 257 = 12.85\n",
       "\n",
       "Therefore, 5% of 257 is 12.85."
      ],
      "text/plain": [
       "\u001b[1m<\u001b[0m\u001b[1;95mIPython.core.display.Markdown\u001b[0m\u001b[39m object\u001b[0m\u001b[1m>\u001b[0m"
      ]
     },
     "metadata": {},
     "output_type": "display_data"
    },
    {
     "data": {
      "text/html": [
       "<pre style=\"white-space:pre;overflow-x:auto;line-height:normal;font-family:Menlo,'DejaVu Sans Mono',consolas,'Courier New',monospace\">\n",
       "</pre>\n"
      ],
      "text/plain": [
       "\n"
      ]
     },
     "metadata": {},
     "output_type": "display_data"
    },
    {
     "data": {
      "text/html": [
       "<pre style=\"white-space:pre;overflow-x:auto;line-height:normal;font-family:Menlo,'DejaVu Sans Mono',consolas,'Courier New',monospace\">---------------------------------------------------------------------------\n",
       "</pre>\n"
      ],
      "text/plain": [
       "---------------------------------------------------------------------------\n"
      ]
     },
     "metadata": {},
     "output_type": "display_data"
    },
    {
     "data": {
      "text/html": [
       "<pre style=\"white-space:pre;overflow-x:auto;line-height:normal;font-family:Menlo,'DejaVu Sans Mono',consolas,'Courier New',monospace\"><span style=\"font-weight: bold\">Question:</span> <span style=\"color: #008000; text-decoration-color: #008000; font-style: italic\">What are black holes?</span>\n",
       "</pre>\n"
      ],
      "text/plain": [
       "\u001b[1mQuestion:\u001b[0m \u001b[3;32mWhat are black holes?\u001b[0m\n"
      ]
     },
     "metadata": {},
     "output_type": "display_data"
    },
    {
     "data": {
      "text/html": [
       "<pre style=\"white-space:pre;overflow-x:auto;line-height:normal;font-family:Menlo,'DejaVu Sans Mono',consolas,'Courier New',monospace\"></pre>\n"
      ],
      "text/plain": []
     },
     "metadata": {},
     "output_type": "display_data"
    },
    {
     "data": {
      "text/markdown": [
       " Black holes are regions of spacetime exhibiting gravitational acceleration so strong that nothing—no particles or even electromagnetic radiation such as light—can escape from inside it. The theory of general relativity predicts that a sufficiently compact mass can deform spacetime to form a black hole. The boundary of no escape is called the event horizon. Although it has a great effect on the fate and circumstances of an object crossing it, it has no locally detectable features according to general relativity. In many ways, a black hole acts like an ideal black body, as it reflects no light. Moreover, quantum field theory in curved spacetime predicts that event horizons emit Hawking radiation, with the same spectrum as a black body of a temperature inversely proportional to its mass. This temperature is extremely low for stellar black holes, making it essentially impossible to observe directly."
      ],
      "text/plain": [
       "\u001b[1m<\u001b[0m\u001b[1;95mIPython.core.display.Markdown\u001b[0m\u001b[39m object\u001b[0m\u001b[1m>\u001b[0m"
      ]
     },
     "metadata": {},
     "output_type": "display_data"
    },
    {
     "data": {
      "text/html": [
       "<pre style=\"white-space:pre;overflow-x:auto;line-height:normal;font-family:Menlo,'DejaVu Sans Mono',consolas,'Courier New',monospace\">\n",
       "</pre>\n"
      ],
      "text/plain": [
       "\n"
      ]
     },
     "metadata": {},
     "output_type": "display_data"
    },
    {
     "data": {
      "text/html": [
       "<pre style=\"white-space:pre;overflow-x:auto;line-height:normal;font-family:Menlo,'DejaVu Sans Mono',consolas,'Courier New',monospace\">---------------------------------------------------------------------------\n",
       "</pre>\n"
      ],
      "text/plain": [
       "---------------------------------------------------------------------------\n"
      ]
     },
     "metadata": {},
     "output_type": "display_data"
    },
    {
     "data": {
      "text/html": [
       "<pre style=\"white-space:pre;overflow-x:auto;line-height:normal;font-family:Menlo,'DejaVu Sans Mono',consolas,'Courier New',monospace\"><span style=\"font-weight: bold\">Question:</span> <span style=\"color: #008000; text-decoration-color: #008000; font-style: italic\">How to implement Interfaces in Python?</span>\n",
       "</pre>\n"
      ],
      "text/plain": [
       "\u001b[1mQuestion:\u001b[0m \u001b[3;32mHow to implement Interfaces in Python?\u001b[0m\n"
      ]
     },
     "metadata": {},
     "output_type": "display_data"
    },
    {
     "data": {
      "text/html": [
       "<pre style=\"white-space:pre;overflow-x:auto;line-height:normal;font-family:Menlo,'DejaVu Sans Mono',consolas,'Courier New',monospace\"></pre>\n"
      ],
      "text/plain": []
     },
     "metadata": {},
     "output_type": "display_data"
    },
    {
     "data": {
      "text/markdown": [
       " Python does not have an interface construct like other object-oriented languages such as Java or C#. However, Python does allow for interfaces to be implemented through abstract base classes. Here is one way to implement interfaces in Python:\n",
       "\n",
       "1. Create an abstract base class and use the abc module to make it an official abstract class:\n",
       "\n",
       "```python\n",
       "from abc import ABC, abstractmethod\n",
       "\n",
       "class MyInterface(ABC):\n",
       "\n",
       "    @abstractmethod\n",
       "    def method1(self):\n",
       "        pass\n",
       "\n",
       "    @abstractmethod    \n",
       "    def method2(self):\n",
       "        pass\n",
       "```\n",
       "\n",
       "2. Any class that inherits from this abstract base class must implement all the abstract methods: \n",
       "\n",
       "```python \n",
       "class MyClass(MyInterface):\n",
       "\n",
       "    def method1(self):\n",
       "        print(\"Implementing method1\")\n",
       "\n",
       "    def method2(self):\n",
       "        print(\"Implementing method2\")\n",
       "```\n",
       "\n",
       "3. Attempting to instantiate the abstract base class directly will raise an error.\n",
       "\n",
       "4. The abstract base class can be used to check if a class implements the interface:\n",
       "\n",
       "```python\n",
       "def func(arg):\n",
       "    if isinstance(arg, MyInterface):\n",
       "        # Interface has been implemented\n",
       "        arg.method1()\n",
       "        arg.method2()\n",
       "```\n",
       "\n",
       "So in summary, interfaces can be implemented in Python by creating abstract base classes that define abstract methods that any subclass must implement."
      ],
      "text/plain": [
       "\u001b[1m<\u001b[0m\u001b[1;95mIPython.core.display.Markdown\u001b[0m\u001b[39m object\u001b[0m\u001b[1m>\u001b[0m"
      ]
     },
     "metadata": {},
     "output_type": "display_data"
    },
    {
     "data": {
      "text/html": [
       "<pre style=\"white-space:pre;overflow-x:auto;line-height:normal;font-family:Menlo,'DejaVu Sans Mono',consolas,'Courier New',monospace\">\n",
       "</pre>\n"
      ],
      "text/plain": [
       "\n"
      ]
     },
     "metadata": {},
     "output_type": "display_data"
    },
    {
     "data": {
      "text/html": [
       "<pre style=\"white-space:pre;overflow-x:auto;line-height:normal;font-family:Menlo,'DejaVu Sans Mono',consolas,'Courier New',monospace\">---------------------------------------------------------------------------\n",
       "</pre>\n"
      ],
      "text/plain": [
       "---------------------------------------------------------------------------\n"
      ]
     },
     "metadata": {},
     "output_type": "display_data"
    }
   ],
   "source": [
    "questions = [\n",
    "    \"List last 5 presidents of USA and their term durations. Output in a Markdown table format.\",\n",
    "    \"What is 5% of 257\",\n",
    "    \"What are black holes?\",\n",
    "    \"How to implement Interfaces in Python?\",\n",
    "]\n",
    "\n",
    "for question in questions:\n",
    "    print(f\"[b]Question:[/b] [i green]{question}[/i green]\")\n",
    "    output = full_chain.invoke(question)\n",
    "    display(Markdown(output))\n",
    "    print()\n",
    "    print(\"---\" * 25)"
   ]
  },
  {
   "cell_type": "markdown",
   "id": "a952db42-814f-4b6a-99fb-36ead1a54a65",
   "metadata": {},
   "source": [
    "### Invoking with `RunnableLambda`\n",
    "\n",
    "If you prefer to implement your own Lambda as a routing logic you can do so like below:"
   ]
  },
  {
   "cell_type": "code",
   "execution_count": 15,
   "id": "47a908dd-ee6c-45ea-af0e-b33e2be781e2",
   "metadata": {},
   "outputs": [],
   "source": [
    "def route_prompt(input):\n",
    "    if \"math\" in input[\"topic\"].lower():\n",
    "        return math_chain\n",
    "    elif \"physics\" in input[\"topic\"].lower():\n",
    "        return physics_chain\n",
    "    elif \"history\" in input[\"topic\"].lower():\n",
    "        return history_chain\n",
    "    elif \"computerscience\" in input[\"topic\"].lower():\n",
    "        return computerscience_chain\n",
    "    else:\n",
    "        return general_chain"
   ]
  },
  {
   "cell_type": "code",
   "execution_count": 16,
   "id": "ebd695b7-4de0-4cf0-91d7-4420d5fd712c",
   "metadata": {},
   "outputs": [],
   "source": [
    "full_chain = {\n",
    "    \"topic\": classify_chain,\n",
    "    \"question\": RunnablePassthrough(),\n",
    "} | RunnableLambda(route_prompt)"
   ]
  },
  {
   "cell_type": "code",
   "execution_count": 17,
   "id": "82592ca8-38bb-4a4b-babb-2bd25f4fdfb8",
   "metadata": {},
   "outputs": [
    {
     "data": {
      "text/html": [
       "<pre style=\"white-space:pre;overflow-x:auto;line-height:normal;font-family:Menlo,'DejaVu Sans Mono',consolas,'Courier New',monospace\"><span style=\"font-weight: bold\">Question:</span> <span style=\"color: #008000; text-decoration-color: #008000; font-style: italic\">What transpired during the battle of Gettsyburg.</span>\n",
       "</pre>\n"
      ],
      "text/plain": [
       "\u001b[1mQuestion:\u001b[0m \u001b[3;32mWhat transpired during the battle of Gettsyburg.\u001b[0m\n"
      ]
     },
     "metadata": {},
     "output_type": "display_data"
    },
    {
     "data": {
      "text/html": [
       "<pre style=\"white-space:pre;overflow-x:auto;line-height:normal;font-family:Menlo,'DejaVu Sans Mono',consolas,'Courier New',monospace\"></pre>\n"
      ],
      "text/plain": []
     },
     "metadata": {},
     "output_type": "display_data"
    },
    {
     "data": {
      "text/markdown": [
       " Here is a summary of what transpired during the Battle of Gettysburg in the American Civil War:\n",
       "\n",
       "- The battle took place from July 1-3, 1863 in and around the town of Gettysburg, Pennsylvania. It was a major turning point in the war.\n",
       "\n",
       "- On July 1, Confederate forces under General Robert E. Lee engaged Union cavalry under General John Buford outside Gettysburg. Despite being outnumbered, Buford's men delayed the Confederate advance until Union reinforcements arrived.  \n",
       "\n",
       "- On July 2, Lee launched assaults on the Union flanks. Fighting raged at locations such as the Peach Orchard, the Wheatfield, and Devil's Den. The Union lines generally held despite heavy casualties. \n",
       "\n",
       "- On July 3, Lee ordered what became known as Pickett's Charge, a massive frontal assault on the center of the Union lines on Cemetery Ridge. After an intense artillery bombardment, around 12,500 Confederate soldiers advanced but were repulsed with heavy losses. \n",
       "\n",
       "- Lee's defeat ended his invasion of the North. The Union had held important ground and inflicted heavy losses on the Confederates, around 28,000 men. It was a major turning point that contributed to the eventual Confederate surrender in 1865.\n",
       "\n",
       "- Gettysburg also saw President Lincoln deliver his famous Gettysburg Address, dedicating the battlefield to the soldiers who died there."
      ],
      "text/plain": [
       "\u001b[1m<\u001b[0m\u001b[1;95mIPython.core.display.Markdown\u001b[0m\u001b[39m object\u001b[0m\u001b[1m>\u001b[0m"
      ]
     },
     "metadata": {},
     "output_type": "display_data"
    },
    {
     "data": {
      "text/html": [
       "<pre style=\"white-space:pre;overflow-x:auto;line-height:normal;font-family:Menlo,'DejaVu Sans Mono',consolas,'Courier New',monospace\">\n",
       "</pre>\n"
      ],
      "text/plain": [
       "\n"
      ]
     },
     "metadata": {},
     "output_type": "display_data"
    },
    {
     "data": {
      "text/html": [
       "<pre style=\"white-space:pre;overflow-x:auto;line-height:normal;font-family:Menlo,'DejaVu Sans Mono',consolas,'Courier New',monospace\">---------------------------------------------------------------------------\n",
       "</pre>\n"
      ],
      "text/plain": [
       "---------------------------------------------------------------------------\n"
      ]
     },
     "metadata": {},
     "output_type": "display_data"
    },
    {
     "data": {
      "text/html": [
       "<pre style=\"white-space:pre;overflow-x:auto;line-height:normal;font-family:Menlo,'DejaVu Sans Mono',consolas,'Courier New',monospace\"><span style=\"font-weight: bold\">Question:</span> <span style=\"color: #008000; text-decoration-color: #008000; font-style: italic\">What is </span><span style=\"color: #008000; text-decoration-color: #008000; font-weight: bold; font-style: italic\">55</span><span style=\"color: #008000; text-decoration-color: #008000; font-style: italic\">% of 7Billion</span>\n",
       "</pre>\n"
      ],
      "text/plain": [
       "\u001b[1mQuestion:\u001b[0m \u001b[3;32mWhat is \u001b[0m\u001b[1;3;32m55\u001b[0m\u001b[3;32m% of 7Billion\u001b[0m\n"
      ]
     },
     "metadata": {},
     "output_type": "display_data"
    },
    {
     "data": {
      "text/html": [
       "<pre style=\"white-space:pre;overflow-x:auto;line-height:normal;font-family:Menlo,'DejaVu Sans Mono',consolas,'Courier New',monospace\"></pre>\n"
      ],
      "text/plain": []
     },
     "metadata": {},
     "output_type": "display_data"
    },
    {
     "data": {
      "text/markdown": [
       " Okay, let's break this down step-by-step:\n",
       "\n",
       "1) 7 billion can be written as 7,000,000,000\n",
       "\n",
       "2) 55% of something is the same as 0.55 * that something\n",
       "\n",
       "3) So 55% of 7,000,000,000 is:\n",
       "0.55 * 7,000,000,000\n",
       "\n",
       "4) Multiplying this out:\n",
       "0.55 * 7,000,000,000 = 3,850,000,000\n",
       "\n",
       "Therefore, the answer is:\n",
       "55% of 7 billion is 3,850,000,000"
      ],
      "text/plain": [
       "\u001b[1m<\u001b[0m\u001b[1;95mIPython.core.display.Markdown\u001b[0m\u001b[39m object\u001b[0m\u001b[1m>\u001b[0m"
      ]
     },
     "metadata": {},
     "output_type": "display_data"
    },
    {
     "data": {
      "text/html": [
       "<pre style=\"white-space:pre;overflow-x:auto;line-height:normal;font-family:Menlo,'DejaVu Sans Mono',consolas,'Courier New',monospace\">\n",
       "</pre>\n"
      ],
      "text/plain": [
       "\n"
      ]
     },
     "metadata": {},
     "output_type": "display_data"
    },
    {
     "data": {
      "text/html": [
       "<pre style=\"white-space:pre;overflow-x:auto;line-height:normal;font-family:Menlo,'DejaVu Sans Mono',consolas,'Courier New',monospace\">---------------------------------------------------------------------------\n",
       "</pre>\n"
      ],
      "text/plain": [
       "---------------------------------------------------------------------------\n"
      ]
     },
     "metadata": {},
     "output_type": "display_data"
    },
    {
     "data": {
      "text/html": [
       "<pre style=\"white-space:pre;overflow-x:auto;line-height:normal;font-family:Menlo,'DejaVu Sans Mono',consolas,'Courier New',monospace\"><span style=\"font-weight: bold\">Question:</span> <span style=\"color: #008000; text-decoration-color: #008000; font-style: italic\">What is Max Planck's theory about consciousness?</span>\n",
       "</pre>\n"
      ],
      "text/plain": [
       "\u001b[1mQuestion:\u001b[0m \u001b[3;32mWhat is Max Planck's theory about consciousness?\u001b[0m\n"
      ]
     },
     "metadata": {},
     "output_type": "display_data"
    },
    {
     "data": {
      "text/html": [
       "<pre style=\"white-space:pre;overflow-x:auto;line-height:normal;font-family:Menlo,'DejaVu Sans Mono',consolas,'Courier New',monospace\"></pre>\n"
      ],
      "text/plain": []
     },
     "metadata": {},
     "output_type": "display_data"
    },
    {
     "data": {
      "text/markdown": [
       " Unfortunately I do not have enough information to provide a substantive answer about Max Planck's views on consciousness. Max Planck was a pioneering German physicist who made fundamental contributions to quantum theory, but he did not extensively discuss theories of consciousness. If you have a more specific question about Planck's scientific work or views, I would be happy to try to answer."
      ],
      "text/plain": [
       "\u001b[1m<\u001b[0m\u001b[1;95mIPython.core.display.Markdown\u001b[0m\u001b[39m object\u001b[0m\u001b[1m>\u001b[0m"
      ]
     },
     "metadata": {},
     "output_type": "display_data"
    },
    {
     "data": {
      "text/html": [
       "<pre style=\"white-space:pre;overflow-x:auto;line-height:normal;font-family:Menlo,'DejaVu Sans Mono',consolas,'Courier New',monospace\">\n",
       "</pre>\n"
      ],
      "text/plain": [
       "\n"
      ]
     },
     "metadata": {},
     "output_type": "display_data"
    },
    {
     "data": {
      "text/html": [
       "<pre style=\"white-space:pre;overflow-x:auto;line-height:normal;font-family:Menlo,'DejaVu Sans Mono',consolas,'Courier New',monospace\">---------------------------------------------------------------------------\n",
       "</pre>\n"
      ],
      "text/plain": [
       "---------------------------------------------------------------------------\n"
      ]
     },
     "metadata": {},
     "output_type": "display_data"
    },
    {
     "data": {
      "text/html": [
       "<pre style=\"white-space:pre;overflow-x:auto;line-height:normal;font-family:Menlo,'DejaVu Sans Mono',consolas,'Courier New',monospace\"><span style=\"font-weight: bold\">Question:</span> <span style=\"color: #008000; text-decoration-color: #008000; font-style: italic\">What are abstract classes in Python?</span>\n",
       "</pre>\n"
      ],
      "text/plain": [
       "\u001b[1mQuestion:\u001b[0m \u001b[3;32mWhat are abstract classes in Python?\u001b[0m\n"
      ]
     },
     "metadata": {},
     "output_type": "display_data"
    },
    {
     "data": {
      "text/html": [
       "<pre style=\"white-space:pre;overflow-x:auto;line-height:normal;font-family:Menlo,'DejaVu Sans Mono',consolas,'Courier New',monospace\"></pre>\n"
      ],
      "text/plain": []
     },
     "metadata": {},
     "output_type": "display_data"
    },
    {
     "data": {
      "text/markdown": [
       " Abstract classes in Python are classes that contain one or more abstract methods. An abstract method is a method that is declared, but contains no implementation. Abstract classes cannot be instantiated, and require subclasses to provide implementations for the abstract methods. \n",
       "\n",
       "Here are the key characteristics of abstract classes and abstract methods in Python:\n",
       "\n",
       "- Abstract classes are defined by inheriting from the ABC (Abstract Base Class) module's ABC class. \n",
       "\n",
       "- Abstract methods are declared with the @abstractmethod decorator.\n",
       "\n",
       "- Any class that contains abstract methods must also be declared abstract.\n",
       "\n",
       "- Abstract classes cannot be instantiated.\n",
       "\n",
       "- To use an abstract class, it must be subclassed, and the subclasses must provide implementations for all abstract methods.\n",
       "\n",
       "- Abstract methods do not contain implementation - they only have the method signature and optional docstring.\n",
       "\n",
       "- Abstract classes allow related classes to share a common interface and enforce certain methods, properties and behaviors.\n",
       "\n",
       "So in summary, abstract classes define a common interface for their subclasses and contain abstract methods that the subclasses must implement. This allows related classes to share a common abstraction while deferring the implementation of certain methods to the subclasses."
      ],
      "text/plain": [
       "\u001b[1m<\u001b[0m\u001b[1;95mIPython.core.display.Markdown\u001b[0m\u001b[39m object\u001b[0m\u001b[1m>\u001b[0m"
      ]
     },
     "metadata": {},
     "output_type": "display_data"
    },
    {
     "data": {
      "text/html": [
       "<pre style=\"white-space:pre;overflow-x:auto;line-height:normal;font-family:Menlo,'DejaVu Sans Mono',consolas,'Courier New',monospace\">\n",
       "</pre>\n"
      ],
      "text/plain": [
       "\n"
      ]
     },
     "metadata": {},
     "output_type": "display_data"
    },
    {
     "data": {
      "text/html": [
       "<pre style=\"white-space:pre;overflow-x:auto;line-height:normal;font-family:Menlo,'DejaVu Sans Mono',consolas,'Courier New',monospace\">---------------------------------------------------------------------------\n",
       "</pre>\n"
      ],
      "text/plain": [
       "---------------------------------------------------------------------------\n"
      ]
     },
     "metadata": {},
     "output_type": "display_data"
    }
   ],
   "source": [
    "questions = [\n",
    "    \"What transpired during the battle of Gettsyburg.\",\n",
    "    \"What is 55% of 7Billion\",\n",
    "    \"What is Max Planck's theory on consciousness?\",\n",
    "    \"What are abstract classes in Python?\",\n",
    "]\n",
    "\n",
    "for question in questions:\n",
    "    print(f\"[b]Question:[/b] [i green]{question}[/i green]\")\n",
    "    output = full_chain.invoke(question)\n",
    "    display(Markdown(output))\n",
    "    print()\n",
    "    print(\"---\" * 25)"
   ]
  },
  {
   "cell_type": "markdown",
   "id": "14021e01-8cf3-416c-86ff-11bc2da39a46",
   "metadata": {},
   "source": [
    "---"
   ]
  },
  {
   "cell_type": "markdown",
   "id": "8ba29ff5-ecab-4ff4-9e5f-0df7b10be51f",
   "metadata": {},
   "source": [
    "### [Legacy] Router Chain (OPTIONAL)\n",
    "\n",
    "**[!WARNING]**\n",
    "_THE PREFERRED APPROACH AS OF VERSION 0.0.293 IS TO USE LCEL AS ABOVE._\n",
    "\n",
    "Reference: <https://python.langchain.com/docs/modules/chains/foundational/router>"
   ]
  },
  {
   "cell_type": "code",
   "execution_count": 18,
   "id": "36caddbd-255d-4033-b584-52ecb92e954b",
   "metadata": {},
   "outputs": [],
   "source": [
    "# physics_template = \"\"\"You are a very smart physics professor. \\\n",
    "# You are great at answering questions about physics in a concise\\\n",
    "# and easy to understand manner. \\\n",
    "# When you don't know the answer to a question you admit\\\n",
    "# that you don't know.\n",
    "\n",
    "# Here is a question:\n",
    "# {input}\"\"\"\n",
    "\n",
    "\n",
    "# math_template = \"\"\"You are a very good mathematician. \\\n",
    "# You are great at answering math questions. \\\n",
    "# You are so good because you are able to break down \\\n",
    "# hard problems into their component parts,\n",
    "# answer the component parts, and then put them together\\\n",
    "# to answer the broader question.\n",
    "\n",
    "# Here is a question:\n",
    "# {input}\"\"\"\n",
    "\n",
    "# history_template = \"\"\"You are a very good historian. \\\n",
    "# You have an excellent knowledge of and understanding of people,\\\n",
    "# events and contexts from a range of historical periods. \\\n",
    "# You have the ability to think, reflect, debate, discuss and \\\n",
    "# evaluate the past. You have a respect for historical evidence\\\n",
    "# and the ability to make use of it to support your explanations \\\n",
    "# and judgements.\n",
    "\n",
    "# Here is a question:\n",
    "# {input}\"\"\"\n",
    "\n",
    "\n",
    "# computerscience_template = \"\"\" You are a successful computer scientist.\\\n",
    "# You have a passion for creativity, collaboration,\\\n",
    "# forward-thinking, confidence, strong problem-solving capabilities,\\\n",
    "# understanding of theories and algorithms, and excellent communication \\\n",
    "# skills. You are great at answering coding questions. \\\n",
    "# You are so good because you know how to solve a problem by \\\n",
    "# describing the solution in imperative steps \\\n",
    "# that a machine can easily interpret and you know how to \\\n",
    "# choose a solution that has a good balance between \\\n",
    "# time complexity and space complexity.\n",
    "\n",
    "# Here is a question:\n",
    "# {input}\"\"\""
   ]
  },
  {
   "cell_type": "code",
   "execution_count": 19,
   "id": "ed5fedd0-991b-4bc2-b693-e65ff50dbc34",
   "metadata": {},
   "outputs": [],
   "source": [
    "# prompt_infos = [\n",
    "#     {\n",
    "#         \"name\": \"physics\",\n",
    "#         \"description\": \"Good for answering questions about physics\",\n",
    "#         \"prompt_template\": physics_template,\n",
    "#     },\n",
    "#     {\n",
    "#         \"name\": \"math\",\n",
    "#         \"description\": \"Good for answering math questions\",\n",
    "#         \"prompt_template\": math_template,\n",
    "#     },\n",
    "#     {\n",
    "#         \"name\": \"History\",\n",
    "#         \"description\": \"Good for answering history questions\",\n",
    "#         \"prompt_template\": history_template,\n",
    "#     },\n",
    "#     {\n",
    "#         \"name\": \"computer science\",\n",
    "#         \"description\": \"Good for answering computer science questions\",\n",
    "#         \"prompt_template\": computerscience_template,\n",
    "#     },\n",
    "# ]"
   ]
  },
  {
   "cell_type": "code",
   "execution_count": 20,
   "id": "a490a414-7635-49db-9789-0b3324e257fb",
   "metadata": {},
   "outputs": [],
   "source": [
    "# destination_chains = {}\n",
    "# for p_info in prompt_infos:\n",
    "#     name = p_info[\"name\"]\n",
    "#     prompt_template = p_info[\"prompt_template\"]\n",
    "#     prompt = ChatPromptTemplate.from_template(template=prompt_template)\n",
    "#     chain = LLMChain(llm=llm_instant, prompt=prompt)\n",
    "#     destination_chains[name] = chain\n",
    "\n",
    "# destinations = [f\"{p['name']}: {p['description']}\" for p in prompt_infos]\n",
    "# destinations_str = \"\\n\".join(destinations)"
   ]
  },
  {
   "cell_type": "markdown",
   "id": "834ab7a4-3eb1-4076-9aa9-686477d56500",
   "metadata": {},
   "source": [
    "#### Define a default_chain for inputs that doesn't match with any of the provided template."
   ]
  },
  {
   "cell_type": "code",
   "execution_count": 21,
   "id": "32016c81-8221-4bfc-8c69-d3ed8bf09f53",
   "metadata": {},
   "outputs": [],
   "source": [
    "# default_prompt = ChatPromptTemplate.from_template(\"{input}\")\n",
    "# default_chain = LLMChain(llm=llm_instant, prompt=default_prompt)"
   ]
  },
  {
   "cell_type": "markdown",
   "id": "8d3f3f84-0ceb-4875-8905-2dd32a3012bc",
   "metadata": {},
   "source": [
    "#### Define the Multi-prompt Router prompt"
   ]
  },
  {
   "cell_type": "code",
   "execution_count": 22,
   "id": "4599c4b1-4f91-4802-95b2-7d3039bc17eb",
   "metadata": {},
   "outputs": [],
   "source": [
    "# MULTI_PROMPT_ROUTER_TEMPLATE = \"\"\"Given a raw text input to a \\\n",
    "# language model select the model prompt best suited for the input. \\\n",
    "# You will be given the names of the available prompts and a \\\n",
    "# description of what the prompt is best suited for. \\\n",
    "# You may also revise the original input if you think that revising \\\n",
    "# it will ultimately lead to a better response from the language model.\n",
    "\n",
    "# << FORMATTING >>\n",
    "# Return a markdown code snippet with a JSON object formatted to look like:\n",
    "# ```json\n",
    "# {{{{\n",
    "#     \"destination\": string \\ name of the prompt to use or \"DEFAULT\"\n",
    "#     \"next_inputs\": string \\ a potentially modified version of the original input\n",
    "# }}}}\n",
    "# ```\n",
    "\n",
    "# REMEMBER: \"destination\" MUST be one of the candidate prompt \\\n",
    "# names specified below OR it can be \"DEFAULT\" if the input is not\\\n",
    "# well suited for any of the candidate prompts.\n",
    "# REMEMBER: \"next_inputs\" can just be the original input \\\n",
    "# if you don't think any modifications are needed.\n",
    "\n",
    "# << CANDIDATE PROMPTS >>\n",
    "# {destinations}\n",
    "\n",
    "# << INPUT >>\n",
    "# {{input}}\n",
    "\n",
    "# << OUTPUT (remember to include the ```json)>>\"\"\""
   ]
  },
  {
   "cell_type": "code",
   "execution_count": 23,
   "id": "ee2fc0fb-58da-482e-bda0-9483be72ea71",
   "metadata": {},
   "outputs": [],
   "source": [
    "# router_template = MULTI_PROMPT_ROUTER_TEMPLATE.format(destinations=destinations_str)\n",
    "# router_prompt = PromptTemplate(\n",
    "#     template=router_template,\n",
    "#     input_variables=[\"input\"],\n",
    "#     output_parser=RouterOutputParser(),\n",
    "# )\n",
    "\n",
    "# router_chain = LLMRouterChain.from_llm(llm_instant, router_prompt)"
   ]
  },
  {
   "cell_type": "code",
   "execution_count": 24,
   "id": "81b6eca8-865f-4ce1-ad12-6c206b5fec83",
   "metadata": {},
   "outputs": [],
   "source": [
    "# chain = MultiPromptChain(\n",
    "#     router_chain=router_chain,\n",
    "#     destination_chains=destination_chains,\n",
    "#     default_chain=default_chain,\n",
    "#     verbose=True,\n",
    "# )"
   ]
  },
  {
   "cell_type": "code",
   "execution_count": 25,
   "id": "0fd93870-9d90-45fb-aff3-56ae0f2d98ab",
   "metadata": {},
   "outputs": [],
   "source": [
    "# output = chain.run(\n",
    "#     \"List last 5 presidents of USA and their term durations. Output in a Markdown table format.\"\n",
    "# )\n",
    "\n",
    "# Markdown(output)"
   ]
  }
 ],
 "metadata": {
  "kernelspec": {
   "display_name": "AnthropicGH",
   "language": "python",
   "name": "anthropicgh"
  },
  "language_info": {
   "codemirror_mode": {
    "name": "ipython",
    "version": 3
   },
   "file_extension": ".py",
   "mimetype": "text/x-python",
   "name": "python",
   "nbconvert_exporter": "python",
   "pygments_lexer": "ipython3",
   "version": "3.11.5"
  }
 },
 "nbformat": 4,
 "nbformat_minor": 5
}
