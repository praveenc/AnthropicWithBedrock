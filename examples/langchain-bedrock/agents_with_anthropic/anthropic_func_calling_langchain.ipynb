{
 "cells": [
  {
   "cell_type": "markdown",
   "id": "bb5b27ac-4417-4239-9e19-539aaf347463",
   "metadata": {},
   "source": [
    "# Function calling with Langchain Agents, Tools\n",
    "\n",
    "In this notebook we leveraage Langchain agents to perform function calling tasks. \n",
    "\n",
    "First we install the necessary python packages such as `duckduckgo-search`, `wikipedia`, and `xmltodict`, amongst others. \n",
    "\n",
    "- Initialize connection to **anthropic.claude-v2** using Bedrock\n",
    "- Define and test the following tools individually\n",
    "  - Wikipedia\n",
    "  - Web Search and\n",
    "  - PubMed search\n",
    "  - Custom Weather tool that search for weather data using Latitude and Longitude\n",
    "- Finally, we put this all together by initializing a Langchain agent executor"
   ]
  },
  {
   "cell_type": "code",
   "execution_count": 5,
   "id": "0d934971-c3ab-4aff-9c2b-79b5e2a46bb8",
   "metadata": {},
   "outputs": [],
   "source": [
    "# !pip install -U duckduckgo-search wikipedia unstructured xmltodict --quiet"
   ]
  },
  {
   "cell_type": "code",
   "execution_count": 9,
   "id": "25ff7655-f260-4057-9c9f-fd251f2a2f58",
   "metadata": {},
   "outputs": [
    {
     "name": "stdout",
     "output_type": "stream",
     "text": [
      "The rich extension is already loaded. To reload it, use:\n",
      "  %reload_ext rich\n"
     ]
    }
   ],
   "source": [
    "import ast\n",
    "import json\n",
    "import warnings\n",
    "\n",
    "import boto3\n",
    "from anthropic_bedrock import AI_PROMPT, HUMAN_PROMPT, AnthropicBedrock\n",
    "from IPython.display import Markdown\n",
    "from langchain.agents import AgentType, Tool, initialize_agent, load_tools\n",
    "from langchain.llms.bedrock import Bedrock\n",
    "from langchain.tools import DuckDuckGoSearchRun, PubmedQueryRun, tool\n",
    "from langchain.utilities import WikipediaAPIWrapper\n",
    "from rich import print\n",
    "from utils import get_inference_parameters\n",
    "import requests\n",
    "\n",
    "%load_ext rich\n",
    "warnings.filterwarnings(\"ignore\")"
   ]
  },
  {
   "cell_type": "code",
   "execution_count": 2,
   "id": "b078e7fd-fab7-4385-b459-3fe33ebfb769",
   "metadata": {},
   "outputs": [],
   "source": [
    "region = \"us-west-2\"\n",
    "bedrock_runtime = boto3.client(\n",
    "    service_name=\"bedrock-runtime\", region_name=region\n",
    ")  # bedrock runtime boto3 client\n",
    "bedrock_model_id = \"anthropic.claude-v2\"  # Amazon Bedrock Model ID for claude-v2\n",
    "\n",
    "# anthropic claude model parameters\n",
    "model_kwargs = get_inference_parameters(\"anthropic\")\n",
    "\n",
    "# print(model_kwargs)\n",
    "\n",
    "# Define the llm with langchain.llms.bedrock\n",
    "bedrock_llm = Bedrock(\n",
    "    model_id=bedrock_model_id, client=bedrock_runtime, model_kwargs=model_kwargs\n",
    ")"
   ]
  },
  {
   "cell_type": "markdown",
   "id": "d6f7cd42-a642-4d67-8383-397aa3cadf4e",
   "metadata": {},
   "source": [
    "## Let's define a few tools\n",
    "\n",
    "- [Wikipedia](https://wikipedia.org/) (Search wikipedia pages)\n",
    "- Web Search (Search web using [DuckDuckGo](https://duckduckgo.com/) search engine)\n",
    "- [PubMed](https://pubmed.ncbi.nlm.nih.gov/) (Medical papers and articles)\n",
    "- Custom Weather Tool\n",
    "  - Use `get_lat_long` and `get_weather` functions "
   ]
  },
  {
   "cell_type": "markdown",
   "id": "891751e3-9edc-4308-a749-6a1f3a2dcc8f",
   "metadata": {},
   "source": [
    "#### 01.Wikipedia Tool\n",
    "\n",
    "[Wikipedia](https://wikipedia.org/) is a multilingual free online encyclopedia written and maintained by a community of volunteers, through open collaboration. Wikipedia is the largest and most-read reference work in history. \n",
    "\n",
    ">*NOTE:* To use this tool, install `wikipedia` package."
   ]
  },
  {
   "cell_type": "code",
   "execution_count": 3,
   "id": "948adab2-65ba-48c6-948a-749357f7059d",
   "metadata": {},
   "outputs": [],
   "source": [
    "# Define the API wrapper for Wikipedia\n",
    "wikipedia = WikipediaAPIWrapper()\n",
    "\n",
    "# Define the Wikipedia tool with a description and the function to retrieve results from Wikipedia\n",
    "wikipedia_tool = Tool(\n",
    "    name=\"wikipedia\",\n",
    "    func=wikipedia.run,\n",
    "    description=\"Useful for when you need to answer general questions about people, places, companies, facts, historical events, or other subjects. Input should be a search query.\",\n",
    ")\n",
    "\n",
    "# Test the defined Wikipedia tool\n",
    "# Markdown(wikipedia_tool(\"What is the Archimedes Principle?\"))"
   ]
  },
  {
   "cell_type": "markdown",
   "id": "5ee94af3-3863-494e-86be-c9466aeeffb1",
   "metadata": {},
   "source": [
    "---\n",
    "\n",
    "#### 02.DuckDuckGo Search Tool\n",
    "\n",
    "[DuckDuckGo](https://duckduckgo.com/) is an internet privacy company most popularly known for their private search engine. The company emphasizes privacy and anonimity as one of the key principles behind all their products.\n",
    "\n",
    ">*NOTE:* To use this tool, install `duckduckgo-search` package."
   ]
  },
  {
   "cell_type": "code",
   "execution_count": 4,
   "id": "0c4ab023-0fdc-4f68-bd02-6548e62c4e89",
   "metadata": {},
   "outputs": [],
   "source": [
    "# Define the API wrapper for DuckDuckGo search\n",
    "duckduckgo_search = DuckDuckGoSearchRun()\n",
    "\n",
    "# Define the DuckDuckGo tool using a description and the function to retrieve results from DuckDuckGo search\n",
    "duckduckgo_tool = Tool(\n",
    "    name=\"DuckDuckGoSearch\",\n",
    "    func=duckduckgo_search.run,\n",
    "    description=\"useful for when you need to answer questions about current events\",\n",
    ")\n",
    "\n",
    "# Test the DuckDuckGo tool\n",
    "# Markdown(duckduckgo_tool(\"Weather in Seattle, Washington?\"))"
   ]
  },
  {
   "cell_type": "markdown",
   "id": "d2a1afa8-0148-40e3-b520-48f4895c9988",
   "metadata": {},
   "source": [
    "---\n",
    "\n",
    "#### 03.PubMed Tool\n",
    "\n",
    "[PubMed](https://pubmed.ncbi.nlm.nih.gov/) is a free search engine for medical papers and articles.\n",
    "\n",
    ">*NOTE:* To use this tool, install `xmltodict` package."
   ]
  },
  {
   "cell_type": "code",
   "execution_count": 5,
   "id": "9d8b874f-ed91-43b3-b539-0a3182cc0348",
   "metadata": {},
   "outputs": [],
   "source": [
    "# Define the API wrapper for PubMed search\n",
    "pubmed_search = PubmedQueryRun()\n",
    "\n",
    "# Define the PubMed tool using a description and the function to retrieve results from PubMed\n",
    "pubmed_tool = Tool(\n",
    "    name=\"PubmedQueryRun\",\n",
    "    func=pubmed_search.run,\n",
    "    description=\"Useful for when you need medical information\",\n",
    ")\n",
    "\n",
    "# Test PubMed tool\n",
    "# Markdown(pubmed_tool(\"Covid diagnosis\"))"
   ]
  },
  {
   "cell_type": "code",
   "execution_count": 6,
   "id": "7848c8a9-32be-40e3-ba11-c65d565ff365",
   "metadata": {},
   "outputs": [],
   "source": [
    "@tool(\"get_lat_long\")\n",
    "def get_lat_long(place: str) -> dict:\n",
    "    \"\"\"Returns latitude and longitude for a given place name as a python dictionary object.\"\"\"\n",
    "    url = \"https://nominatim.openstreetmap.org/search\"\n",
    "\n",
    "    params = {\"q\": place, \"format\": \"json\", \"limit\": 1}\n",
    "    response = requests.get(url, params=params).json()\n",
    "\n",
    "    if response:\n",
    "        lat = response[0][\"lat\"]\n",
    "        lon = response[0][\"lon\"]\n",
    "        return {\"latitude\": lat, \"longitude\": lon}\n",
    "    else:\n",
    "        return None\n",
    "\n",
    "\n",
    "@tool(\"get_weather_dict\")\n",
    "def get_weather_dict(co_ord_str: str) -> dict:\n",
    "    \"\"\"\n",
    "    Returns weather data for a given latitude and longitude as python dictionary.\n",
    "    \"\"\"\n",
    "    if \"{\" in co_ord_str:\n",
    "        co_ord_str = ast.literal_eval(co_ord_str)\n",
    "        latitude = co_ord_str[\"latitude\"]\n",
    "        longitude = co_ord_str[\"longitude\"]\n",
    "    else:\n",
    "        latitude = float(co_ord_str.split(\",\")[0].strip())\n",
    "        longitude = float(co_ord_str.split(\",\")[1].strip())\n",
    "    url = f\"https://api.open-meteo.com/v1/forecast?latitude={latitude}&longitude={longitude}&current_weather=true\"\n",
    "    response = requests.get(url)\n",
    "    return response.json()"
   ]
  },
  {
   "cell_type": "markdown",
   "id": "ef18036a-665e-4b98-860c-667becfc3e8b",
   "metadata": {},
   "source": [
    "## Putting it all together\n",
    "\n",
    "- Define all the tools as a list\n",
    "- Initialize the agent with tool list and `AgentType` of type `ZERO_SHOT_REACT_DESCRIPTION`\n",
    "- Explicity tell the agent to handle parsing errors"
   ]
  },
  {
   "cell_type": "code",
   "execution_count": 12,
   "id": "e0a2fff6-95d7-47db-b385-40bcd7329715",
   "metadata": {},
   "outputs": [],
   "source": [
    "# Define a list of tools for the agent\n",
    "tools = [wikipedia_tool, duckduckgo_tool, pubmed_tool, get_lat_long, get_weather_dict]\n",
    "\n",
    "# Initialize the agent with access to all the tooks in the list\n",
    "react_agent = initialize_agent(\n",
    "    tools,\n",
    "    bedrock_llm,\n",
    "    agent=AgentType.ZERO_SHOT_REACT_DESCRIPTION,\n",
    "    verbose=True,\n",
    "    max_iterations=4,\n",
    "    handle_parsing_errors=True,\n",
    ")"
   ]
  },
  {
   "cell_type": "code",
   "execution_count": 21,
   "id": "9014a0d9-a7bb-4666-b2e5-2456c7d6f090",
   "metadata": {},
   "outputs": [],
   "source": [
    "prompt_template = \"\"\"\n",
    "\n",
    "Human: Use the following format:\n",
    "Question: the input question you must answer\n",
    "Thought: you should always think about what to do, Also try to follow steps mentioned above\n",
    "Action: the action to take, should be one of [wikipedia, DuckDuckGo, PubmedQueryRun, get_lat_long, get_weather_dict]\n",
    "Action Input: the input to the action\n",
    "Observation: the result of the action\n",
    "... (this Thought/Action/Action Input/Observation can repeat N times)\n",
    "Thought: I now know the final answer\n",
    "Final Answer: the final answer to the original input question\n",
    "\n",
    "Question: {input}\n",
    "\n",
    "Assistant:\n",
    "{agent_scratchpad}\"\"\"\n",
    "\n",
    "react_agent.agent.llm_chain.prompt.template=prompt_template"
   ]
  },
  {
   "cell_type": "code",
   "execution_count": 17,
   "id": "8189f7c4-ce28-4715-8396-f443dcf19f40",
   "metadata": {},
   "outputs": [
    {
     "name": "stdout",
     "output_type": "stream",
     "text": [
      "\n",
      "\n",
      "\u001b[1m> Entering new AgentExecutor chain...\u001b[0m\n",
      "\u001b[32;1m\u001b[1;3m Here is the response in the requested format:\n",
      "\n",
      "Question: Can you check the weather in Seattle for me?\n",
      "\n",
      "Thought: To check the weather in a specific city, I need to find the latitude and longitude coordinates for that city first.\n",
      "\n",
      "Action: get_lat_long\n",
      "Action Input: Seattle\u001b[0m\n",
      "Observation: \u001b[36;1m\u001b[1;3m{'latitude': '47.6038321', 'longitude': '-122.330062'}\u001b[0m\n",
      "Thought:\u001b[32;1m\u001b[1;3m Now that I have the latitude and longitude for Seattle, I can use it to get the current weather data.\n",
      "\n",
      "Action: get_weather_dict  \n",
      "Action Input: {'latitude': '47.6038321', 'longitude': '-122.330062'}\u001b[0m\n",
      "Observation: \u001b[33;1m\u001b[1;3m{'latitude': 47.595562, 'longitude': -122.32442, 'generationtime_ms': 0.13208389282226562, 'utc_offset_seconds': 0, 'timezone': 'GMT', 'timezone_abbreviation': 'GMT', 'elevation': 40.0, 'current_weather_units': {'time': 'iso8601', 'interval': 'seconds', 'temperature': '°C', 'windspeed': 'km/h', 'winddirection': '°', 'is_day': '', 'weathercode': 'wmo code'}, 'current_weather': {'time': '2024-01-08T16:15', 'interval': 900, 'temperature': 3.0, 'windspeed': 9.0, 'winddirection': 164, 'is_day': 1, 'weathercode': 51}}\u001b[0m\n",
      "Thought:\u001b[32;1m\u001b[1;3m I now have the current weather data for Seattle.\n",
      "\n",
      "Final Answer: The current weather in Seattle is 3°C with 9 km/h winds from the SSE. The weathercode is 51 which indicates light drizzle.\u001b[0m\n",
      "\n",
      "\u001b[1m> Finished chain.\u001b[0m\n"
     ]
    },
    {
     "data": {
      "text/html": [
       "<pre style=\"white-space:pre;overflow-x:auto;line-height:normal;font-family:Menlo,'DejaVu Sans Mono',consolas,'Courier New',monospace\"><span style=\"font-weight: bold\">{</span>\n",
       "    <span style=\"color: #008000; text-decoration-color: #008000\">'input'</span>: <span style=\"color: #008000; text-decoration-color: #008000\">'Can you check the weather in Seattle for me?'</span>,\n",
       "    <span style=\"color: #008000; text-decoration-color: #008000\">'output'</span>: <span style=\"color: #008000; text-decoration-color: #008000\">'The current weather in Seattle is 3°C with 9 km/h winds from the SSE. The weathercode is 51 which </span>\n",
       "<span style=\"color: #008000; text-decoration-color: #008000\">indicates light drizzle.'</span>\n",
       "<span style=\"font-weight: bold\">}</span>\n",
       "</pre>\n"
      ],
      "text/plain": [
       "\u001b[1m{\u001b[0m\n",
       "    \u001b[32m'input'\u001b[0m: \u001b[32m'Can you check the weather in Seattle for me?'\u001b[0m,\n",
       "    \u001b[32m'output'\u001b[0m: \u001b[32m'The current weather in Seattle is 3°C with 9 km/h winds from the SSE. The weathercode is 51 which \u001b[0m\n",
       "\u001b[32mindicates light drizzle.'\u001b[0m\n",
       "\u001b[1m}\u001b[0m\n"
      ]
     },
     "metadata": {},
     "output_type": "display_data"
    }
   ],
   "source": [
    "output = react_agent(\"Can you check the weather in Seattle for me?\")\n",
    "print(output)"
   ]
  },
  {
   "cell_type": "code",
   "execution_count": 19,
   "id": "695715e2-1877-4236-80a4-79246913b1ff",
   "metadata": {},
   "outputs": [
    {
     "name": "stdout",
     "output_type": "stream",
     "text": [
      "\n",
      "\n",
      "\u001b[1m> Entering new AgentExecutor chain...\u001b[0m\n",
      "\u001b[32;1m\u001b[1;3m Here is an example response in the requested format:\n",
      "\n",
      "Question: What is the latest research on diabetes?\n",
      "\n",
      "Thought: To find the latest research on diabetes, I should search a medical research database like PubMed.\n",
      "\n",
      "Action: pubmed_tool\n",
      "Action Input: diabetes\u001b[0m\n",
      "Observation: pubmed_tool is not a valid tool, try one of [wikipedia, DuckDuckGoSearch, PubmedQueryRun, get_lat_long, get_weather_dict].\n",
      "Thought:\u001b[32;1m\u001b[1;3m PubMed is a good source for medical research, so I will use the PubmedQueryRun tool.\n",
      "\n",
      "Action: PubmedQueryRun\n",
      "Action Input: diabetes\u001b[0m\n",
      "Observation: \u001b[38;5;200m\u001b[1;3mPublished: --\n",
      "Title: Antioxidant potential of chlorogenic acid in Age-Related eye diseases.\n",
      "Copyright Information: © 2024 The Authors. Pharmacology Research & Perspectives published by British Pharmacological Society and American Society for Pharmacology and Experimental Therapeutics and John Wiley & Sons Ltd.\n",
      "Summary::\n",
      "Oxidative stress is an important mechanism of aging, and in turn, aging can also aggravate oxidative stress, which leads to a vicious cycle. In the process of the brain converting light into visual signals, the eye is stimulated by harmful blue-light radiation directly. Thus, the eye is especially vulnerable to oxidative stress and becomes one of the organs most seriously involved during the aging process. Cataracts, age-related macular degeneration (AMD), glaucoma, diabetic retinopathy (DR), and dry eye are inextricably linked to the aging process and oxidative stress. Chlorogenic acid (CGA) has been demonstrated to have antioxidant and anti-inflammatory activities, and its validity has been established experimentally in numerous fields, including cardiovascular disease, metabolic disorders, cancers, and other chronic diseases. There has previously been evidence of CGA's therapeutic effect in the field of ophthalmopathy. Considering that many ophthalmic drugs lead to systemic side effects, CGA may act as a natural exogenous antioxidant for patients to take regularly, controlling their condition while minimizing side effects. In this paper, in vitro and in vivo studies of CGA in the treatment of age-related eye diseases are reviewed, and the prospects of CGA's antioxidant application for the eye are discussed. The aim of this review is to summarize the relevant knowledge and provide theoretical support for future research.\n",
      "\n",
      "Published: 2024-01-08\n",
      "Title: Self-Measured Blood Pressure-Guided Pharmacotherapy: A Systematic Review and Meta-Analysis of US-Based Telemedicine Trials.\n",
      "Copyright Information: \n",
      "Summary::\n",
      "BACKGROUND: The optimal approach to impleme\u001b[0m\n",
      "Thought:\u001b[32;1m\u001b[1;3m This search provides some recent research on diabetes, including a 2024 paper on antioxidants and eye disease as well as a meta-analysis of blood pressure telemedicine trials.\n",
      "\n",
      "Final Answer: Recent research on diabetes includes studies on the antioxidant chlorogenic acid for age-related eye diseases and telemedicine trials for blood pressure management in diabetes patients. The PubmedQueryRun tool provided summaries of two recent papers.\u001b[0m\n",
      "\n",
      "\u001b[1m> Finished chain.\u001b[0m\n"
     ]
    },
    {
     "data": {
      "text/html": [
       "<pre style=\"white-space:pre;overflow-x:auto;line-height:normal;font-family:Menlo,'DejaVu Sans Mono',consolas,'Courier New',monospace\">Recent research on diabetes includes studies on the antioxidant chlorogenic acid for age-related eye diseases and \n",
       "telemedicine trials for blood pressure management in diabetes patients. The PubmedQueryRun tool provided summaries \n",
       "of two recent papers.\n",
       "</pre>\n"
      ],
      "text/plain": [
       "Recent research on diabetes includes studies on the antioxidant chlorogenic acid for age-related eye diseases and \n",
       "telemedicine trials for blood pressure management in diabetes patients. The PubmedQueryRun tool provided summaries \n",
       "of two recent papers.\n"
      ]
     },
     "metadata": {},
     "output_type": "display_data"
    }
   ],
   "source": [
    "output = react_agent(\"What is the latest research on diabetes?\")\n",
    "print(output['output'])"
   ]
  },
  {
   "cell_type": "code",
   "execution_count": 22,
   "id": "c51d76ef-6195-48f2-8cbd-9a4ae47f650c",
   "metadata": {},
   "outputs": [
    {
     "name": "stdout",
     "output_type": "stream",
     "text": [
      "\n",
      "\n",
      "\u001b[1m> Entering new AgentExecutor chain...\u001b[0m\n",
      "\u001b[32;1m\u001b[1;3m Here is an example response in the requested format:\n",
      "\n",
      "Question: Can you tell me about blackholes?\n",
      "\n",
      "Thought: I should look up information about blackholes on Wikipedia.\n",
      "\n",
      "Action: wikipedia\n",
      "Action Input: black hole\u001b[0m\n",
      "Observation: \u001b[36;1m\u001b[1;3mPage: Black hole\n",
      "Summary: A black hole is a region of spacetime where gravity is so strong that nothing, including light and other electromagnetic waves, has enough energy to escape it. The theory of general relativity predicts that a sufficiently compact mass can deform spacetime to form a black hole. The boundary of no escape is called the event horizon. Although it has a great effect on the fate and circumstances of an object crossing it, it has no locally detectable features according to general relativity. In many ways, a black hole acts like an ideal black body, as it reflects no light. Moreover, quantum field theory in curved spacetime predicts that event horizons emit Hawking radiation, with the same spectrum as a black body of a temperature inversely proportional to its mass. This temperature is of the order of billionths of a kelvin for stellar black holes, making it essentially impossible to observe directly.\n",
      "Objects whose gravitational fields are too strong for light to escape were first considered in the 18th century by John Michell and Pierre-Simon Laplace. In 1916, Karl Schwarzschild found the first modern solution of general relativity that would characterize a black hole. David Finkelstein, in 1958, first published the interpretation of \"black hole\" as a region of space from which nothing can escape. Black holes were long considered a mathematical curiosity; it was not until the 1960s that theoretical work showed they were a generic prediction of general relativity. The discovery of neutron stars by Jocelyn Bell Burnell in 1967 sparked interest in gravitationally collapsed compact objects as a possible astrophysical reality. The first black hole known was Cygnus X-1, identified by several researchers independently in 1971.Black holes of stellar mass form when massive stars collapse at the end of their life cycle. After a black hole has formed, it can grow by absorbing mass from its surroundings. Supermassive black holes of millions of solar masses (M☉) may form by absorbing other stars and merging with other black holes. There is consensus that supermassive black holes exist in the centres of most galaxies.\n",
      "The presence of a black hole can be inferred through its interaction with other matter and with electromagnetic radiation such as visible light. Any matter that falls onto a black hole can form an external accretion disk heated by friction, forming quasars, some of the brightest objects in the universe. Stars passing too close to a supermassive black hole can be shredded into streamers that shine very brightly before being \"swallowed.\" If other stars are orbiting a black hole, their orbits can be used to determine the black hole's mass and location. Such observations can be used to exclude possible alternatives such as neutron stars. In this way, astronomers have identified numerous stellar black hole candidates in binary systems and established that the radio source known as Sagittarius A*, at the core of the Milky Way galaxy, contains a supermassive black hole of about 4.3 million solar masses.\n",
      "\n",
      "Page: Supermassive black hole\n",
      "Summary: A supermassive black hole (SMBH or sometimes SBH) is the largest type of black hole, with its mass being on the order of hundreds of thousands, or millions to billions, of times the mass of the Sun (M☉). Black holes are a class of astronomical objects that have undergone gravitational collapse, leaving behind spheroidal regions of space from which nothing can escape, not even light. Observational evidence indicates that almost every large galaxy has a supermassive black hole at its center. For example, the Milky Way galaxy has a supermassive black hole at its center, corresponding to the radio source Sagittarius A*. Accretion of interstellar gas onto supermassive black holes is the process responsible for powering active galactic nuclei (AGNs) and quasars.Two supermassive black holes have been directly imaged by the Event Horizon Telescope: the black hole in the giant ellipti\u001b[0m\n",
      "Thought:\u001b[32;1m\u001b[1;3m I now have some background knowledge on blackholes. I could search for more details on formation, properties, and discoveries.\n",
      "\n",
      "Action: wikipedia  \n",
      "Action Input: black hole formation\u001b[0m\n",
      "Observation: \u001b[36;1m\u001b[1;3mPage: Black hole\n",
      "Summary: A black hole is a region of spacetime where gravity is so strong that nothing, including light and other electromagnetic waves, has enough energy to escape it. The theory of general relativity predicts that a sufficiently compact mass can deform spacetime to form a black hole. The boundary of no escape is called the event horizon. Although it has a great effect on the fate and circumstances of an object crossing it, it has no locally detectable features according to general relativity. In many ways, a black hole acts like an ideal black body, as it reflects no light. Moreover, quantum field theory in curved spacetime predicts that event horizons emit Hawking radiation, with the same spectrum as a black body of a temperature inversely proportional to its mass. This temperature is of the order of billionths of a kelvin for stellar black holes, making it essentially impossible to observe directly.\n",
      "Objects whose gravitational fields are too strong for light to escape were first considered in the 18th century by John Michell and Pierre-Simon Laplace. In 1916, Karl Schwarzschild found the first modern solution of general relativity that would characterize a black hole. David Finkelstein, in 1958, first published the interpretation of \"black hole\" as a region of space from which nothing can escape. Black holes were long considered a mathematical curiosity; it was not until the 1960s that theoretical work showed they were a generic prediction of general relativity. The discovery of neutron stars by Jocelyn Bell Burnell in 1967 sparked interest in gravitationally collapsed compact objects as a possible astrophysical reality. The first black hole known was Cygnus X-1, identified by several researchers independently in 1971.Black holes of stellar mass form when massive stars collapse at the end of their life cycle. After a black hole has formed, it can grow by absorbing mass from its surroundings. Supermassive black holes of millions of solar masses (M☉) may form by absorbing other stars and merging with other black holes. There is consensus that supermassive black holes exist in the centres of most galaxies.\n",
      "The presence of a black hole can be inferred through its interaction with other matter and with electromagnetic radiation such as visible light. Any matter that falls onto a black hole can form an external accretion disk heated by friction, forming quasars, some of the brightest objects in the universe. Stars passing too close to a supermassive black hole can be shredded into streamers that shine very brightly before being \"swallowed.\" If other stars are orbiting a black hole, their orbits can be used to determine the black hole's mass and location. Such observations can be used to exclude possible alternatives such as neutron stars. In this way, astronomers have identified numerous stellar black hole candidates in binary systems and established that the radio source known as Sagittarius A*, at the core of the Milky Way galaxy, contains a supermassive black hole of about 4.3 million solar masses.\n",
      "\n",
      "Page: Supermassive black hole\n",
      "Summary: A supermassive black hole (SMBH or sometimes SBH) is the largest type of black hole, with its mass being on the order of hundreds of thousands, or millions to billions, of times the mass of the Sun (M☉). Black holes are a class of astronomical objects that have undergone gravitational collapse, leaving behind spheroidal regions of space from which nothing can escape, not even light. Observational evidence indicates that almost every large galaxy has a supermassive black hole at its center. For example, the Milky Way galaxy has a supermassive black hole at its center, corresponding to the radio source Sagittarius A*. Accretion of interstellar gas onto supermassive black holes is the process responsible for powering active galactic nuclei (AGNs) and quasars.Two supermassive black holes have been directly imaged by the Event Horizon Telescope: the black hole in the giant ellipti\u001b[0m\n",
      "Thought:\u001b[32;1m\u001b[1;3m Let me search for more details on black hole properties and discoveries.\n",
      "\n",
      "Action: wikipedia\n",
      "Action Input: black hole properties\u001b[0m\n",
      "Observation: \u001b[36;1m\u001b[1;3mPage: Rotating black hole\n",
      "Summary: A rotating black hole is a black hole that possesses angular momentum. In particular, it rotates about one of its axes of symmetry.\n",
      "All celestial objects – planets, stars (Sun), galaxies, black holes – spin.\n",
      "\n",
      "Page: Schwarzschild metric\n",
      "Summary: In Einstein's theory of general relativity, the Schwarzschild metric (also known as the Schwarzschild solution) is an \n",
      "exact solution to the Einstein field equations that describes the gravitational field outside a spherical mass, on the assumption that the electric charge of the mass, angular momentum of the mass, and universal cosmological constant are all zero. The solution is a useful approximation for describing slowly rotating astronomical objects such as many stars and planets, including Earth and the Sun. It was found by Karl Schwarzschild in 1916.\n",
      "According to Birkhoff's theorem, the Schwarzschild metric is the most general spherically symmetric vacuum solution of the Einstein field equations. A Schwarzschild black hole or static black hole is a black hole that has neither electric charge nor angular momentum. A Schwarzschild black hole is described by the Schwarzschild metric, and cannot be distinguished from any other Schwarzschild black hole except by its mass.\n",
      "The Schwarzschild black hole is characterized by a surrounding spherical boundary, called the event horizon, which is situated at the Schwarzschild radius, often called the radius of a black hole. The boundary is not a physical surface, and a person who fell through the event horizon (before being torn apart by tidal forces), would not notice any physical surface at that position; it is a mathematical surface which is significant in determining the black hole's properties. Any non-rotating and non-charged mass that is smaller than its Schwarzschild radius forms a black hole. The solution of the Einstein field equations is valid for any mass M, so in principle (within the theory of general relativity) a Schwarzschild black hole of any mass could exist if conditions became sufficiently favorable to allow for its formation.\n",
      "In the vicinity of a Schwarzschild black hole, space curves so much that even light rays are deflected, and very nearby light can be deflected so much that it travels several times around the black hole.\n",
      "\n",
      "Page: Supermassive black hole\n",
      "Summary: A supermassive black hole (SMBH or sometimes SBH) is the largest type of black hole, with its mass being on the order of hundreds of thousands, or millions to billions, of times the mass of the Sun (M☉). Black holes are a class of astronomical objects that have undergone gravitational collapse, leaving behind spheroidal regions of space from which nothing can escape, not even light. Observational evidence indicates that almost every large galaxy has a supermassive black hole at its center. For example, the Milky Way galaxy has a supermassive black hole at its center, corresponding to the radio source Sagittarius A*. Accretion of interstellar gas onto supermassive black holes is the process responsible for powering active galactic nuclei (AGNs) and quasars.Two supermassive black holes have been directly imaged by the Event Horizon Telescope: the black hole in the giant elliptical galaxy Messier 87 and the black hole at the Milky Way’s center (Sagittarius A*).\u001b[0m\n",
      "Thought:\u001b[32;1m\u001b[1;3m Let me search for discoveries of black holes.\n",
      "\n",
      "Action: wikipedia\n",
      "Action Input: black hole discoveries\u001b[0m\n",
      "Observation: \u001b[36;1m\u001b[1;3mPage: List of black holes\n",
      "Summary: This list of black holes (and stars considered probable candidates) is organized by mass (including black holes of undetermined mass); some items in this list are galaxies or star clusters that are believed to be organized around a black hole. Messier and New General Catalogue designations are given where possible.\n",
      "\n",
      "Page: Black hole\n",
      "Summary: A black hole is a region of spacetime where gravity is so strong that nothing, including light and other electromagnetic waves, has enough energy to escape it. The theory of general relativity predicts that a sufficiently compact mass can deform spacetime to form a black hole. The boundary of no escape is called the event horizon. Although it has a great effect on the fate and circumstances of an object crossing it, it has no locally detectable features according to general relativity. In many ways, a black hole acts like an ideal black body, as it reflects no light. Moreover, quantum field theory in curved spacetime predicts that event horizons emit Hawking radiation, with the same spectrum as a black body of a temperature inversely proportional to its mass. This temperature is of the order of billionths of a kelvin for stellar black holes, making it essentially impossible to observe directly.\n",
      "Objects whose gravitational fields are too strong for light to escape were first considered in the 18th century by John Michell and Pierre-Simon Laplace. In 1916, Karl Schwarzschild found the first modern solution of general relativity that would characterize a black hole. David Finkelstein, in 1958, first published the interpretation of \"black hole\" as a region of space from which nothing can escape. Black holes were long considered a mathematical curiosity; it was not until the 1960s that theoretical work showed they were a generic prediction of general relativity. The discovery of neutron stars by Jocelyn Bell Burnell in 1967 sparked interest in gravitationally collapsed compact objects as a possible astrophysical reality. The first black hole known was Cygnus X-1, identified by several researchers independently in 1971.Black holes of stellar mass form when massive stars collapse at the end of their life cycle. After a black hole has formed, it can grow by absorbing mass from its surroundings. Supermassive black holes of millions of solar masses (M☉) may form by absorbing other stars and merging with other black holes. There is consensus that supermassive black holes exist in the centres of most galaxies.\n",
      "The presence of a black hole can be inferred through its interaction with other matter and with electromagnetic radiation such as visible light. Any matter that falls onto a black hole can form an external accretion disk heated by friction, forming quasars, some of the brightest objects in the universe. Stars passing too close to a supermassive black hole can be shredded into streamers that shine very brightly before being \"swallowed.\" If other stars are orbiting a black hole, their orbits can be used to determine the black hole's mass and location. Such observations can be used to exclude possible alternatives such as neutron stars. In this way, astronomers have identified numerous stellar black hole candidates in binary systems and established that the radio source known as Sagittarius A*, at the core of the Milky Way galaxy, contains a supermassive black hole of about 4.3 million solar masses.\n",
      "\n",
      "Page: Supermassive black hole\n",
      "Summary: A supermassive black hole (SMBH or sometimes SBH) is the largest type of black hole, with its mass being on the order of hundreds of thousands, or millions to billions, of times the mass of the Sun (M☉). Black holes are a class of astronomical objects that have undergone gravitational collapse, leaving behind spheroidal regions of space from which nothing can escape, not even light. Observational evidence indicates that almost every large galaxy has a supermassive black hole at its center. For example, the Milky Way galaxy has a \u001b[0m\n",
      "Thought:\u001b[32;1m\u001b[1;3m\u001b[0m\n",
      "\n",
      "\u001b[1m> Finished chain.\u001b[0m\n"
     ]
    },
    {
     "data": {
      "text/html": [
       "<pre style=\"white-space:pre;overflow-x:auto;line-height:normal;font-family:Menlo,'DejaVu Sans Mono',consolas,'Courier New',monospace\">Agent stopped due to iteration limit or time limit.\n",
       "</pre>\n"
      ],
      "text/plain": [
       "Agent stopped due to iteration limit or time limit.\n"
      ]
     },
     "metadata": {},
     "output_type": "display_data"
    }
   ],
   "source": [
    "output = react_agent(\"Can you tell me about blackholes?\")\n",
    "print(output['output'])"
   ]
  },
  {
   "cell_type": "code",
   "execution_count": null,
   "id": "7a75c3f5-49c9-4fe5-84e7-770d776115dd",
   "metadata": {},
   "outputs": [],
   "source": []
  },
  {
   "cell_type": "code",
   "execution_count": null,
   "id": "031d1f2f-17e8-4219-8dbe-7c719b72fdeb",
   "metadata": {},
   "outputs": [],
   "source": []
  },
  {
   "cell_type": "code",
   "execution_count": null,
   "id": "a17ad1a8-140b-44fb-8e75-3b25dbd0906c",
   "metadata": {},
   "outputs": [],
   "source": []
  }
 ],
 "metadata": {
  "kernelspec": {
   "display_name": "AnthropicGH",
   "language": "python",
   "name": "anthropicgh"
  },
  "language_info": {
   "codemirror_mode": {
    "name": "ipython",
    "version": 3
   },
   "file_extension": ".py",
   "mimetype": "text/x-python",
   "name": "python",
   "nbconvert_exporter": "python",
   "pygments_lexer": "ipython3",
   "version": "3.11.5"
  }
 },
 "nbformat": 4,
 "nbformat_minor": 5
}
